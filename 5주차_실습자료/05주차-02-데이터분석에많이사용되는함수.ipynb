{
 "cells": [
  {
   "cell_type": "markdown",
   "id": "818ca2fb",
   "metadata": {},
   "source": [
    "## 1.데이터 분석에서 많이 사용되는 함수\n",
    "- 출처: https://datascienceschool.net/02%20mathematics/04.01%20%ED%95%A8%EC%88%98.html"
   ]
  },
  {
   "cell_type": "markdown",
   "id": "17819537",
   "metadata": {},
   "source": [
    "- <a href=\"#1.다항식함수\">1. 다항식 함수</a>\n",
    "- <a href=\"#2.최대함수최소함수\">2. 최대 함수 최소 함수</a>\n",
    "- <a href=\"#3.지수함수\">3. 지수 함수</a>\n",
    "- <a href=\"#4.로지스틱함수\">4. 로지스틱 함수</a>\n",
    "- <a href=\"#5.로그함수\">5. 로그 함수</a>\n",
    "- <a href=\"#6.소프트플러스함수\">6. 소프트플러스 함수</a>\n",
    "- <a href=\"#7.다변수함수\">7. 다변수 함수 (서피스 플롯 or 컨투어 플롯)</a>\n",
    "- <a href=\"#8.분리가능다변수함수\">8. 분리 가능 다변수 함수 (확률변수에서 중요함)</a>\n",
    "- <a href=\"#9.다변수다출력함수\">9. 다변수 다출력 함수 (소프트맥스 함수)</a>"
   ]
  },
  {
   "cell_type": "markdown",
   "id": "442ba677",
   "metadata": {},
   "source": [
    "---------------"
   ]
  },
  {
   "cell_type": "markdown",
   "id": "0ffa04e0",
   "metadata": {},
   "source": [
    "### <a name=\"1.다항식함수\">1. 다항식 함수</a>\n",
    "상수항, 일차항, 이차항 등의 거듭제곱 항의 선형조합으로 이루어진 함수\n",
    "- f(x)=c0+c1x+c2x^2+...+cnx^n"
   ]
  },
  {
   "cell_type": "markdown",
   "id": "f5930d61",
   "metadata": {},
   "source": [
    "-------------"
   ]
  },
  {
   "cell_type": "markdown",
   "id": "9f3ba261",
   "metadata": {},
   "source": [
    "### <a name=\"2.최대함수최소함수\">2. 최대(max) 함수와 최소(min) 함수 \n",
    "- np.max(), np.maximum(), np.min()\n",
    "- ReLU(Rectified Liniear Unit)함수: \n",
    "    보통 y=0으로 고정해서 입력값 x가 양수이면 그대로 출력하고 음수일 때 0으로 만들 때 주로 사용"
   ]
  },
  {
   "cell_type": "code",
   "execution_count": null,
   "id": "f10d0174",
   "metadata": {
    "scrolled": true
   },
   "outputs": [],
   "source": [
    "import numpy as np\n",
    "import matplotlib.pyplot as plt\n",
    "# plt.rc('font', family='AppleGothic')            # for 맥 노트북 사용자\n",
    "plt.rcParams['font.family'] = 'Malgun Gothic'  # for 윈도우 노트북 사용자\n",
    "plt.rcParams['axes.unicode_minus'] = False     # 그래프에서 (-)숫자표시\n",
    "plt.rcParams['figure.figsize'] = (5,3)\n",
    "\n",
    "xx = np.linspace(-10, 10, 100)\n",
    "plt.plot(xx, np.maximum(xx, 0))\n",
    "plt.title('max(x,0) 또는 ReLU')\n",
    "plt.xlabel('$x$')\n",
    "plt.ylabel('$ReLU(x)$')\n",
    "plt.show()"
   ]
  },
  {
   "cell_type": "markdown",
   "id": "62549a7b",
   "metadata": {},
   "source": [
    "----------"
   ]
  },
  {
   "cell_type": "markdown",
   "id": "70f7c43c",
   "metadata": {},
   "source": [
    "### <a name=\"3.지수 함수\">3. 지수함수(Exponentioal function)\n",
    "- 거듭제곱의 지수를 변수로 하고, 정의역을 실수 전체로 정의하는 초월함수이다. 로그 함수의 역함수이다.\n",
    "- y = $a^x$ 와 같이 어떤 값을 입력값으로 거듭제곱하여 출력을 구하는 함수에서 아래에 있는 수를 밑(base). \n",
    "- 밑을 오일러 수 e(약 2.718)로 하여 거듭제곱하는 함수\n",
    "- 넘파이에서 np.e는 오일러수, np.exp() 지수함수"
   ]
  },
  {
   "cell_type": "code",
   "execution_count": null,
   "id": "ee2213b7",
   "metadata": {},
   "outputs": [],
   "source": [
    "np.e"
   ]
  },
  {
   "cell_type": "code",
   "execution_count": null,
   "id": "106c4e3d",
   "metadata": {
    "scrolled": true
   },
   "outputs": [],
   "source": [
    "np.exp(-10), np.exp(-1), np.exp(-0.1), np.exp(0), np.exp(0.1), np.exp(1), np.exp(10)"
   ]
  },
  {
   "cell_type": "code",
   "execution_count": null,
   "id": "d86f5843",
   "metadata": {},
   "outputs": [],
   "source": [
    "# 두 지수함수의 곱의 값은 입력값 합의 지수함수값가 같다.\n",
    "np.exp(2+3), np.exp(2) * np.exp(3)"
   ]
  },
  {
   "cell_type": "code",
   "execution_count": null,
   "id": "365d8662",
   "metadata": {
    "scrolled": true
   },
   "outputs": [],
   "source": [
    "xx = np.linspace(-2, 2, 100)\n",
    "yy = np.exp(xx)\n",
    "\n",
    "plt.plot(xx, yy)\n",
    "plt.title('지수함수')\n",
    "plt.axhline(1, c='r', ls='--')\n",
    "plt.axhline(0, c='r', ls='--')\n",
    "plt.axvline(0, c='r', ls='--')\n",
    "plt.xlabel('$x$')\n",
    "plt.ylabel('$\\exp(x)$')\n",
    "plt.show()\n"
   ]
  },
  {
   "cell_type": "markdown",
   "id": "d1364071",
   "metadata": {},
   "source": [
    "--------------"
   ]
  },
  {
   "cell_type": "markdown",
   "id": "7c048e1f",
   "metadata": {},
   "source": [
    "### <a name=\"4.로지스틱함수\">4. 로지스틱 함수(Logistic fuction)\n",
    "- 로지스틱 함수는 지수함수를 변형한 함수로 회귀분석이나 인공신경망에서 자주 사용됨\n",
    "- 로지스틱 함수는 원래 시그모이드 함수의 하나다. 하지만 시그모이드 함수 중에서는 로지스틱함수가 가장 널리 쓰이기 때문에 보통 시그모이드 함수라고 하면 이 로지스틱 함수를 뜻한다.\n",
    "    * **시그모이드(sigmod) 함수: S자형 곡선 또는 시그모이드 곡선을 갖는 수학 함수**"
   ]
  },
  {
   "cell_type": "code",
   "execution_count": null,
   "id": "c18d2c09",
   "metadata": {
    "scrolled": true
   },
   "outputs": [],
   "source": [
    "def logistic(x):\n",
    "    return 1 / (1 + np.exp(-x))\n",
    "\n",
    "xx = np.linspace(-10, 10, 100)\n",
    "\n",
    "plt.plot(xx, logistic(xx))\n",
    "plt.title('로지스틱 함수')\n",
    "plt.xlabel('$x$')\n",
    "plt.ylabel('$\\sigma(x)$')\n",
    "plt.show()"
   ]
  },
  {
   "cell_type": "markdown",
   "id": "4be48960",
   "metadata": {},
   "source": [
    "-----------"
   ]
  },
  {
   "cell_type": "markdown",
   "id": "f72e06f3",
   "metadata": {},
   "source": [
    "### <a name=\"5.로그함수\">5. 로그 함수 \n",
    "- e를 거듭제곱하여 특정한 수 a가 되도록 하는 수를 $loga$ 라고 표기하고 로그라고 읽는다.\n",
    "- 확률론에서 가장 많이 사용되는 함수\n",
    "- 로그함수의 성질\n",
    "  * 로그함수는 곱하기를 더하기로 변환한다.\n",
    "  * 어떤 함수에 로그를 적용해도 함수의 최고점, 최저점의 위치는 변하지 않는다.\n",
    "  * 로그함수는 0~1사이의 작은 값을 확대시켜 보여준다."
   ]
  },
  {
   "cell_type": "code",
   "execution_count": null,
   "id": "0b6bd1bc",
   "metadata": {},
   "outputs": [],
   "source": [
    "np.exp(2.3025851)"
   ]
  },
  {
   "cell_type": "code",
   "execution_count": null,
   "id": "b77d4cc7",
   "metadata": {},
   "outputs": [],
   "source": [
    "np.log(10)"
   ]
  },
  {
   "cell_type": "code",
   "execution_count": null,
   "id": "2f4d9779",
   "metadata": {},
   "outputs": [],
   "source": [
    "xx = np.linspace(0.01, 8, 100)\n",
    "\n",
    "plt.plot(xx, np.log(xx))\n",
    "plt.title('로그함수')\n",
    "plt.axhline(0, c='r', ls='--')\n",
    "plt.axvline(0, c='r', ls='--')\n",
    "plt.axvline(1, c='r', ls='--')\n",
    "plt.xlabel('$x$')\n",
    "plt.ylabel('$\\log(x)$')\n",
    "plt.show()"
   ]
  },
  {
   "cell_type": "markdown",
   "id": "edd3075f",
   "metadata": {},
   "source": [
    "#### #로그함수의 성질"
   ]
  },
  {
   "cell_type": "markdown",
   "id": "58934805",
   "metadata": {},
   "source": [
    " 1. 로그함수는 곱하기를 더하기로 변환한다.\n",
    " - $log(x1*x2) = logx1 + logx2$\n",
    " - $log x^n = nlogx$"
   ]
  },
  {
   "cell_type": "markdown",
   "id": "5d8eff6f",
   "metadata": {},
   "source": [
    "#### [문제] log2값은 약 0.69, log3값은 1.10이다. 이때 log 12값은?"
   ]
  },
  {
   "cell_type": "code",
   "execution_count": null,
   "id": "b08dc057",
   "metadata": {},
   "outputs": [],
   "source": [
    "# log12 = log(2^2 x 3) = log2 + log2 + log3=0.69x2+1.10 = 2.48\n",
    "np.log(12)"
   ]
  },
  {
   "cell_type": "markdown",
   "id": "bf3e419f",
   "metadata": {},
   "source": [
    "2.어떤 함수에 로그를 적용해도 함수의 최고점, 최저점의 위치는 변하지 않는다.\n",
    " - arg max f(x) = arg max logf(x)"
   ]
  },
  {
   "cell_type": "code",
   "execution_count": null,
   "id": "d388b6e7",
   "metadata": {},
   "outputs": [],
   "source": [
    "def ff(x):\n",
    "    return x**3 - 12*x + 20 * np.sin(x) + 7\n",
    "\n",
    "xx = np.linspace(-4, 4, 300)\n",
    "yy = ff(xx)\n",
    "\n",
    "plt.subplot(211)     # 2행 1열 첫번째\n",
    "plt.plot(xx, yy)\n",
    "plt.axhline(1, c='r', ls='--')\n",
    "plt.yticks([0, 1, 5, 10])\n",
    "plt.ylim(-2, 15)\n",
    "plt.title('$f(x)$')\n",
    "\n",
    "plt.subplot(212)     # 2행 1열 두번째\n",
    "plt.plot(xx, np.log(yy))\n",
    "plt.axhline(1, c='r', ls='--')\n",
    "plt.title('$log f(x)$')\n",
    "\n",
    "plt.tight_layout()\n",
    "plt.show()"
   ]
  },
  {
   "cell_type": "markdown",
   "id": "55ee9372",
   "metadata": {},
   "source": [
    "3.로그함수는 0~1사이의 작은 값을 확대시켜 보여준다."
   ]
  },
  {
   "cell_type": "code",
   "execution_count": null,
   "id": "5c1a2352",
   "metadata": {
    "scrolled": false
   },
   "outputs": [],
   "source": [
    "np.random.seed(0)\n",
    "x = np.random.rand(5)\n",
    "x = x / x.sum()\n",
    "print(x)\n",
    "\n",
    "plt.subplot(211)\n",
    "plt.title('0, 1 사이 숫자들의 $\\log$ 변환')\n",
    "plt.bar(range(1,6), x)\n",
    "plt.ylim(0, 1)\n",
    "plt.ylabel('x')\n",
    "\n",
    "plt.subplot(212)\n",
    "plt.bar(range(1,6), np.log(x))\n",
    "plt.ylabel('log x')\n",
    "\n",
    "plt.show()"
   ]
  },
  {
   "cell_type": "markdown",
   "id": "0e835bae",
   "metadata": {},
   "source": [
    "----------"
   ]
  },
  {
   "cell_type": "markdown",
   "id": "bca46dc5",
   "metadata": {},
   "source": [
    "### <a name=\"6.소프트플러스함수\">6. 소프트플러스 함수(Softplus function)\n",
    "- 지수함수와 로그함수를 결합하여 만든 함수\n",
    "- 0을 인수로 갖는 최대함수와 비슷하지만 x=0 근처에서 값이 부드럽게 변한다"
   ]
  },
  {
   "cell_type": "code",
   "execution_count": null,
   "id": "57bdfed7",
   "metadata": {
    "scrolled": true
   },
   "outputs": [],
   "source": [
    "def softplus(x):\n",
    "    return np.log(1 + np.exp(x))\n",
    "\n",
    "xx = np.linspace(-10, 10, 100)\n",
    "\n",
    "plt.plot(xx, softplus(xx))\n",
    "plt.title('소프트플러스 함수')\n",
    "plt.xlabel('$x$')\n",
    "plt.ylabel('Softplus($x$)')\n",
    "plt.show()"
   ]
  },
  {
   "cell_type": "markdown",
   "id": "21d1d2ee",
   "metadata": {},
   "source": [
    "---------------"
   ]
  },
  {
   "cell_type": "markdown",
   "id": "bc08c6f4",
   "metadata": {},
   "source": [
    "### <a name=\"7.다변수함수\">7. 다변수 함수(Multivariate function)\n",
    "- 복수의 입력변수를 갖는 함수: z = f(x, y)\n",
    "- 3차원 서피스 플롯(surface plot) 또는 컨투어 플롯(contour plot)으로 나타낼 수 있다.\n",
    "- 3차원 자료를 시각화 하는 방법은 명암이 아닌 등고선(contour)를 사용하여 표현함 "
   ]
  },
  {
   "cell_type": "markdown",
   "id": "83b5379b",
   "metadata": {},
   "source": [
    "#####  f(x, y) = $2x^2 + 6xy + 7y^2 - 26x - 54y + 107$"
   ]
  },
  {
   "cell_type": "code",
   "execution_count": null,
   "id": "12cde29c",
   "metadata": {
    "scrolled": true
   },
   "outputs": [],
   "source": [
    "def f(x, y):\n",
    "    return 2*x**2 + 6*x*y + 7*y**2 - 26*x - 54*y + 107\n",
    "\n",
    "xx = np.linspace(-3, 7, 100)\n",
    "yy = np.linspace(-3, 7, 100)\n",
    "X, Y = np.meshgrid(xx, yy)\n",
    "Z = f(X, Y)\n",
    "\n",
    "fig = plt.figure()\n",
    "#ax = fig.gca(projection='3d')  # warnning 발생시 아래 코드 사용\n",
    "ax = fig.add_subplot(projection='3d')  # \n",
    "ax.plot_surface(X, Y, Z, linewidth=0.1)\n",
    "ax.view_init(40, -110)\n",
    "plt.xlabel('x')\n",
    "plt.ylabel('y')\n",
    "ax.set_zlabel('z')\n",
    "plt.title('서피스 플롯(Surface Plot)')\n",
    "plt.show()"
   ]
  },
  {
   "cell_type": "code",
   "execution_count": null,
   "id": "ff1f044c",
   "metadata": {
    "scrolled": false
   },
   "outputs": [],
   "source": [
    "CS = plt.contour(X, Y, Z, levels=np.logspace(0, 3, 10))\n",
    "plt.clabel(CS, fmt='%d')\n",
    "plt.title('컨투어 플롯')\n",
    "plt.show()"
   ]
  },
  {
   "cell_type": "markdown",
   "id": "6d0bc3d6",
   "metadata": {},
   "source": [
    "--------------------"
   ]
  },
  {
   "cell_type": "markdown",
   "id": "8ef493fd",
   "metadata": {},
   "source": [
    "### <a name=\"8.분리가능다변수함수\">8. 분리 가능 다변수함수\n",
    "- 다변수함수의 곱으로 표현 가능한 다변수함수\n",
    "- $f(x,y) = f1(x)f2(y)$\n",
    "- 2차원 함수에 대한 1차원 단변수함수는 3차원 공간상의 지형을 케이크 자르듯이 나눌 때 생기는 단면 모양과 같다. 그리고 분리 가능 다변수 함수는 단면 모양이 모두 같다.\n",
    "\n",
    "$g(x,y) = exp(-x^2 - 16y^2) = exp(-x^2)exp(-16y^2) = g1(x)g2(y)$"
   ]
  },
  {
   "cell_type": "code",
   "execution_count": null,
   "id": "ae859c7b",
   "metadata": {
    "scrolled": false
   },
   "outputs": [],
   "source": [
    "from matplotlib import transforms\n",
    "from matplotlib.ticker import NullFormatter\n",
    "\n",
    "def g1(x):\n",
    "    return np.exp(-x ** 2)\n",
    "\n",
    "def g2(y):\n",
    "    return np.exp(-16 * y ** 2)\n",
    "\n",
    "def g(x ,y):\n",
    "    return g1(x) * g2(y)\n",
    "\n",
    "xx = np.linspace(-1, 1, 100)\n",
    "yy = np.linspace(-1, 1, 100)\n",
    "X, Y = np.meshgrid(xx, yy)\n",
    "Z = g(X, Y)\n",
    "\n",
    "left, width = 0.1, 0.65\n",
    "bottom, height = 0.1, 0.65\n",
    "bottom_h = left_h = left + width + 0.02\n",
    "rect  = [left, bottom, width, height]\n",
    "rectx = [left, bottom_h, width, 0.2]\n",
    "recty = [left_h, bottom, 0.2, height]\n",
    "\n",
    "plt.figure(1, figsize=(8,8))\n",
    "ax = plt.axes(rect)\n",
    "axx = plt.axes(rectx)\n",
    "axy = plt.axes(recty)\n",
    "\n",
    "nullfmt = NullFormatter()\n",
    "axx.xaxis.set_major_formatter(nullfmt)\n",
    "axy.yaxis.set_major_formatter(nullfmt)\n",
    "\n",
    "ax.contour(X, Y, Z)\n",
    "ax.axhline(0, c='r', ls='-')\n",
    "ax.axhline(0.1, c='g', ls='--')\n",
    "ax.axhline(0.2, c='b', ls='-.')\n",
    "ax.axhline(0.3, c='c', ls=':')\n",
    "ax.set_xlabel('x')\n",
    "ax.set_ylabel('y')\n",
    "\n",
    "axx.plot(xx, g1(xx), c='r')\n",
    "axx.plot(xx, g2(0.1)*g1(xx), c='g', ls='--')\n",
    "axx.plot(xx, g2(0.2)*g1(xx), c='b', ls='-.')\n",
    "axx.plot(xx, g2(0.3)*g1(xx), c='c', ls=':')         \n",
    "axx.set_title('g1(x)')\n",
    "axx.text(-0.2, 0.3, 'y=0.3로 자른 단면')\n",
    "axx.text(-0.2, 0.6, 'y=0.2로 자른 단면')\n",
    "axx.text(-0.2, 0.9, 'y=0.1로 자른 단면')\n",
    "\n",
    "base = axy.transData\n",
    "rot = transforms.Affine2D().rotate_deg(-90)\n",
    "axy.plot(yy, g2(yy), transform=rot + base)\n",
    "axy.set_title('g2(y)')\n",
    "axy.axhline(0, xmax=g2(0), c='r', ls='-')\n",
    "plt.text(0.05, 0.02, '$g_2$(0)={:.2f}'.format(g2(0)))\n",
    "axy.axhline(0.1, xmax=g2(0.1), c='g', ls='--')\n",
    "plt.text(0.05, 0.12, '$g_2$(0.1)={:.2f}'.format(g2(0.1)))\n",
    "axy.axhline(0.2, xmax=g2(0.2), c='b', ls='-.')\n",
    "plt.text(0.05, 0.22, '$g_2$(0.2)={:.2f}'.format(g2(0.2)))\n",
    "axy.axhline(0.3, xmax=g2(0.3), c='c', ls=':')\n",
    "plt.text(0.05, 0.32, '$g_2$(0.3)={:.2f}'.format(g2(0.3)))\n",
    "\n",
    "axx.set_xlim(ax.get_xlim())\n",
    "axx.set_ylim(0, 1)\n",
    "axy.set_xlim(ax.get_ylim())\n",
    "axy.set_ylim(0, 1)\n",
    "\n",
    "plt.suptitle('$g(x,y) = \\exp(-x^2)\\exp(-16y^2) = g_1(x)g_2(y)$의 그래프', y=1.04)\n",
    "plt.show()"
   ]
  },
  {
   "cell_type": "markdown",
   "id": "2e27cc55",
   "metadata": {},
   "source": [
    "---------------"
   ]
  },
  {
   "cell_type": "markdown",
   "id": "8d487eef",
   "metadata": {},
   "source": [
    "### <a name=\"9.다변수다출력함수\">9. 다변수 다출력 함수 (Softmax function)\n",
    "- 입력변수뿐 아니라 출력변수도 여러 개 일 경우 출력을 벡터나 행렬로 나타낼 수 있다.\n",
    "- 소프트맥스(Softmax) 함수는 다차원 벡터를 입력받아 다차원 벡터를 출력한다.\n",
    "- 출력 벡터는 다음과 같은 특성을 갖는다.\n",
    "     - 모든 출력 원소는 0과 1 사이값을 갖는다.\n",
    "     - 모든 출력 원소의 합은 1이다.\n",
    "     - 입력 원소의 크기 순서와 출력 원소의 크기 순서가 같다.\n",
    "\n",
    "- 소프트맥스 함수는 다변수 입력을 확률처럼 보이게 출력한다.(이러한 특성 때문에 인공신경망의 마지막단계에서 출력을 조건부확률로 변형하는데 사용한다.)"
   ]
  },
  {
   "cell_type": "code",
   "execution_count": null,
   "id": "bba705d7",
   "metadata": {},
   "outputs": [],
   "source": [
    "def softmax(x, w): # x는 1차원 배열, w는 가중치 벡터\n",
    "    e = np.exp(w * x)\n",
    "    return np.exp(w * x) / e.sum()\n",
    "\n",
    "x = [2.0, 1.0, 0.5]\n",
    "y = softmax(x, np.ones(3))\n",
    "\n",
    "print(y)\n",
    "print(np.sum(y))"
   ]
  },
  {
   "cell_type": "code",
   "execution_count": null,
   "id": "895499bd",
   "metadata": {
    "scrolled": true
   },
   "outputs": [],
   "source": [
    "# 가중치가 커지면 최대값과 최소값의 차이가 더 벌어진다.\n",
    "softmax(x, 4 * np.ones(3))   "
   ]
  },
  {
   "cell_type": "markdown",
   "id": "89b0b753",
   "metadata": {},
   "source": [
    "------------"
   ]
  },
  {
   "cell_type": "markdown",
   "id": "5b58f3ad",
   "metadata": {},
   "source": [
    "### 함수의 평행이동\n",
    "- 함수를 그래프 상에서 오른쪽/왼쪽/상/하로 평행 이동할 때 함수식을 바꾸면 된다.\n",
    "- 단변수함수를 그래프 상에서 오른쪽으로 a만큼 이동\n",
    "     - $f(x)  -> f(x - a)$\n",
    "     - $f(x) = x^2 + 2x -> f(x - 2) = (x - 2)^2 + 2(x - 2)$\n",
    "- 단변수함수를 그래프 상에서 위로 b큼 이동\n",
    "     - $f(x)  -> f(x) + b$     \n",
    "- 다변수함수를 그래프 상에서 오른쪽으로 a만큼 위로 b만큼 이동\n",
    "     - $f(x, y)  -> f(x - a, y - b)$     "
   ]
  },
  {
   "cell_type": "markdown",
   "id": "1a131271",
   "metadata": {},
   "source": [
    "##### 로지스틱함수를 오른쪽으로 5, 아래로 1만큼 이동"
   ]
  },
  {
   "cell_type": "code",
   "execution_count": null,
   "id": "3e05f733",
   "metadata": {},
   "outputs": [],
   "source": [
    "xx = np.linspace(-10, 10, 100)\n",
    "plt.plot(xx, logistic(xx), label='$\\sigma(x)$', ls='-')\n",
    "plt.plot(xx, logistic(xx-5)-1, label='$\\sigma(x-5)-1$', ls='--')\n",
    "plt.legend()\n",
    "plt.title('로지스틱함수를 오른쪽으로 5, 아래로 1만큼 이동')\n",
    "plt.show()"
   ]
  },
  {
   "cell_type": "markdown",
   "id": "60304bf7",
   "metadata": {},
   "source": [
    "##### 다변수함수를 그래프 상에서 오른쪽으로 a만큼 위로 b만큼 이동\n",
    "$f(x, y)  -> f(x - a, y - b)$ "
   ]
  },
  {
   "cell_type": "code",
   "execution_count": null,
   "id": "0b741697",
   "metadata": {
    "scrolled": true
   },
   "outputs": [],
   "source": [
    "def g(x, y):\n",
    "    return np.exp(-x ** 2 -16 * y ** 2)\n",
    "\n",
    "xx = np.linspace(-1, 1, 100)\n",
    "yy = np.linspace(-1, 1, 100)\n",
    "X, Y = np.meshgrid(xx, yy)\n",
    "Z1 = g(X, Y)\n",
    "Z2 = g(X-0.5, Y-0.75)\n",
    "\n",
    "plt.contour(X, Y, Z1)\n",
    "plt.contour(X, Y, Z2, linestyles='--')\n",
    "plt.text(-0.05, -0.02, 'f(x,y)')\n",
    "plt.text(0.35, 0.73, 'f(x-0.5,y-0.75)')\n",
    "plt.ylim(-0.5, 1)\n",
    "plt.title('다변수함수의 평행이동')\n",
    "plt.show()"
   ]
  },
  {
   "cell_type": "markdown",
   "id": "b27aa881",
   "metadata": {},
   "source": [
    "---------------------"
   ]
  },
  {
   "cell_type": "markdown",
   "id": "0babbb51",
   "metadata": {},
   "source": [
    "### 함수의 스케일링\n",
    "- 단변수함수를 x축 방향으로 a배만큼 늘리려면\n",
    "    - $f(x) -> f({x \\over a})$\n",
    "- 단변수함수를 y축 방향으로 b배만큼 늘리려면\n",
    "    - $f(x) -> bf(x)$     "
   ]
  },
  {
   "cell_type": "markdown",
   "id": "5f6feecc",
   "metadata": {},
   "source": [
    "#### 로지스틱함수를 x축 방향으로 1/2배, y축 방향으로 2배 한다."
   ]
  },
  {
   "cell_type": "code",
   "execution_count": null,
   "id": "79da8c8b",
   "metadata": {},
   "outputs": [],
   "source": [
    "xx = np.linspace(-6, 6, 100)\n",
    "plt.plot(xx, logistic(xx), label='$\\sigma(x)$', ls='-')\n",
    "plt.plot(xx, 2*logistic(2*xx), label='2$\\sigma(2x)$', ls='--')\n",
    "plt.legend()\n",
    "plt.title('로지스틱함수를 x축 방향으로 1/2배, y축 방향으로 2')\n",
    "plt.show()"
   ]
  },
  {
   "cell_type": "markdown",
   "id": "b1e6a9e5",
   "metadata": {},
   "source": [
    "-------"
   ]
  },
  {
   "cell_type": "markdown",
   "id": "f4f4dd6e",
   "metadata": {},
   "source": [
    "## 2. 미분법"
   ]
  },
  {
   "cell_type": "markdown",
   "id": "519ca18d",
   "metadata": {},
   "source": [
    "### 데이터 분석에 미분이 필요한 이유"
   ]
  },
  {
   "cell_type": "markdown",
   "id": "721b4209",
   "metadata": {},
   "source": [
    "### 예측 모형의 성능\n",
    "- **데이터 분석의 목표**: 예측 오차가 가장 적은 최적의 예측 모형을 구하는 것\n",
    "- 예측 모형 함수의 계수(모수)를 바꾸어 최적의 예측 모형 찾는다    \n",
    "- 성능은 크기를 비교할 수 있어야한다.\n",
    "- 모수를 입력받아 오차 혹은 오류의 크기를 출력하는 함수를 가장 작게 하는 것\n",
    "-->이런 함수를 목적함수라고 한다: 손실함수(loss function), 비용함수(cost function), 오차함수(error function)\n",
    "- **최적화(Optimization)**: 목적함수가 주어졌을 때 이 목적함수의 값을 가장 크게 혹은 적게 할 수 있는 입력값(모수)를 구하는 것\n",
    "- **미분(differentiation)**: 입력값이 변했을 때 함수의 출력값이 어떻게 달라지는지를 정량적으로 알아야 하는데 이 과정이 미분이다.   "
   ]
  },
  {
   "cell_type": "markdown",
   "id": "aa3a2ca5",
   "metadata": {},
   "source": [
    "##### [예제]\n",
    "조절나사의 각도 x를 설정하여 출력되는 음량 y를 제어하는 앰프가 있을 때 <br>\n",
    "--> 출력 음량(y)이 최대가 되는 조절나사의 각도(x)를 찾는 문제 에서 미분이 사용됨"
   ]
  },
  {
   "cell_type": "markdown",
   "id": "64f1a784",
   "metadata": {},
   "source": [
    "### 기울기\n",
    "- **수치적 최적화는 가장 적은 횟수로 여러 x값을 시도하여 최적의 값을 찾는 방법**\n",
    "- 변화율(y증감분/x증감분)에 따른 기울기(slope) 혹은 민감도(sensitivity)를 찾는 것"
   ]
  },
  {
   "cell_type": "markdown",
   "id": "8fc9b45b",
   "metadata": {},
   "source": [
    "##### 3차 함수 그래프의 기울기 \n",
    "$x^3 -3x^2 + x$\n",
    "- 접점에서의 기울기 = 접점에서의 미분계수 ($3x^2 -6x + 1$)\n",
    "- if x==0 일 때 기울기는 -->  1(빨간색 선)\n",
    "- if x==1 일 때 기울기는 --> -2(초록색 선)"
   ]
  },
  {
   "cell_type": "code",
   "execution_count": null,
   "id": "248f32ec",
   "metadata": {},
   "outputs": [],
   "source": [
    "def f(x):\n",
    "    return x**3 -3 * x**2 + x\n",
    "\n",
    "x = np.linspace(-1, 3, 400)\n",
    "y = f(x)\n",
    "\n",
    "plt.plot(x, y)\n",
    "plt.plot(0, 0, 'ro')\n",
    "plt.plot(x, x, 'r:')\n",
    "plt.plot(1, -1, 'go')\n",
    "plt.plot(x, (3*1**2-6*1+1)*(x-1)-1, 'g--')\n",
    "\n",
    "plt.xlim(-3.5, 5.5)\n",
    "plt.ylim(-4, 2)\n",
    "plt.xticks(np.arange(-3, 6))\n",
    "plt.yticks(np.arange(-4, 2))\n",
    "\n",
    "plt.annotate('', xy=(1,0), xytext=(0,0), arrowprops=dict(facecolor='gray'))\n",
    "plt.annotate('', xy=(1,1), xytext=(1,0), arrowprops=dict(facecolor='gray'))\n",
    "\n",
    "plt.annotate('', xy=(2,-1), xytext=(1,-1), arrowprops=dict(facecolor='gray'))\n",
    "plt.annotate('', xy=(2,-3), xytext=(2,-1), arrowprops=dict(facecolor='gray'))\n",
    "\n",
    "plt.xlabel('x')\n",
    "plt.ylabel('f(x)')\n",
    "plt.title('함수의 기울기')\n",
    "plt.show()"
   ]
  },
  {
   "cell_type": "markdown",
   "id": "ac24bc65",
   "metadata": {},
   "source": [
    "### 수치미분\n",
    "- scipy.misc 라이브러리의 derivative() 함수 사용하여 기울기 계산\n",
    "- f: 기울기를 구하고자 하는 하무, x: 기울기를 구할 위치, dx: 기울기를 구하기위해 이동할 거리"
   ]
  },
  {
   "cell_type": "markdown",
   "id": "0e2e839d",
   "metadata": {},
   "source": [
    "#### [연습문제] x의 기울기는?\n",
    "- 위 그래프에서 x값들에 대한 기울기는 얼마일까? <br>\n",
    "\n",
    "x:slope -> \n",
    "{-0.5:2.5,\n",
    "    0:  1,\n",
    "  0.5: -1,\n",
    "    1: -2,\n",
    "  1.5: -1,\n",
    "    2:  1,\n",
    "  2.5: 2.5}"
   ]
  },
  {
   "cell_type": "code",
   "execution_count": null,
   "id": "56374994",
   "metadata": {},
   "outputs": [],
   "source": [
    "def f(x):\n",
    "    return x**3 - 3 * x**2 + x\n",
    "\n",
    "from scipy.misc import derivative\n",
    "print(derivative(f, 0, dx=1e-6))   # 1/1,000,000 (1/백만)\n",
    "print(derivative(f, 1, dx=1e-6))\n",
    "\n",
    "X = [-0.5,0,0.5,1,1.5,2,2.5]\n",
    "Y = []\n",
    "for x in X: \n",
    "    print(f'x={x:.1f}, derivative={derivative(f, x, dx=1e-6):.1f}')\n",
    "    Y.append(derivative(f, x, dx=1e-6))"
   ]
  },
  {
   "cell_type": "markdown",
   "id": "aa35c885",
   "metadata": {},
   "source": [
    "### 미분 (differentiation)\n",
    "- 어떤 함수로부터 그 함수 기울기를 출력하는 새로운 함수를 만들어 내는 작업\n",
    "- 미분으로 만들어진 함수를 원래 함수의 도함수(derivative)라고 한다.\n",
    "- 수렴(converge)과 극한(limit) 개념을 사용하여 미분 정의함\n",
    "- f'(x) 프라임 기호를 붙혀 사용. d/dx(f)"
   ]
  },
  {
   "cell_type": "code",
   "execution_count": null,
   "id": "92ff924d",
   "metadata": {
    "scrolled": true
   },
   "outputs": [],
   "source": [
    "plt.title('도함수의 그래프')\n",
    "plt.plot(X, Y, 'b-')\n",
    "plt.xlabel('x')\n",
    "plt.ylabel('y')\n",
    "plt.show()"
   ]
  },
  {
   "cell_type": "markdown",
   "id": "bf362caa",
   "metadata": {},
   "source": [
    "### 미분 가능\n",
    "- 함수에서 어떤 점에서는 기울기를 정의하기 어려울 수가 있다. \n",
    "- 기울기를 정의할 수 있으면 미분가능, 정의하기 어려우면 미분 불가능이라고 한다."
   ]
  },
  {
   "cell_type": "code",
   "execution_count": null,
   "id": "ea182660",
   "metadata": {},
   "outputs": [],
   "source": [
    "def relu(x):\n",
    "    return np.where(x>0, x, 0)\n",
    "\n",
    "xx = np.linspace(-2, 2, 100)\n",
    "plt.plot(xx, relu(xx))\n",
    "plt.plot(0, 0, marker='o', ms=10)\n",
    "plt.title('ReLU')\n",
    "plt.xlabel('$x$')\n",
    "plt.ylabel('$ReLU(x)$')\n",
    "plt.show()"
   ]
  },
  {
   "cell_type": "markdown",
   "id": "b8e9a30a",
   "metadata": {},
   "source": [
    "### 미분 공식\n",
    "- 기본 미분 공식<br>\n",
    ": 거듭제곱 이용 $\\frac{d}{dx}(x^n) = nx^{n-1} $ \n",
    "- 선형조합법칙<br>\n",
    "  어떤 함수에 각각 상수를 곱한 후 더한 선형조합은 각 함수의 도함수를 선형조합한 것과 같다.\n",
    "  $\\frac{d}{dx}(c_1f_1+c_2f_2)= c_1\\frac{df_1}{dx} + c_2\\frac{df_2}{dx} $\n",
    "  \n",
    "- 곱셈법칙\n",
    "- 연쇄법칙<br>\n",
    ": 두 함수  $y=f(u)와 u=g(x)$가 각각 미분가능하면 합성함수 $y=f(g(x))$도 미분가능하다 "
   ]
  },
  {
   "cell_type": "markdown",
   "id": "44d66f2e",
   "metadata": {},
   "source": [
    "#### 1.기본 미분 공식"
   ]
  },
  {
   "cell_type": "markdown",
   "id": "5ede8378",
   "metadata": {},
   "source": [
    "#### [예제]  도함수 구하기\n",
    "$ y = 1 + 2x + 3x^2 + 4exp(x) + 5log(x)$ -->   <br>\n"
   ]
  },
  {
   "cell_type": "markdown",
   "id": "4372b2ea",
   "metadata": {},
   "source": [
    "--> 도함수 <br>\n",
    "$ \\frac{dy}{dx} = 2 + 6x + 4exp(x) + \\frac{5}{x} $"
   ]
  },
  {
   "cell_type": "markdown",
   "id": "30e9239a",
   "metadata": {},
   "source": [
    "#### 2.선형조합법칙"
   ]
  },
  {
   "cell_type": "markdown",
   "id": "718472a5",
   "metadata": {},
   "source": [
    "#### [예제] 도함수 그래프 그리기\n",
    "$ f(x) = x^3 -3x^2 + x $ --> <br>\n",
    "$ f'(x) = 3x^2 -6x + 1 $\n"
   ]
  },
  {
   "cell_type": "code",
   "execution_count": null,
   "id": "ab624ee4",
   "metadata": {
    "scrolled": true
   },
   "outputs": [],
   "source": [
    "def f(x):\n",
    "    return x**3 - 3 * x**2 + x\n",
    "\n",
    "def fprime(x):\n",
    "    return 3*x**2 - 6*x + 1\n",
    "\n",
    "# 2차 방정식의 근\n",
    "x1, x2 = np.roots([3, -6, 1])\n",
    "\n",
    "x = np.linspace(-1, 3, 400)\n",
    "\n",
    "plt.figure(figsize=(10, 7))\n",
    "\n",
    "plt.subplot(211)\n",
    "plt.plot(x, f(x))\n",
    "plt.xlim(-2, 4)\n",
    "plt.xticks(np.arange(-1, 4))\n",
    "plt.yticks(np.arange(-5, 4))\n",
    "plt.xlabel('x')\n",
    "plt.ylabel('함수 f(x)')\n",
    "plt.axvline(x1, c='b', ls='--')\n",
    "plt.axvline(x2, c='b', ls='--')\n",
    "\n",
    "plt.subplot(212)\n",
    "plt.plot(x, fprime(x))\n",
    "plt.xlim(-2, 4)\n",
    "plt.xticks(np.arange(-1, 4))\n",
    "plt.yticks(np.arange(-3, 11))\n",
    "plt.xlabel('x')\n",
    "plt.ylabel(\"도함수 f'(x)\")\n",
    "plt.axhline(0, c='r', ls='--')\n",
    "plt.axvline(x1, c='b', ls='--')\n",
    "plt.axvline(x2, c='b', ls='--')\n",
    "\n",
    "plt.tight_layout()\n",
    "plt.show()"
   ]
  },
  {
   "cell_type": "markdown",
   "id": "0e34b796",
   "metadata": {},
   "source": [
    "#### 3.곱셈법칙\n",
    "- 어떤 함수의 형태가 두 함수를 곱한 것과 같을 때, 각 개별 함수의 도함수를 사용하여 원래 함수의 도함수를 구한다.\n",
    "$\\frac{d}{dx}(f.g) = f \\frac{dg}{dx}+\\frac{df}{dx}g$\n",
    "- 함수 $y = e^x$은 모든 실수에서 미분가능하며, $(e^x)'=e^x$\n",
    "- 함수 $y = lnx$는 $x>0$에서 미분가능하며, $(lnx)'=\\frac{1}{x}$"
   ]
  },
  {
   "cell_type": "markdown",
   "id": "57d6f2e4",
   "metadata": {},
   "source": [
    "#### [예제] 함수를 미분하시오.\n",
    "$f = xe^x$"
   ]
  },
  {
   "cell_type": "markdown",
   "id": "c0ef1e98",
   "metadata": {},
   "source": [
    "--> 도함수\n",
    "$\\frac{df}{dx} = xe^x + e^x$"
   ]
  },
  {
   "cell_type": "markdown",
   "id": "659a51f4",
   "metadata": {},
   "source": [
    "#### 4. 연쇄법칙\n",
    "- 미분하고자 하는 함수의 입력 변수가 다른 함수의 출력 변수인 경우 적용하는 방법 <br>\n",
    "$f(x) = h(g(x))$ --> $\\frac{df}{dx}=\\frac{dh}{dg}.\\frac{dg}{dx} $\n"
   ]
  },
  {
   "cell_type": "markdown",
   "id": "611a11e6",
   "metadata": {},
   "source": [
    "#### [예제] 정규분포의 확률밀도함수 도함수 구하기\n",
    "$f = exp\\frac{(x - u)^2}{\\sigma^2}$"
   ]
  },
  {
   "cell_type": "markdown",
   "id": "ac9fbbcf",
   "metadata": {},
   "source": [
    "--> 도함수 구하기 <br>\n",
    "$f = exp(z),   z=\\frac{y^2}{\\sigma^2},   y=(x - u)^2$ <br>\n",
    "=> 연쇄법칙 적용 <br>\n",
    "$\\frac{df}{dx} = \\frac{df}{dz}.\\frac{dz}{dy}.\\frac{dy}{dx}$  <br>\n",
    "- $\\frac{df}{dx} = exp(z) = exp\\frac{(x - u)^2}{\\sigma^2}$ <br>\n",
    "- $\\frac{dz}{dy} = \\frac{2y}{\\sigma^2} = \\frac{2(x - u)}{\\sigma^2}$ <br>\n",
    "- $\\frac{dy}{dx} = 1$  <br>\n",
    "\n",
    "최종 결과 <br>\n",
    "$\\frac{df}{dx} = \\frac{2(x - u)}{\\sigma^2}exp\\frac{(x - u)^2}{\\sigma^2}$\n"
   ]
  },
  {
   "cell_type": "markdown",
   "id": "86146e8f",
   "metadata": {},
   "source": [
    "### 2차 도함수\n",
    "- 도함수를 한 번 더 미분하여 만들어진 함수를 2차 도함수라고 한다."
   ]
  },
  {
   "cell_type": "code",
   "execution_count": null,
   "id": "247a446b",
   "metadata": {
    "scrolled": true
   },
   "outputs": [],
   "source": [
    "def f(x):\n",
    "    return x**3 - 3 * x**2 + x\n",
    "\n",
    "def fprime(x):\n",
    "    return 3*x**2 - 6*x + 1\n",
    "\n",
    "def fprime2(x):\n",
    "    return 6*x - 6\n",
    "\n",
    "# 2차 방정식의 근\n",
    "x1, x2 = np.roots([3, -6, 1])\n",
    "\n",
    "x = np.linspace(-1, 3, 400)\n",
    "\n",
    "plt.figure(figsize=(10, 7))\n",
    "\n",
    "plt.subplot(311)\n",
    "plt.plot(x, f(x))\n",
    "plt.xlim(-2, 4)\n",
    "plt.xticks(np.arange(-1, 4))\n",
    "plt.yticks(np.arange(-5, 4))\n",
    "plt.xlabel('x')\n",
    "plt.ylabel('함수 f(x)')\n",
    "plt.axvline(x1, c='b', ls='--')\n",
    "plt.axvline(x2, c='b', ls='--')\n",
    "plt.axvline(1, c='g', ls=':')\n",
    "\n",
    "plt.subplot(312)\n",
    "plt.plot(x, fprime(x))\n",
    "plt.xlim(-2, 4)\n",
    "plt.xticks(np.arange(-1, 4))\n",
    "plt.yticks(np.arange(-3, 11))\n",
    "plt.xlabel('x')\n",
    "plt.ylabel(\"도함수 f'(x)\")\n",
    "plt.axhline(0, c='r', ls='--')\n",
    "plt.axvline(x1, c='b', ls='--')\n",
    "plt.axvline(x2, c='b', ls='--')\n",
    "plt.axvline(1, c='g', ls=':')\n",
    "\n",
    "plt.subplot(313)\n",
    "plt.plot(x, fprime2(x))\n",
    "plt.xlim(-2, 4)\n",
    "plt.xticks(np.arange(-1, 4))\n",
    "plt.ylabel(\"2차 도함수 f''(x)\")\n",
    "plt.axhline(0, c='r', ls='--')\n",
    "plt.axvline(1, c='g', ls=':')\n",
    "\n",
    "plt.tight_layout()\n",
    "plt.show()"
   ]
  },
  {
   "cell_type": "markdown",
   "id": "8afb6e49",
   "metadata": {},
   "source": [
    "### 편미분\n",
    "- 만약 함수가 둘 이상의 독립변수를 가지는 다변수함수인 경우에는 기울기는 하나의 변수에 대해서만 구할 수 있다.\n",
    "- 따라서 편미분의 결과로 하나의 함수에 여러 도함수가 나올 수 있다.\n",
    "- 어떤 하나의 독립변수에 대해 미분할 때는 다른 독립변수를 상수로 생각하면 된다. <br>\n",
    "$f_x(x,y) = \\frac{\\partial f}{\\partial x}$ <br>\n",
    "$f_y(x,y) = \\frac{\\partial f}{\\partial y}$"
   ]
  },
  {
   "cell_type": "markdown",
   "id": "990e7ee0",
   "metadata": {},
   "source": [
    "#### [예제] 편미분하기\n",
    "$f(x,y) = x^2 + 4xy + 4y^2 $"
   ]
  },
  {
   "cell_type": "markdown",
   "id": "1ad7986a",
   "metadata": {},
   "source": [
    "-> 도함수 구하기 <br>\n",
    "$f_x(x,y) = 2x + 4y $ <br>\n",
    "$f_y(x,y) = 4x + 8y $"
   ]
  },
  {
   "cell_type": "markdown",
   "id": "7cc4062f",
   "metadata": {},
   "source": [
    "--> 2차 편미분(도함수 구하기) <br>\n",
    "$f_{xx}(x,y) = 2 $ <br>\n",
    "$f_{yy}(x,y) = 8 $ <br>\n",
    "$f_{xy}(x,y) = 4 $ <br>\n",
    "$f_{yx}(x,y) = 4 $ <br>"
   ]
  },
  {
   "cell_type": "markdown",
   "id": "e302a90e",
   "metadata": {},
   "source": [
    "#### [연습문제] 편미분을 구하기\n",
    "다음 함수에 대한 1차/2차 편미분 $f_x,f_y,f_{xx},f_{xy},f_{yx},f_{y}$를 구하라.<br>\n",
    "$f(x,y) = exp(x^2+2y^2)$"
   ]
  },
  {
   "cell_type": "markdown",
   "id": "32ae626e",
   "metadata": {},
   "source": [
    "--> 편미분 결과 <br>\n",
    "$f_x = 2xexp(x^2+2y^2)$ <br>\n",
    "$f_y = 4yexp(x^2+2y^2)$ <br>\n",
    "$f_{xx} = (4x^2+2)exp(x^2+2y^2$ <br>\n",
    "$f_{xy} = 8xyexp(x^2+2y^2$ <br>\n",
    "$f_{yx} = 8xyexp(x^2+2y^2$ <br>\n",
    "$f_{yy} = (16y^2+4)exp(x^2+2y^2$ <br>"
   ]
  },
  {
   "cell_type": "markdown",
   "id": "8e165cd0",
   "metadata": {},
   "source": [
    "### 심파이(Sympy) 사용방법\n",
    "- 심파이는 심볼릭 연산(Symbolic operation)을 지원하는 패키지\n",
    "- 심볼릭 연산이란 사람이 연필로 계산하는 것과 동일한 형태의 연산을 말함\n",
    "- 머신러닝 딥러닝 등에서 많이 사용됨"
   ]
  },
  {
   "cell_type": "markdown",
   "id": "0cabeed1",
   "metadata": {},
   "source": [
    "#### Sympy 라이브러리 설치"
   ]
  },
  {
   "cell_type": "code",
   "execution_count": null,
   "id": "c1e7bc09",
   "metadata": {},
   "outputs": [],
   "source": [
    "!pip install sympy"
   ]
  },
  {
   "cell_type": "code",
   "execution_count": null,
   "id": "3f110ffd",
   "metadata": {},
   "outputs": [],
   "source": [
    "import sympy\n",
    "\n",
    "# 주피터 노트북에서 수학식의 LaTex 표현을 위해 필요함\n",
    "sympy.init_printing(use_latex='mathjax')"
   ]
  },
  {
   "cell_type": "markdown",
   "id": "fcb1c977",
   "metadata": {},
   "source": [
    "#### 심볼릭 변수"
   ]
  },
  {
   "cell_type": "code",
   "execution_count": null,
   "id": "f9852392",
   "metadata": {},
   "outputs": [],
   "source": [
    "x = sympy.symbols('x')\n",
    "x"
   ]
  },
  {
   "cell_type": "code",
   "execution_count": null,
   "id": "9dbc25d3",
   "metadata": {},
   "outputs": [],
   "source": [
    "type(x)"
   ]
  },
  {
   "cell_type": "code",
   "execution_count": null,
   "id": "6a4629a9",
   "metadata": {},
   "outputs": [],
   "source": [
    "f = x * sympy.exp(x)\n",
    "f"
   ]
  },
  {
   "cell_type": "markdown",
   "id": "76c477dc",
   "metadata": {},
   "source": [
    "#### diff()로 미분하기"
   ]
  },
  {
   "cell_type": "code",
   "execution_count": null,
   "id": "2f1fe262",
   "metadata": {},
   "outputs": [],
   "source": [
    "sympy.diff(f)"
   ]
  },
  {
   "cell_type": "markdown",
   "id": "819efa75",
   "metadata": {},
   "source": [
    "#### simplify() 사용하여 소인수분해로 수식정리하기"
   ]
  },
  {
   "cell_type": "code",
   "execution_count": null,
   "id": "dd3b7a40",
   "metadata": {},
   "outputs": [],
   "source": [
    "sympy.simplify(sympy.diff(f))"
   ]
  },
  {
   "cell_type": "markdown",
   "id": "7b2d7d9f",
   "metadata": {},
   "source": [
    "#### 편미분을 하는 경우\n",
    "어떤 변수로 미분하는지 diff()함수에 명시함"
   ]
  },
  {
   "cell_type": "code",
   "execution_count": null,
   "id": "c1212b49",
   "metadata": {},
   "outputs": [],
   "source": [
    "x, y = sympy.symbols('x y')\n",
    "f = x**2 + 4*x*y + 4*y**2\n",
    "f"
   ]
  },
  {
   "cell_type": "code",
   "execution_count": null,
   "id": "f61cba20",
   "metadata": {},
   "outputs": [],
   "source": [
    "sympy.diff(f, x)"
   ]
  },
  {
   "cell_type": "code",
   "execution_count": null,
   "id": "045f5b3a",
   "metadata": {},
   "outputs": [],
   "source": [
    "sympy.diff(f, y)"
   ]
  },
  {
   "cell_type": "markdown",
   "id": "f5d6ead2",
   "metadata": {},
   "source": [
    "##### 상수 심볼를 포함하는 한수를 미분하는 경우"
   ]
  },
  {
   "cell_type": "code",
   "execution_count": null,
   "id": "e63e1789",
   "metadata": {},
   "outputs": [],
   "source": [
    "x, mu, sigma = sympy.symbols('x mu sigma')\n",
    "f = sympy.exp((x-mu)**2 / sigma**2)\n",
    "f"
   ]
  },
  {
   "cell_type": "code",
   "execution_count": null,
   "id": "22d1748c",
   "metadata": {},
   "outputs": [],
   "source": [
    "sympy.diff(f, x)"
   ]
  },
  {
   "cell_type": "code",
   "execution_count": null,
   "id": "adca16ba",
   "metadata": {
    "scrolled": true
   },
   "outputs": [],
   "source": [
    "sympy.simplify(sympy.diff(f, x))"
   ]
  },
  {
   "cell_type": "markdown",
   "id": "e6ff8044",
   "metadata": {},
   "source": [
    "#### 이차 도함수 구하는 방법"
   ]
  },
  {
   "cell_type": "code",
   "execution_count": null,
   "id": "e7c26718",
   "metadata": {
    "scrolled": true
   },
   "outputs": [],
   "source": [
    "sympy.diff(f, x, x)"
   ]
  },
  {
   "cell_type": "markdown",
   "id": "5ef0b4d7",
   "metadata": {},
   "source": [
    "### [연습문제] 심파이를 사용하여 다음 함수를 미분한 도함수를 구하라.\n",
    "1. $ f(x) = x^3 - 1 $"
   ]
  },
  {
   "cell_type": "code",
   "execution_count": null,
   "id": "843058c5",
   "metadata": {},
   "outputs": [],
   "source": [
    "x = sympy.symbols('x')\n",
    "f = x**3 - 1\n",
    "sympy.diff(f)"
   ]
  },
  {
   "cell_type": "markdown",
   "id": "0a2ea3ad",
   "metadata": {},
   "source": [
    "2. $f(x) = log(x^2 - 3k) $"
   ]
  },
  {
   "cell_type": "code",
   "execution_count": null,
   "id": "a585a44f",
   "metadata": {},
   "outputs": [],
   "source": [
    "x, k = sympy.symbols('x k')\n",
    "f = sympy.log(x**2 - 3*k)\n",
    "sympy.diff(f, x)"
   ]
  },
  {
   "cell_type": "markdown",
   "id": "9caf6afa",
   "metadata": {},
   "source": [
    "3. $f(x) = exp(ax^b)$"
   ]
  },
  {
   "cell_type": "code",
   "execution_count": null,
   "id": "b280aa56",
   "metadata": {},
   "outputs": [],
   "source": [
    "x, a, b = sympy.symbols('x a b')\n",
    "f = sympy.exp(a*x**b)\n",
    "sympy.simplify(sympy.diff(f, x))"
   ]
  },
  {
   "cell_type": "markdown",
   "id": "34c53402",
   "metadata": {},
   "source": [
    "### [연습문제] 심파이를 사용하여 다음 함수에 대한 편미분 $f_x,f_y,f_{xx},f_{xy},f_{yx},f_{y}$를 구하라.\n",
    "$f(x,y) = exp(x^2+2y^2)$ \n"
   ]
  },
  {
   "cell_type": "code",
   "execution_count": null,
   "id": "c5519616",
   "metadata": {},
   "outputs": [],
   "source": [
    "x, y = sympy.symbols('x y')\n",
    "f = sympy.exp(x**2 + 2*y**2)\n",
    "\n",
    "# f_x\n",
    "sympy.diff(f, x)"
   ]
  },
  {
   "cell_type": "code",
   "execution_count": null,
   "id": "ebf32098",
   "metadata": {},
   "outputs": [],
   "source": [
    "# f_y\n",
    "sympy.diff(f, y)"
   ]
  },
  {
   "cell_type": "code",
   "execution_count": null,
   "id": "d02516cc",
   "metadata": {},
   "outputs": [],
   "source": [
    "# f_xx\n",
    "sympy.diff(f, x, x)"
   ]
  },
  {
   "cell_type": "code",
   "execution_count": null,
   "id": "cb2cda64",
   "metadata": {},
   "outputs": [],
   "source": [
    "# f_xy\n",
    "sympy.diff(f, x, y)"
   ]
  },
  {
   "cell_type": "code",
   "execution_count": null,
   "id": "48dde0e3",
   "metadata": {},
   "outputs": [],
   "source": [
    "# f_yx\n",
    "sympy.diff(f, y, x)"
   ]
  },
  {
   "cell_type": "code",
   "execution_count": null,
   "id": "8b07dc8e",
   "metadata": {},
   "outputs": [],
   "source": [
    "# f_yy\n",
    "sympy.diff(f, y, y)"
   ]
  },
  {
   "cell_type": "markdown",
   "id": "8dc07188",
   "metadata": {},
   "source": [
    "---------"
   ]
  },
  {
   "cell_type": "markdown",
   "id": "5bd30e59",
   "metadata": {},
   "source": [
    "## 2.3 적분법"
   ]
  },
  {
   "cell_type": "markdown",
   "id": "87fe6c71",
   "metadata": {},
   "source": [
    "- 미분과 반대되는 개념\n",
    "- 부정적분(indefinite integral), 정적분(definite integral)로 구분"
   ]
  },
  {
   "cell_type": "markdown",
   "id": "5b72763a",
   "metadata": {},
   "source": [
    "### 부정적분\n",
    "- 부정적분은 정확하게 미분과 반대되는 개념. 즉, 반미분(anti-derivative)\n",
    "- 도함수에 대한 미분되기 전의 원래 함수 (원시함수)를 찾는 과정 또는 결과\n",
    "- $\\frac{dF(x)}{dx} = f(x) <-> F(x) = \\int f(x)dx + C $\n",
    "- dx: x라는 변수로 적분했다것을 나타내는 기호\n",
    "- C: 상수항"
   ]
  },
  {
   "cell_type": "markdown",
   "id": "cb283772",
   "metadata": {},
   "source": [
    "### 심파이를 이용한 부정적분"
   ]
  },
  {
   "cell_type": "code",
   "execution_count": null,
   "id": "0a706f05",
   "metadata": {},
   "outputs": [],
   "source": [
    "import sympy\n",
    "\n",
    "sympy.init_printing(use_latex='mathjax')\n",
    "\n",
    "x = sympy.symbols('x')\n",
    "f = x * sympy.exp(x) + sympy.exp(x)\n",
    "f"
   ]
  },
  {
   "cell_type": "code",
   "execution_count": null,
   "id": "f7e27c8a",
   "metadata": {},
   "outputs": [],
   "source": [
    "sympy.integrate(f)"
   ]
  },
  {
   "cell_type": "code",
   "execution_count": null,
   "id": "1e7af0f6",
   "metadata": {},
   "outputs": [],
   "source": [
    "x, y = sympy.symbols('x y')\n",
    "f = 2*x + y\n",
    "f"
   ]
  },
  {
   "cell_type": "code",
   "execution_count": null,
   "id": "aab4b99f",
   "metadata": {},
   "outputs": [],
   "source": [
    "sympy.integrate(f, x)"
   ]
  },
  {
   "cell_type": "markdown",
   "id": "4fcbf8bf",
   "metadata": {},
   "source": [
    "#### [연습문제] 심파이를 이용하여 다음 부정적분을 구하라.\n",
    "1. $\\int 3x^2dx $"
   ]
  },
  {
   "cell_type": "code",
   "execution_count": null,
   "id": "1db527ee",
   "metadata": {},
   "outputs": [],
   "source": [
    "import sympy\n",
    "\n",
    "sympy.init_printing(use_latex='mathjax')\n",
    "\n",
    "x, y = sympy.symbols('x y')"
   ]
  },
  {
   "cell_type": "code",
   "execution_count": null,
   "id": "d0188f82",
   "metadata": {},
   "outputs": [],
   "source": [
    "f = 3 * x**2\n",
    "sympy.integrate(f)"
   ]
  },
  {
   "cell_type": "markdown",
   "id": "cb55cb61",
   "metadata": {},
   "source": [
    "2. $\\int (3x^2 -6x + 1)dx$"
   ]
  },
  {
   "cell_type": "code",
   "execution_count": null,
   "id": "eb687b0d",
   "metadata": {},
   "outputs": [],
   "source": [
    "f = 3*x**2 - 6*x + 1\n",
    "sympy.integrate(f)"
   ]
  },
  {
   "cell_type": "markdown",
   "id": "0e2c6afc",
   "metadata": {},
   "source": [
    "3. $\\int(2+ 6x + 4exp(x) + \\frac{5}{x})dx$"
   ]
  },
  {
   "cell_type": "code",
   "execution_count": null,
   "id": "9bf1172d",
   "metadata": {},
   "outputs": [],
   "source": [
    "f = 2 + 6*x + 4*sympy.exp(x) + 5/x\n",
    "sympy.integrate(f)"
   ]
  },
  {
   "cell_type": "markdown",
   "id": "4e78ab72",
   "metadata": {},
   "source": [
    "4. $\\int \\frac{2x}{x^2 -1} dx$"
   ]
  },
  {
   "cell_type": "code",
   "execution_count": null,
   "id": "2eb557f6",
   "metadata": {},
   "outputs": [],
   "source": [
    "f = 2*x / (x**2 -1)\n",
    "sympy.integrate(f)"
   ]
  },
  {
   "cell_type": "markdown",
   "id": "8a9e6a35",
   "metadata": {},
   "source": [
    "5. $\\int (1 + xy) dx$"
   ]
  },
  {
   "cell_type": "code",
   "execution_count": null,
   "id": "ec563ef7",
   "metadata": {},
   "outputs": [],
   "source": [
    "f = 1 + x*y\n",
    "sympy.integrate(f, x)"
   ]
  },
  {
   "cell_type": "markdown",
   "id": "573f01c9",
   "metadata": {},
   "source": [
    "6. $\\int xyexp(x^2 + y^2)dx$"
   ]
  },
  {
   "cell_type": "code",
   "execution_count": null,
   "id": "7a12288e",
   "metadata": {},
   "outputs": [],
   "source": [
    "f = x*y*sympy.exp(x**2+y**2)\n",
    "sympy.integrate(f, x)"
   ]
  },
  {
   "cell_type": "markdown",
   "id": "38d74b73",
   "metadata": {},
   "source": [
    "7. $\\int \\int xyexp(x^2+y^2)dxdy$"
   ]
  },
  {
   "cell_type": "code",
   "execution_count": null,
   "id": "7767456c",
   "metadata": {},
   "outputs": [],
   "source": [
    "f = x*y*sympy.exp(x**2+y**2)\n",
    "l = sympy.integrate(f, x)\n",
    "sympy.integrate(l, y)"
   ]
  },
  {
   "cell_type": "markdown",
   "id": "a820ea29",
   "metadata": {},
   "source": [
    "### 정적분\n",
    "- 정적분은 독립변수 x가 어떤 구간 [a, b] 사이일 때 그 구간에서 함수 f(x)의 값과 수평선(x축)이 이루는 면적을 구하는 행위 또는 그 값.\n",
    "- $\\int_{a}^{b} f(x)dx$ = F(b) - F(a)"
   ]
  },
  {
   "cell_type": "code",
   "execution_count": null,
   "id": "0c4dcaf9",
   "metadata": {
    "scrolled": true
   },
   "outputs": [],
   "source": [
    "from matplotlib.patches import Polygon\n",
    "\n",
    "def f(x):\n",
    "    return x**3 - 3*x**2 + x + 6\n",
    "\n",
    "a, b = 0, 2\n",
    "x = np.linspace(a-0.5, b+0,5, 50)\n",
    "y = f(x)\n",
    "\n",
    "ax = plt.subplot(111)\n",
    "plt.title('정적분의 예')\n",
    "plt.plot(x, y, 'r', linewidth=2)\n",
    "plt.ylim(bottom=0)\n",
    "ix = np.linspace(a, b)\n",
    "iy = f(ix)\n",
    "verts = [(a,0)] + list(zip(ix,iy)) + [(b,0)]\n",
    "poly = Polygon(verts, facecolor='0.9', edgecolor='0.5')\n",
    "ax.add_patch(poly)\n",
    "plt.text(0.5*(a+b), 0.2*(f(a)+f(b)), r'$\\int_a^b f(x)dx$',\n",
    "         horizontalalignment='center', fontsize=20)\n",
    "plt.figtext(0.9, 0.05, '$x$')\n",
    "plt.figtext(0.1, 0.9, '$y$')\n",
    "ax.spines['right'].set_visible(False)\n",
    "ax.spines['top'].set_visible(False)\n",
    "ax.xaxis.set_ticks_position('bottom')\n",
    "ax.set_xticks((a, b))     \n",
    "ax.set_xticklabels(('$a$', '$b$'))  \n",
    "ax.set_yticks([])  \n",
    "ax.set_xlim(-2, 4)\n",
    "ax.set_ylim(0, 8)\n",
    "plt.show()"
   ]
  },
  {
   "cell_type": "markdown",
   "id": "82bc5d12",
   "metadata": {},
   "source": [
    "#### [예제] 심파이로 정적분 구하기\n",
    "$\\int_{0}^{2}(x^3 -3x^2 + x + 6)dx $"
   ]
  },
  {
   "cell_type": "code",
   "execution_count": null,
   "id": "4c654219",
   "metadata": {},
   "outputs": [],
   "source": [
    "x, y = sympy.symbols('x y')\n",
    "f = x**3 -3*x**2 + x + 6\n",
    "f"
   ]
  },
  {
   "cell_type": "code",
   "execution_count": null,
   "id": "3b376e31",
   "metadata": {},
   "outputs": [],
   "source": [
    "# 부정적분\n",
    "F = sympy.integrate(f)\n",
    "F"
   ]
  },
  {
   "cell_type": "code",
   "execution_count": null,
   "id": "3776da41",
   "metadata": {},
   "outputs": [],
   "source": [
    "# 정적분 계산하기\n",
    "(F.subs(x, 2) - F.subs(x, 0)).evalf()"
   ]
  },
  {
   "cell_type": "markdown",
   "id": "9e4854fe",
   "metadata": {},
   "source": [
    "### 수치적분 (numerical integration)\n",
    "- 수치적분은 함수를 아주 작은 구간을 나누어 실제 면적을 계산함으로써 정적분의 값을 구하는 방법\n",
    "- 사이파이(Scipy)의 integrate 서브패키지의 quad() 명령으로 구할 수 있음"
   ]
  },
  {
   "cell_type": "code",
   "execution_count": null,
   "id": "e3fdda99",
   "metadata": {},
   "outputs": [],
   "source": [
    "pip install scipy"
   ]
  },
  {
   "cell_type": "code",
   "execution_count": null,
   "id": "e1b1e48d",
   "metadata": {},
   "outputs": [],
   "source": [
    "import scipy\n",
    "from scipy import integrate\n",
    "\n",
    "def f(x):\n",
    "    return x**3 -3*x**2 + x + 6\n",
    "\n",
    "scipy.integrate.quad(f, 0, 2)  # 정적분(수치적분)"
   ]
  },
  {
   "cell_type": "markdown",
   "id": "33c016c7",
   "metadata": {},
   "source": [
    "#### [연습문제] 다음 정적분의 값을 부정적분과 수치적분 두 가지 방법으로 구하라\n",
    "1. $\\int_{0}^{1}(3x^2 -6x + 1)dx$"
   ]
  },
  {
   "cell_type": "code",
   "execution_count": null,
   "id": "b5df9739",
   "metadata": {},
   "outputs": [],
   "source": [
    "#부정적분\n",
    "f = 3*x**2 - 6*x + 1\n",
    "F = sympy.integrate(f)\n",
    "print(F)\n",
    "print((F.subs(x,1) - F.subs(x,0)).evalf())"
   ]
  },
  {
   "cell_type": "code",
   "execution_count": null,
   "id": "7cf71899",
   "metadata": {},
   "outputs": [],
   "source": [
    "#수치적분\n",
    "def f(x):\n",
    "    return 3*x**2 - 6*x + 1\n",
    "\n",
    "scipy.integrate.quad(f, 0, 1)"
   ]
  },
  {
   "cell_type": "markdown",
   "id": "0d06f68e",
   "metadata": {},
   "source": [
    "2. $\\int_{1}^{10}(2 + 6x + 4exp(x) +\\frac{5}{x})dx$"
   ]
  },
  {
   "cell_type": "code",
   "execution_count": null,
   "id": "4e8da514",
   "metadata": {},
   "outputs": [],
   "source": [
    "#부정적분\n",
    "f = 2 + 6*x + 4*sympy.exp(x) + 5/x\n",
    "F = sympy.integrate(f)\n",
    "print(F)\n",
    "print((F.subs(x,10) - F.subs(x,1)).evalf())"
   ]
  },
  {
   "cell_type": "code",
   "execution_count": null,
   "id": "ed4f48ac",
   "metadata": {},
   "outputs": [],
   "source": [
    "#수치적분\n",
    "def f(x):\n",
    "    return 2 + 6*x + 4*sympy.exp(x) + 5/x\n",
    "\n",
    "scipy.integrate.quad(f, 1, 10)"
   ]
  },
  {
   "cell_type": "markdown",
   "id": "fc612927",
   "metadata": {},
   "source": [
    "### 다변수 정적분\n",
    "- $\\int_{y=c}^{y=d} \\int_{x=a}^{x=b} f(x,y)dxdy$"
   ]
  },
  {
   "cell_type": "markdown",
   "id": "a7036830",
   "metadata": {},
   "source": [
    "#### [예제] 정적분으로 함수의 부피를 구하는 모습을 시각화 하기\n",
    "x=2 ~ x=8, y=0 ~ y=6 까지의 정사각형 영역에서 정적분으로 함수의 부피 구하기\n",
    "- $\\int_{y=0}^{y=6} \\int_{x=2}^{x=8} (x^2 -10x + y + 50)dxdy$"
   ]
  },
  {
   "cell_type": "code",
   "execution_count": null,
   "id": "737f7309",
   "metadata": {},
   "outputs": [],
   "source": [
    "fig = plt.figure(figsize=(10,8))\n",
    "ax = fig.add_subplot(111, projection='3d')\n",
    "_x = np.arange(12) / 2 + 2\n",
    "_y = np.arange(12) / 2\n",
    "X, Y = np.meshgrid(_x, _y)\n",
    "x, y = X.ravel(), Y.ravel()\n",
    "z = x*x - 10*x + y + 50\n",
    "z0 = np.zeros_like(z)\n",
    "ax.bar3d(x, y, z0, 0.48, 0.48, z)\n",
    "ax.set_xlim(0, 10)\n",
    "ax.set_ylim(-2, 10)\n",
    "ax.set_zlim(0, 50)\n",
    "ax.set_xlabel('x')\n",
    "ax.set_ylabel('y')\n",
    "plt.title('f(x, y)')\n",
    "plt.show()"
   ]
  },
  {
   "cell_type": "markdown",
   "id": "b7634fa7",
   "metadata": {},
   "source": [
    "#### 사이파이 이용하여 수치이중적분하기\n",
    "- dblquad(func, a, b, gfun, hfun)\n",
    "- gfun:y하한, hfun:y상한"
   ]
  },
  {
   "cell_type": "code",
   "execution_count": null,
   "id": "0e70355b",
   "metadata": {},
   "outputs": [],
   "source": [
    "!pip install scipy"
   ]
  },
  {
   "cell_type": "code",
   "execution_count": null,
   "id": "a54baddb",
   "metadata": {},
   "outputs": [],
   "source": [
    "import scipy \n",
    "\n",
    "def f(x, y):\n",
    "    return x*x - 10*x + y + 50\n",
    "\n",
    "print(scipy.integrate.dblquad(f, 2, 8, 0, 6))\n",
    "scipy.integrate.dblquad(f, 2, 8, lambda x:0, lambda x: 6)"
   ]
  },
  {
   "cell_type": "markdown",
   "id": "d1c17b8a",
   "metadata": {},
   "source": [
    "#### [예제] 사이파이로  정적분 값을 수치적분으로 구하라\n",
    "- $\\int_{0}^{\\infty} \\int_{1}^{\\infty} \\frac{exp(-xy)}{y^2}dxdy$"
   ]
  },
  {
   "cell_type": "code",
   "execution_count": null,
   "id": "c3b6909b",
   "metadata": {},
   "outputs": [],
   "source": [
    "def f(x, y):\n",
    "    return np.exp(-x*y) / y**2\n",
    "\n",
    "scipy.integrate.dblquad(f, 1, np.inf, lambda x:0, lambda x: np.inf)"
   ]
  },
  {
   "cell_type": "markdown",
   "id": "b5ccd6ad",
   "metadata": {},
   "source": [
    "#### [연습문제] 정적분 값을 수치적분으로 구하라\n",
    "- $\\int_{-1}^{1} \\int_{-1}^{1} (1 + xy)dxdy$"
   ]
  },
  {
   "cell_type": "code",
   "execution_count": null,
   "id": "6751512e",
   "metadata": {},
   "outputs": [],
   "source": [
    "def f(x, y):\n",
    "    return 1 + (x*y)\n",
    "\n",
    "scipy.integrate.dblquad(f, -1, 1, lambda x:-1, lambda x: 1)"
   ]
  }
 ],
 "metadata": {
  "kernelspec": {
   "display_name": "Python 3 (ipykernel)",
   "language": "python",
   "name": "python3"
  },
  "language_info": {
   "codemirror_mode": {
    "name": "ipython",
    "version": 3
   },
   "file_extension": ".py",
   "mimetype": "text/x-python",
   "name": "python",
   "nbconvert_exporter": "python",
   "pygments_lexer": "ipython3",
   "version": "3.10.9"
  }
 },
 "nbformat": 4,
 "nbformat_minor": 5
}
