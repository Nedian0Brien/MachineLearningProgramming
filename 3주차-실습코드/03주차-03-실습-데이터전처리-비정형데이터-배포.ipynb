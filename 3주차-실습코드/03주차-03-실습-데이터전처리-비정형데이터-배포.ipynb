{
 "cells": [
  {
   "cell_type": "markdown",
   "id": "ffb44dfd",
   "metadata": {},
   "source": [
    "## [실습] 데이터 전처리 : 카카오톡 대화방 데이터\n",
    "\n",
    "1. 데이터 준비\n",
    "2. 데이터 전처리\n",
    "- [참고] https://wikidocs.net/141389"
   ]
  },
  {
   "cell_type": "markdown",
   "id": "2d1e0130",
   "metadata": {},
   "source": [
    "------------------------"
   ]
  },
  {
   "cell_type": "markdown",
   "id": "60ac85e4",
   "metadata": {},
   "source": [
    "### 1. 데이터 준비하기 \n",
    "\n",
    "#### (모바일에서)\n",
    "1. 분석할 특정 채팅방 선택하기\n",
    "2. 화면 우측 상단 더보기(줄세개) 선택하기\n",
    "3. 화면 우측 하단 채팅방 설정(톱니바퀴) 선택하기\n",
    "4. 대화 내용 내보내기 선택 (텍스트 메시지만 보내기)\n",
    "5. 메일 등을 이용하여 다운로드 받아 data 폴더로 이동시키기\n"
   ]
  },
  {
   "cell_type": "markdown",
   "id": "9b8d6c8c",
   "metadata": {},
   "source": [
    "------"
   ]
  },
  {
   "cell_type": "markdown",
   "id": "17def639",
   "metadata": {},
   "source": [
    "### 2. 데이터 전처리 (데이터 파싱하기)\n",
    "판다스로 csv 파일 불러와 확인하기"
   ]
  },
  {
   "cell_type": "markdown",
   "id": "a2b4eb1b",
   "metadata": {},
   "source": [
    "#### 2.1 데이터의 컬럼(feature) 살펴보기"
   ]
  },
  {
   "cell_type": "markdown",
   "id": "3c8b57a8",
   "metadata": {},
   "source": [
    "#### AndroidPhone 내용"
   ]
  },
  {
   "cell_type": "code",
   "execution_count": null,
   "id": "15e8f876",
   "metadata": {
    "scrolled": false
   },
   "outputs": [],
   "source": [
    "import pandas as pd\n",
    "\n",
    "# 자신의 카카오톡 데이터 파일명으로 변경한다.\n",
    "file = '  '\n",
    "df = pd.read_table(file)\n",
    "df.head()"
   ]
  },
  {
   "cell_type": "markdown",
   "id": "6547fe64",
   "metadata": {},
   "source": [
    "#### 2.2  카카오톡 데이터 파싱하기\n",
    "- 참고:  https://regexr.com/ \n",
    "\n",
    "[예제 문장] 2023년 3월 22일 오전 11:36, 송혜경 : 이모티콘 (Android)\n",
    "\n",
    "1. 카카오톡 데이터 쪼개기\n",
    "    - 날짜와 시간: (iOS: . / Android: 년,월,일\n",
    "    - 보낸 사람과 텍스트\n",
    "2. 카카오톡 데이터 파싱하기\n",
    "    - 정규표현식 매칭 & 메시지 파싱\n",
    "3. 데이터 프레임으로 만들기"
   ]
  },
  {
   "cell_type": "code",
   "execution_count": null,
   "id": "025194e5",
   "metadata": {
    "scrolled": true
   },
   "outputs": [],
   "source": [
    "import re\n",
    "import pandas as pd\n",
    "import os\n",
    "\n",
    "def katalk_msg_parse(file_path):\n",
    "    my_katalk_data = list()\n",
    "    \n",
    "    # 정규 패턴 정의\n",
    "    katalk_msg_pattern = \"[0-9]{4}[년.] [0-9]{1,2}[월.] [0-9]{1,2}[일.] 오\\S [0-9]{1,2}:[0-9]{1,2},.*:\"\n",
    "    date_info = \"[0-9]{4}년 [0-9]{1,2}월 [0-9]{1,2}일 \\S요일\"\n",
    "    in_out_info = \"[0-9]{4}[년.] [0-9]{1,2}[월.] [0-9]{1,2}[일.] 오\\S [0-9]{1,2}:[0-9]{1,2}:.*\"\n",
    "\n",
    "    # 파일 데이터 읽기\n",
    "    cnt = 0\n",
    "    f = open(file_path, encoding='utf-8')    \n",
    "    for line in f :\n",
    "        cnt += 1\n",
    "        if re.match(date_info, line) or re.match(in_out_info, line):\n",
    "            continue\n",
    "        elif line == '\\n': # 엔터\n",
    "            continue\n",
    "        elif re.match(katalk_msg_pattern, line):          # 카카오톡 메시지 패턴\n",
    "            line = line.split(\",\")\n",
    "            date_time = line[0]                           # 년월일 시간\n",
    "            user_text = line[1].split(\" : \", maxsplit=1)  \n",
    "            user_name = user_text[0].strip()              # 메시지 보낸 사람\n",
    "            text = user_text[1].strip()                   # 메시지\n",
    "            # DataFrame으로 나타내기 위해 my_katalk_data 리스트에 딕셔너리 타입으로 추가하기\n",
    "            my_katalk_data.append({'date_time': date_time,\n",
    "                                   'user_name': user_name,\n",
    "                                   'text': text})\n",
    "        else:\n",
    "            if len(my_katalk_data) > 0:\n",
    "                my_katalk_data[-1]['text'] += \"\\n\"+line.strip()\n",
    "    print(f'파일 read count: {cnt}')\n",
    "    \n",
    "    # DataFrame 데이터로 만들기\n",
    "    my_katalk_df = pd.DataFrame(my_katalk_data)\n",
    "    print(f'DataFrame count: {len(my_katalk_df)}')\n",
    "    return my_katalk_df\n",
    "\n",
    "\n",
    "df = katalk_msg_parse(file)\n",
    "\n",
    "df.head()"
   ]
  },
  {
   "cell_type": "markdown",
   "id": "3d96f919",
   "metadata": {},
   "source": [
    "#### iOS 내용"
   ]
  },
  {
   "cell_type": "code",
   "execution_count": null,
   "id": "ab2835c3",
   "metadata": {},
   "outputs": [],
   "source": [
    "# 저장한 날짜 : 2023-06-11 16:01:36 \n",
    "\n",
    "# --------------- 2023년 3월 21일 화요일 ---------------\n",
    "# user1님이 user2님을 초대하였습니다.\n",
    "# [user1] [오전 11:22] 반갑습니다 :) 저는 제니퍼입니당!\n",
    "# [user1] [오전 11:22] 이모티콘\n",
    "# [user2] [오전 11:23] 안녕하세요!! 그레이스입니다 :))\n",
    "# [user2] [오전 11:23] 잘부탁드려용\n",
    "# [user3] [오전 11:23] 반갑습니다~ 저희도 잘 부탁 드립니다~!"
   ]
  },
  {
   "cell_type": "code",
   "execution_count": null,
   "id": "38007897",
   "metadata": {
    "scrolled": true
   },
   "outputs": [],
   "source": [
    "import re\n",
    "import pandas as pd\n",
    "import os\n",
    "\n",
    "# 자신의 카카오톡 데이터 파일명으로 변경한다.\n",
    "file = ' '\n",
    "df = pd.read_table(file)\n",
    "df\n",
    "\n",
    "def katalk_msg_parse_iphone(file_path):\n",
    "    my_katalk_data = list()\n",
    "    \n",
    "    # 정규 패턴 정의\n",
    "    # --------------- 2023년 3월 21일 화요일 ---------------\n",
    "    # date_info = r\"[0-9]{4}년 [0-9]{1,2}월 [0-9]{1,2}일 \\S요일\"\n",
    "\n",
    "    # [user1] [오전 11:22] 반갑습니다 :) 저는 제니퍼입니당!\n",
    "    katalk_msg_pattern = \"\\[.*\\] \\[오\\S [0-9]{1,2}:[0-9]{1,2}\\].*\"\n",
    "\n",
    "    # 파일 데이터 읽기\n",
    "    cnt = 0\n",
    "    msg_date = ''\n",
    "    f = open(file_path, encoding='utf-8')    \n",
    "    for line in f :\n",
    "        cnt += 1\n",
    "        \n",
    "        # 메시지 일시 패턴 : --------------- 2023년 3월 21일 화요일 ---------------\n",
    "        if re.match(\"--------------- \", line):   \n",
    "            line = line.split('--------------- ')\n",
    "            line = line[1].split(\"일\")              # 년월일\n",
    "            date_time = line[0]+'일'\n",
    "        \n",
    "        # 카카오톡 메시지 패턴 : [user1] [오전 11:22] 반갑습니다 :) 저는 제니퍼입니당!\n",
    "        elif re.match(katalk_msg_pattern, line):   \n",
    "            p_pattern = r'\\[([^\\]]+)\\]'             # 대괄호 패턴\n",
    "            p = re.findall(p_pattern, line)\n",
    "            user_name = p[0]                        # 메시지 보낸 사람\n",
    "            msg_time = p[1]                         # 시간\n",
    "            line = line.split(\" \")\n",
    "            text = ' '.join(line[3:])               # 메시지\n",
    "            # DataFrame으로 나타내기 위해 my_katalk_data 리스트에 딕셔너리 타입으로 추가하기\n",
    "            my_katalk_data.append({'date_time': date_time + ' ' + msg_time,\n",
    "                                   'user_name': user_name,\n",
    "                                   'text': text\n",
    "                                   })\n",
    "    print(f'파일 read count: {cnt}')\n",
    "    \n",
    "    # DataFrame 데이터로 만들기\n",
    "    my_katalk_df = pd.DataFrame(my_katalk_data)\n",
    "    print(f'DataFrame count: {len(my_katalk_df)}')\n",
    "    return my_katalk_df\n",
    "\n",
    "\n",
    "df = katalk_msg_parse_iphone(file)\n",
    "\n",
    "df.head()"
   ]
  },
  {
   "cell_type": "markdown",
   "id": "056f2215",
   "metadata": {},
   "source": [
    "-----------------------"
   ]
  },
  {
   "cell_type": "markdown",
   "id": "fe379aa4",
   "metadata": {},
   "source": [
    "### 3. 데이터 전처리(컬럼 분할)"
   ]
  },
  {
   "cell_type": "markdown",
   "id": "b56c5987",
   "metadata": {},
   "source": [
    "#### 3.1 컬럼 추가하기"
   ]
  },
  {
   "cell_type": "code",
   "execution_count": null,
   "id": "d560dc7d",
   "metadata": {},
   "outputs": [],
   "source": [
    "df['datetime'] = df['date_time']"
   ]
  },
  {
   "cell_type": "markdown",
   "id": "70fc736a",
   "metadata": {},
   "source": [
    "#### 3.2 컬럼 순서 변경하기"
   ]
  },
  {
   "cell_type": "code",
   "execution_count": null,
   "id": "a4714e88",
   "metadata": {},
   "outputs": [],
   "source": [
    "df.columns\n",
    "df = df[ ['date_time', 'datetime', 'user_name', 'text'] ]"
   ]
  },
  {
   "cell_type": "markdown",
   "id": "fbbe8ba4",
   "metadata": {},
   "source": [
    "#### 3.3  날짜, 시간 세분화하기"
   ]
  },
  {
   "cell_type": "code",
   "execution_count": null,
   "id": "70f61e6c",
   "metadata": {
    "scrolled": true
   },
   "outputs": [],
   "source": [
    "# 오전/오후 --> AM/PM 으로 변경\n",
    "df['datetime'] = df['datetime'].str.replace('오전', 'AM')\n",
    "df['datetime'] = df['datetime'].str.replace('오후', 'PM')\n",
    "df.head(3)"
   ]
  },
  {
   "cell_type": "code",
   "execution_count": null,
   "id": "c50983f9",
   "metadata": {},
   "outputs": [],
   "source": [
    "# pandas 표준 date_time 포맷으로 변경\n",
    "# df['datetime'] = pd.to_datetime(df['datetime'], format='%Y. %m. %d. %p %I:%M')\n",
    "df['datetime'] = pd.to_datetime(df['datetime'], format='%Y년 %m월 %d일 %p %H:%M')\n",
    "df.head(3)"
   ]
  },
  {
   "cell_type": "code",
   "execution_count": null,
   "id": "87a224ed",
   "metadata": {
    "scrolled": false
   },
   "outputs": [],
   "source": [
    "# text\tdate\tyear\tmonth\tday\tweekday\thour 컬럼 추가\n",
    "df['date'] = df['datetime'].dt.date\n",
    "df['year'] = df['datetime'].dt.year\n",
    "df['month'] = df['datetime'].dt.month\n",
    "df['day'] = df['datetime'].dt.day\n",
    "df['weekday'] = df['datetime'].dt.day_name()\n",
    "df['hour'] = df['datetime'].dt.hour\n",
    "df.head(3)"
   ]
  },
  {
   "cell_type": "markdown",
   "id": "df1b0e08",
   "metadata": {},
   "source": [
    "#### 3.4 카카오톡 메시지 길이"
   ]
  },
  {
   "cell_type": "code",
   "execution_count": null,
   "id": "205a011c",
   "metadata": {},
   "outputs": [],
   "source": [
    "# 메시지 길이, 메시지 단어 개수  컬럼 추가\n",
    "df['msg_len'] = df['text'].str.len()  # 메시지 길이\n",
    "df['msg_word_count'] = df['text'].str.split().str.len() #메시지 단어 개수\n",
    "df.head()"
   ]
  },
  {
   "cell_type": "markdown",
   "id": "97b7b12f",
   "metadata": {},
   "source": [
    "#### 3.5  사진, 동영상 정보 추출"
   ]
  },
  {
   "cell_type": "code",
   "execution_count": null,
   "id": "1ed93014",
   "metadata": {},
   "outputs": [],
   "source": [
    "audio_visual_text = '^동영상$|^사진$|^사진 [0-9]{1,2}장$'\n",
    "mask = df['text'].str.contains(audio_visual_text)\n",
    "df.loc[mask, 'audio_visual'] = 1\n",
    "df.loc[~mask, 'audio_visual'] = 0"
   ]
  },
  {
   "cell_type": "code",
   "execution_count": null,
   "id": "2aa57f72",
   "metadata": {
    "scrolled": false
   },
   "outputs": [],
   "source": [
    "# 메시지 건수 조정 (동영상/사진 등을 메시지로 인식한 경우 메시지 건수 0)\n",
    "df.loc[mask, 'msg_len'] = 0\n",
    "df.loc[mask, 'msg_word_count'] = 0\n",
    "df[df['audio_visual']==1]"
   ]
  },
  {
   "cell_type": "markdown",
   "id": "2161d681",
   "metadata": {},
   "source": [
    "#### 3.6  통화 정보 추출하기\n",
    "- 페이스톡 해요 (Face Call) : 통화 걸기\n",
    "- 페이스톡 취소 (Cancelled Face Call): 통화 취소\n",
    "- 페이스톡 부재중 (Missed Video Call): 상대방이 걸어왔지만 내가 응답 없었을 때\n",
    "- 페이스톡 응답없음 (No Answer on Video Call): 내가 걸었지만 상대방이 응답 없었을 때\n",
    "- 페이스톡 8:02 (Video Call 8:02): 10분 이내 통화\n",
    "- 페이스톡 26:25 (Video Call 26:25): 10분 이상 통화\n",
    "- 페이스톡 1:30:19 (Video Call 1:30:19): 1시간 이상 통화"
   ]
  },
  {
   "cell_type": "code",
   "execution_count": null,
   "id": "4e2b60c9",
   "metadata": {},
   "outputs": [],
   "source": [
    "df[df['text'].str.contains('보이스톡|페이스톡')]"
   ]
  },
  {
   "cell_type": "code",
   "execution_count": null,
   "id": "87f317cb",
   "metadata": {},
   "outputs": [],
   "source": [
    "def get_call_length(call_df):\n",
    "\n",
    "    call_mask = call_df.text.str.contains('해요|취소|부재중|응답없음')  # 0\n",
    "    call_df = call_df.text.str.extract('([0-9]{1,2}:)*([0-9]{1,2}):([0-9]{2})')  # 1\n",
    "    call_df[0] = call_df[0].str.replace(':', '')  # 2\n",
    "    call_df[0] = call_df[0].fillna(0)  # 3\n",
    "    call_df = call_df.astype(float)  # 4\n",
    "    call_df['call_len'] = call_df[0] * 3660 + call_df[1] * 60 + call_df[2]  # 5\n",
    "    call_df.loc[call_mask, 'call_len'] = 0  # 6\n",
    "\n",
    "    return call_df[['call_len']]  # 7\n",
    "\n",
    "call_col_dict = {\n",
    "    '페이스톡|Video Call': 'facetalk',\n",
    "    '보이스톡|Voice Call': 'voicetalk',\n",
    "}\n",
    "\n",
    "\n",
    "for call in call_col_dict:\n",
    "    mask = df['text'].str.contains(call)\n",
    "    call_df = get_call_length(df[mask])\n",
    "    call_df = call_df.rename(columns={'call_len': call_col_dict[call]})\n",
    "    call_df.head()\n",
    "\n",
    "    df = pd.concat([df, call_df], axis=1)"
   ]
  },
  {
   "cell_type": "code",
   "execution_count": null,
   "id": "aa1a7bd0",
   "metadata": {},
   "outputs": [],
   "source": [
    "mask = (df['voicetalk'] >= 0) | (df['facetalk'] >= 0)\n",
    "df.loc[mask, 'msg_len'] = 0\n",
    "df.loc[mask, 'msg_word_count'] = 0"
   ]
  },
  {
   "cell_type": "code",
   "execution_count": null,
   "id": "e63f3ee3",
   "metadata": {
    "scrolled": true
   },
   "outputs": [],
   "source": [
    "df[df['text'].str.contains('보이스톡|페이스톡')]"
   ]
  },
  {
   "cell_type": "markdown",
   "id": "33389716",
   "metadata": {},
   "source": [
    "#### 3.7  비언어 표현 추출하기(이모티콘 등)"
   ]
  },
  {
   "cell_type": "markdown",
   "id": "755ca5aa",
   "metadata": {},
   "source": [
    "| 비언어 표현 | 텍스트 데이터 예시 | 정규표현식 |\n",
    "|--|--|--|\n",
    "|웃음, 울음 (ㅋㅋ, ㅎㅎ)  |ㅋㅋ, ㅋㅋㅋㅋ, ㅎㅎㅎㅎㅎ  |[ㅋㅎㅠㅜ]+  |\n",
    "|느낌표 (!) , 물음표 (?)  |!, !!!!!!!, !?!?, ?????  |[!?~]+  |\n",
    "| 쉼표(,), 점(.) | ……. ,,,,,, | [,.]{2,} |\n",
    "| 이모티콘 타입 1 (입 중심)  | :) :D | \t[;:]{1}-?[)(DPpboOX] |\n",
    " |이모티콘 타입 1 (눈 중심)  | ^^, ㅜㅜ | ([>ㅜㅠㅡ@\\^-+][ㅁㅇ0oO._-] *[\\^ㅜㅠㅡ@<-+<];) |\n",
    "| 이모티콘 타입 2 | 😃😆😍❤ | 정규표현식 대신 emoji 라이브러리 사용 |\n",
    "| 이모티콘 타입 3 | (반함) (굿) (찡긋) (이모티콘 |  ((.*?)+) |"
   ]
  },
  {
   "cell_type": "code",
   "execution_count": null,
   "id": "5d2ad981",
   "metadata": {
    "scrolled": true
   },
   "outputs": [],
   "source": [
    "df"
   ]
  },
  {
   "cell_type": "code",
   "execution_count": null,
   "id": "46b67305",
   "metadata": {},
   "outputs": [],
   "source": [
    "# 모두 포함하는 정규 표현식\n",
    "# (\\(.+?\\)) | ([ㅋㅎㅠㅜ!?~]+) | [,.]{2,} | ([;:]{1}[\\^\\'-]?[)(DPpboOX]) | ([>ㅜㅠㅡ@+\\^][ㅁㅇ0oO\\._\\-]*[\\^ㅜㅠㅡ@+<];*)"
   ]
  },
  {
   "cell_type": "code",
   "execution_count": null,
   "id": "87f69a2d",
   "metadata": {},
   "outputs": [],
   "source": [
    "# 이모지 라이브러리 설치\n",
    "!pip install emoji"
   ]
  },
  {
   "cell_type": "code",
   "execution_count": null,
   "id": "842b87e8",
   "metadata": {
    "scrolled": true
   },
   "outputs": [],
   "source": [
    "import emoji \n",
    "\n",
    "def extract_emojis(text):\n",
    "    emoji_list = list()\n",
    "    for c in text:\n",
    "#         if c in emoji.UNICODE_EMOJI['en']:\n",
    "        if c in emoji.EMOJI_DATA:\n",
    "            emoji_list.append(c)\n",
    "\n",
    "    return emoji_list\n",
    "\n",
    "mimetic= \"[ㅋㅎㅠㅜ!?~]+\"\n",
    "punctuations = \"[,.]{2,}\"\n",
    "emo_type1_facial1 = \"[;:]{1}[\\^\\'-]?[)(DPpboOX]\"\n",
    "emo_type1_facial2 = \"[>ㅜㅠㅡ@\\^][ㅁㅇ0oO\\._\\-]*[\\^ㅜㅠㅡ@<];*\"\n",
    "emo_type3 = \"\\(.+?\\)\"\n",
    "\n",
    "# 1개ㅔ 이상의 비언어 표현을 가지고 있는 데이터 출력하기\n",
    "nonverbal_list = [mimetic, punctuations, emo_type1_facial1, emo_type1_facial2, emo_type3]\n",
    "\n",
    "df['nonverbal'] = df['text'].str.findall('|'.join(nonverbal_list)) + df['text'].map(extract_emojis)\n",
    "df['nonverbal_count'] = df['nonverbal'].apply(len)\n",
    "df.loc[df['nonverbal_count'] > 0]\n"
   ]
  },
  {
   "cell_type": "markdown",
   "id": "3213cfc9",
   "metadata": {},
   "source": [
    "#### 이모티콘 사용"
   ]
  },
  {
   "cell_type": "code",
   "execution_count": null,
   "id": "4e54f6b1",
   "metadata": {
    "scrolled": true
   },
   "outputs": [],
   "source": [
    "# 이모티콘 사용한 레코드 변경\n",
    "df.loc[df['text'] == '이모티콘', 'nonverbal'] = '[emoticon]'\n",
    "df.loc[df['text'] == '이모티콘', 'nonverbal_count'] = 1\n",
    "df.loc[df['text'] == '이모티콘', 'msg_len'] = 0\n",
    "df.loc[df['text'] == '이모티콘', 'msg_word_count'] = 0\n",
    "df.loc[df['text'] == '이모티콘']"
   ]
  },
  {
   "cell_type": "code",
   "execution_count": null,
   "id": "351301b7",
   "metadata": {},
   "outputs": [],
   "source": [
    "df.loc[df['text'] == '이모티콘'].count()"
   ]
  },
  {
   "cell_type": "markdown",
   "id": "e828e40b",
   "metadata": {},
   "source": [
    "#### 3.8 URL 추출하기"
   ]
  },
  {
   "cell_type": "code",
   "execution_count": null,
   "id": "0f0f48a0",
   "metadata": {},
   "outputs": [],
   "source": [
    "# URL 추출 라이브러리 설치하기\n",
    "!pip install urlextract"
   ]
  },
  {
   "cell_type": "code",
   "execution_count": null,
   "id": "8a9c04f1",
   "metadata": {},
   "outputs": [],
   "source": [
    "# URL 추출 예제\n",
    "from urlextract import URLExtract\n",
    "\n",
    "text = \"\"\"Google Colab: https://colab.research.google.com. \n",
    "       Introduction for google colab: https://colab.research.google.com/notebooks/intro.ipynb\"\"\"\n",
    "\n",
    "extractor = URLExtract()\n",
    "urls = extractor.find_urls(text)\n",
    "\n",
    "for url in urls:\n",
    "    print(url)"
   ]
  },
  {
   "cell_type": "code",
   "execution_count": null,
   "id": "b54e1ed2",
   "metadata": {},
   "outputs": [],
   "source": [
    "from urlextract import URLExtract\n",
    "\n",
    "\n",
    "extractor = URLExtract()\n",
    "\n",
    "df['url'] = df['text'].apply(extractor.find_urls)\n",
    "\n",
    "\n",
    "df['url_count'] = df['url'].apply(len)\n",
    "url_df = df.loc[df['url_count'] > 0]\n",
    "url_df[['date_time','user_name','url','url_count']]\n"
   ]
  },
  {
   "cell_type": "markdown",
   "id": "937638c2",
   "metadata": {},
   "source": [
    "#### 3.9  특정 조건의 컬럼 값 변경"
   ]
  },
  {
   "cell_type": "code",
   "execution_count": null,
   "id": "50589f72",
   "metadata": {
    "scrolled": true
   },
   "outputs": [],
   "source": [
    "df.loc[df['user_name'] == 'TMD-최수경-샘', 'user_name'] = '최수경'"
   ]
  },
  {
   "cell_type": "markdown",
   "id": "4f55e7e8",
   "metadata": {},
   "source": [
    "#### 3.10  데이터 저장하기"
   ]
  },
  {
   "cell_type": "code",
   "execution_count": null,
   "id": "1b85a630",
   "metadata": {},
   "outputs": [],
   "source": [
    "fname = './data/KakaoTalkChats_데이터분석_결과.csv'\n",
    "df.to_csv(fname)"
   ]
  },
  {
   "cell_type": "code",
   "execution_count": null,
   "id": "1528c7a0",
   "metadata": {},
   "outputs": [],
   "source": [
    "df = pd.read_csv(fname, encoding='utf-8')\n",
    "df"
   ]
  },
  {
   "cell_type": "markdown",
   "id": "2bacaeaf",
   "metadata": {},
   "source": [
    "----------------------------------------"
   ]
  },
  {
   "cell_type": "markdown",
   "id": "7a8eaed1",
   "metadata": {},
   "source": [
    "### 4. (기술통계)데이터 시각화\n",
    "- https://wikidocs.net/162798"
   ]
  },
  {
   "cell_type": "markdown",
   "id": "6ac44080",
   "metadata": {},
   "source": [
    "#### 4.1 일자별 선/막대 그래프 (plotly)"
   ]
  },
  {
   "cell_type": "code",
   "execution_count": null,
   "id": "e762472a",
   "metadata": {
    "scrolled": true
   },
   "outputs": [],
   "source": [
    "import plotly.express as px\n",
    "\n",
    "# 선그래프\n",
    "fig = px.line(df, x='date', title='카카오톡 일자별 메시지')\n",
    "fig"
   ]
  },
  {
   "cell_type": "code",
   "execution_count": null,
   "id": "6e3ddb57",
   "metadata": {},
   "outputs": [],
   "source": [
    "# 막대 그래프\n",
    "fig = px.bar(df, x='date', title='카카오톡 일자별 메시지')\n",
    "fig"
   ]
  },
  {
   "cell_type": "code",
   "execution_count": null,
   "id": "dd72bd18",
   "metadata": {},
   "outputs": [],
   "source": [
    "# 점그래프\n",
    "fig = px.scatter(df, x='date', title='카카오톡 일자별 메시지')\n",
    "fig"
   ]
  },
  {
   "cell_type": "markdown",
   "id": "1f590970",
   "metadata": {},
   "source": [
    "#### 4.2 사용자별 메시지 건수"
   ]
  },
  {
   "cell_type": "code",
   "execution_count": null,
   "id": "4d3b1705",
   "metadata": {},
   "outputs": [],
   "source": [
    "# 유니크한 사용자\n",
    "df['user_name'].unique()"
   ]
  },
  {
   "cell_type": "code",
   "execution_count": null,
   "id": "9c2cfca2",
   "metadata": {},
   "outputs": [],
   "source": [
    "# 사용자별 메시지 건수(default  파레토(Pareto) 분포: 내림차순 정렬)\n",
    "df['user_name'].value_counts()"
   ]
  },
  {
   "cell_type": "code",
   "execution_count": null,
   "id": "c2d43229",
   "metadata": {
    "scrolled": true
   },
   "outputs": [],
   "source": [
    "# 사용자별 메시지 건수\n",
    "fig = px.bar(df['user_name'].value_counts())\n",
    "fig.show()"
   ]
  },
  {
   "cell_type": "markdown",
   "id": "3383b027",
   "metadata": {},
   "source": [
    "#### 4.3 요일별 / 시간별 메시지 건수"
   ]
  },
  {
   "cell_type": "code",
   "execution_count": null,
   "id": "e24f49d8",
   "metadata": {},
   "outputs": [],
   "source": [
    "# 요일별 메시지 건수\n",
    "df['weekday'].value_counts()"
   ]
  },
  {
   "cell_type": "code",
   "execution_count": null,
   "id": "028815c3",
   "metadata": {},
   "outputs": [],
   "source": [
    "# 시간별 메시지 건수\n",
    "df['hour'].value_counts()"
   ]
  },
  {
   "cell_type": "code",
   "execution_count": null,
   "id": "4ab28fe0",
   "metadata": {},
   "outputs": [],
   "source": [
    "# 시간별 메시지 건수(인덱스 순서대로 정렬)\n",
    "df['hour'].value_counts().sort_index()"
   ]
  },
  {
   "cell_type": "code",
   "execution_count": null,
   "id": "3c2ec4bf",
   "metadata": {
    "scrolled": true
   },
   "outputs": [],
   "source": [
    "# 시간별 메시지 건수\n",
    "fig = px.bar(df['hour'].value_counts().sort_index())\n",
    "fig.show()"
   ]
  },
  {
   "cell_type": "markdown",
   "id": "8926cd01",
   "metadata": {},
   "source": [
    "#### 4.4 일자별 히스토그램 : 슬라이더 그래프"
   ]
  },
  {
   "cell_type": "code",
   "execution_count": null,
   "id": "f480a1fc",
   "metadata": {
    "scrolled": true
   },
   "outputs": [],
   "source": [
    "# 일자별 히스토그램\n",
    "fig = px.histogram(df, x='date')\n",
    "fig.show()"
   ]
  },
  {
   "cell_type": "code",
   "execution_count": null,
   "id": "0642c9da",
   "metadata": {
    "scrolled": false
   },
   "outputs": [],
   "source": [
    "# 슬라이더 그래프 생성: 확대해서 보여준다.\n",
    "fig = px.histogram(df, x='date')\n",
    "\n",
    "fig.update_xaxes(   \n",
    "    rangeslider_visible=True,\n",
    ")\n",
    "fig.show()"
   ]
  },
  {
   "cell_type": "code",
   "execution_count": null,
   "id": "3e152a31",
   "metadata": {
    "scrolled": true
   },
   "outputs": [],
   "source": [
    "# 사용자별 히스토그램\n",
    "fig = px.histogram(df, x='date', color='user_name')\n",
    "fig.show()"
   ]
  },
  {
   "cell_type": "markdown",
   "id": "63a8711b",
   "metadata": {},
   "source": [
    "------------"
   ]
  },
  {
   "cell_type": "markdown",
   "id": "aa565f48",
   "metadata": {},
   "source": [
    "THE END"
   ]
  }
 ],
 "metadata": {
  "kernelspec": {
   "display_name": "Python 3 (ipykernel)",
   "language": "python",
   "name": "python3"
  },
  "language_info": {
   "codemirror_mode": {
    "name": "ipython",
    "version": 3
   },
   "file_extension": ".py",
   "mimetype": "text/x-python",
   "name": "python",
   "nbconvert_exporter": "python",
   "pygments_lexer": "ipython3",
   "version": "3.10.9"
  }
 },
 "nbformat": 4,
 "nbformat_minor": 5
}
