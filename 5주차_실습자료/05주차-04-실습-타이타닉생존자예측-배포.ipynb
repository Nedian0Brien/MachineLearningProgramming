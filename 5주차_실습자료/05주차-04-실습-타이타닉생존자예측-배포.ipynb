{
 "cells": [
  {
   "cell_type": "markdown",
   "id": "302cc20d",
   "metadata": {
    "id": "0Nj76qUe2lnA"
   },
   "source": [
    "# [실습] 타이타닉 생존자 예측하기"
   ]
  },
  {
   "cell_type": "markdown",
   "id": "3ffeea5b",
   "metadata": {
    "id": "G40FawyyQl8c"
   },
   "source": [
    "### 목표\n",
    "- 타이타닉 데이터를 이용하여 데이터 **변수간의 상관관계**를 확인해 본다.\n",
    "- 사이킷런 분류 모델을 이용하여 타이타닉 **생존자를 예측하는 모델**을 만들어 본다.\n",
    "- **모델을 평가**해 본다."
   ]
  },
  {
   "cell_type": "markdown",
   "id": "6520d6a1",
   "metadata": {},
   "source": [
    "### 머신러닝 모델(분류)\n",
    "- **로지스틱 회귀** "
   ]
  },
  {
   "cell_type": "markdown",
   "id": "ac0d3fe8",
   "metadata": {},
   "source": [
    "### 평가지표\n",
    "- 정확도(accuracy_score)\n",
    "- 오차행렬(confusion_matrix)\n",
    "- 정밀도(precision_score)\n",
    "- 재현율(recall_score)\n",
    "- F1점수(f1_score)"
   ]
  },
  {
   "cell_type": "markdown",
   "id": "c316bc4a",
   "metadata": {
    "id": "JYHb_Mf-2lnG"
   },
   "source": [
    "## 1. 데이터 준비하기\n",
    "\n",
    "- 다운로드:  https://www.kaggle.com/competitions/titanic/data \n",
    "- train.csv : 모델 학습에 사용되는 데이터 파일\n",
    "- test.csv : 예측에 사용되는 탑승객들의 데이터 파일"
   ]
  },
  {
   "cell_type": "code",
   "execution_count": null,
   "id": "efa4764e",
   "metadata": {
    "scrolled": true
   },
   "outputs": [],
   "source": [
    "import pandas as pd\n",
    "import seaborn as sns \n",
    "import matplotlib.pyplot as plt\n",
    "# plt.rc('font', family='AppleGothic')            # for 맥 노트북 사용자\n",
    "plt.rcParams['font.family'] = 'Malgun Gothic'  # for 윈도우 노트북 사용자\n",
    "plt.rcParams['axes.unicode_minus'] = False     # 그래프에서 (-)숫자표시\n",
    "plt.rcParams['figure.figsize'] = (5,3)\n",
    "\n",
    "DIR = './data/titanic/'\n",
    "train = pd.read_csv(DIR+'train.csv')\n",
    "test = pd.read_csv(DIR+'test.csv')\n",
    "submission = pd.read_csv(DIR+'gender_submission.csv')\n",
    "train.head()"
   ]
  },
  {
   "cell_type": "markdown",
   "id": "3349b5e4",
   "metadata": {},
   "source": [
    "----------------------"
   ]
  },
  {
   "cell_type": "markdown",
   "id": "5bf7ca53",
   "metadata": {},
   "source": [
    "## 2. 데이터 전처리"
   ]
  },
  {
   "cell_type": "markdown",
   "id": "d6075e92",
   "metadata": {},
   "source": [
    "### 2-1. 기본 정보 확인"
   ]
  },
  {
   "cell_type": "markdown",
   "id": "a74ee6e9",
   "metadata": {},
   "source": [
    "#### 데이터의 개수 확인"
   ]
  },
  {
   "cell_type": "code",
   "execution_count": null,
   "id": "a1abeac8",
   "metadata": {
    "scrolled": true
   },
   "outputs": [],
   "source": [
    "\n"
   ]
  },
  {
   "cell_type": "markdown",
   "id": "e95fed37",
   "metadata": {},
   "source": [
    "#### 컬럼정보 "
   ]
  },
  {
   "cell_type": "code",
   "execution_count": null,
   "id": "efab75f6",
   "metadata": {},
   "outputs": [],
   "source": []
  },
  {
   "cell_type": "markdown",
   "id": "6a05071d",
   "metadata": {},
   "source": [
    "| 필드명 | 설명 | 값 종류 |\n",
    "|------|------|------|\n",
    "|PassengerId |승객번호  |\t|\n",
    "|Survived |생존여부  |0=No, 1=Yes|\t\n",
    "|Pclass |티켓 클래스 |1=1st, 2=2nd, 3=3rd|\t\n",
    "|Name |이름  |\t|\t\n",
    "|Sex |성별  |male=남, female=여\t|\t\n",
    "|Age |나이  |\t|\t\n",
    "|SibSp |타이타닉 밖의 형제자매/부부의 수  |\t|\t\n",
    "|Parch |타이타닉 밖의 부모/자식의 수 |\t|\t\n",
    "|Ticket |티켓 번호  |\t|\t\n",
    "|Fare |티켓 가격  |\t|\t\n",
    "|Cabin |객실 번호  |\t|\t\n",
    "|Embarked |승선항구  |C=Cherbourg, Q=Queenstown, S=Southampton|"
   ]
  },
  {
   "cell_type": "markdown",
   "id": "a73806a5",
   "metadata": {},
   "source": [
    "### 2-2.상관계수로 연관된 필드 확인\n",
    "- 상관분석(Correlation Analysus) : 두 변수간에 어떤 선형적인 관계를 가지고 있는지를 분석하는 방법\n",
    "- 상관계수(Correlation coefficient): 두 개의 변수가 같이 일어나는 강도를 나타내는 수치 \n",
    "- **-1에서 1**사이의 값을 지닙니다. \n",
    "- -1이나 1인 수치는 현실 세계에서 관측되기 힘든 수치입니다. \n",
    "- 분야별로 기준을 정하는 것에 따라 달라지겠지만, **보통 0.4이상**이면 두 개의 변수간에 상관성이 있다고 얘기합니다. "
   ]
  },
  {
   "cell_type": "markdown",
   "id": "329bb154",
   "metadata": {},
   "source": [
    "<img src=\"https://t1.daumcdn.net/cfile/tistory/99DEE1425C6A9F2008\" width=\"400\" height=\"400\"/>"
   ]
  },
  {
   "cell_type": "markdown",
   "id": "ab15fb4c",
   "metadata": {},
   "source": [
    "#### 컬럼에 대한 상관계수 확인 "
   ]
  },
  {
   "cell_type": "code",
   "execution_count": null,
   "id": "39244dba",
   "metadata": {
    "scrolled": true
   },
   "outputs": [],
   "source": [
    "# df.corr()"
   ]
  },
  {
   "cell_type": "markdown",
   "id": "27dda230",
   "metadata": {},
   "source": [
    "#### 특정 컬럼과 나머지 컬럼간의 상관계수 확인"
   ]
  },
  {
   "cell_type": "code",
   "execution_count": null,
   "id": "ef40df3d",
   "metadata": {
    "scrolled": true
   },
   "outputs": [],
   "source": [
    "# df.corrwith(특정 컬럼)"
   ]
  },
  {
   "cell_type": "markdown",
   "id": "65f30034",
   "metadata": {},
   "source": [
    "#### 범주형 데이터  변환\n",
    "- 성별(Sex): 0, 1 숫자로 변환"
   ]
  },
  {
   "cell_type": "code",
   "execution_count": null,
   "id": "193300db",
   "metadata": {},
   "outputs": [],
   "source": [
    "\n"
   ]
  },
  {
   "cell_type": "markdown",
   "id": "cb41b947",
   "metadata": {},
   "source": [
    "#### 학습데이터 상관계수 시각화하기(seaborn heatmap사용)"
   ]
  },
  {
   "cell_type": "code",
   "execution_count": null,
   "id": "435aad80",
   "metadata": {
    "scrolled": true
   },
   "outputs": [],
   "source": [
    "import seaborn as sns\n",
    "#sns.heatmap(학습데이터 상관계수, annot=True)\n"
   ]
  },
  {
   "cell_type": "markdown",
   "id": "9ede788f",
   "metadata": {},
   "source": [
    "### 2-3.결측치 처리"
   ]
  },
  {
   "cell_type": "markdown",
   "id": "6fd23ded",
   "metadata": {},
   "source": [
    "### # train 결측치 처리"
   ]
  },
  {
   "cell_type": "markdown",
   "id": "cdf6d162",
   "metadata": {},
   "source": [
    "#### train.info() : Non-Null Count 를 통해 확인한 내용\n",
    "- **Age** : 결측치 데이터 삭제한다.\n",
    "- **Embarked** : 범주형 데이터로 변환한다.(C,Q,S=0,1,2) + 결측치(유사 데이터값으로 채움)"
   ]
  },
  {
   "cell_type": "markdown",
   "id": "dadff419",
   "metadata": {},
   "source": [
    "#### Age값 결측치 데이터 삭제"
   ]
  },
  {
   "cell_type": "code",
   "execution_count": null,
   "id": "4785b139",
   "metadata": {},
   "outputs": [],
   "source": []
  },
  {
   "cell_type": "markdown",
   "id": "f5f97199",
   "metadata": {},
   "source": [
    "#### Embarked :  범주형 데이터로 변환(C,Q,S=0,1,2) + 결측치(관련데이터 값으로 변환)"
   ]
  },
  {
   "cell_type": "code",
   "execution_count": null,
   "id": "b72f989c",
   "metadata": {},
   "outputs": [],
   "source": []
  },
  {
   "cell_type": "code",
   "execution_count": null,
   "id": "3a4e3847",
   "metadata": {},
   "outputs": [],
   "source": []
  },
  {
   "cell_type": "markdown",
   "id": "7d97b0ef",
   "metadata": {},
   "source": [
    "### # test 결측치 처리"
   ]
  },
  {
   "cell_type": "code",
   "execution_count": null,
   "id": "370e0428",
   "metadata": {},
   "outputs": [],
   "source": []
  },
  {
   "cell_type": "code",
   "execution_count": null,
   "id": "5ada0755",
   "metadata": {},
   "outputs": [],
   "source": []
  },
  {
   "cell_type": "markdown",
   "id": "d367d2ac",
   "metadata": {},
   "source": [
    "### 2-4.정규화 & 표준화\n",
    "\n",
    "- **정규화(Normalization)** : -1 ~ 1 사이의 값으로 변환\n",
    "- **표준화(Standardization)** : 평균이 0이고 표준편차가 1인 값으로 변환\n",
    "- 머신러닝 성능 향상을 위한 방법\n",
    "- 정규화와 표준화는 모두 머신러닝 알고리즘을 훈련시키는데 있어서 사용되는 특성(feature)들이 모두 비슷한 영향력을 행사하도록 값을 변환해주는 기술"
   ]
  },
  {
   "cell_type": "code",
   "execution_count": null,
   "id": "14495057",
   "metadata": {},
   "outputs": [],
   "source": [
    "def normalize(x):\n",
    "    return (x-x.min())/(x.max()-x.min())\n",
    "\n",
    "def standardscaler(x):\n",
    "    return (x-x.mean())/x.std()"
   ]
  },
  {
   "cell_type": "markdown",
   "id": "e6b7d9ed",
   "metadata": {},
   "source": [
    "#### Fare 컬럼 정규화&표준화 : 사이킷런의 정규화표준화 클래스 이용"
   ]
  },
  {
   "cell_type": "code",
   "execution_count": null,
   "id": "3474ad72",
   "metadata": {},
   "outputs": [],
   "source": [
    "from sklearn.preprocessing import StandardScaler\n",
    "\n",
    "s = StandardScaler()\n",
    "s.fit(train[['Fare']])\n",
    "train_fare = s.transform(train[['Fare']])\n",
    "test_fare = s.transform(test[['Fare']])\n",
    "\n",
    "# 정규화표준화된 값으로 신규컬럼 추가\n",
    "train['Fare2'] = train_fare\n",
    "test['Fare2'] = test_fare\n",
    "\n",
    "# 데이터 형 변환\n",
    "train['Fare2'] = train['Fare2'].astype('float64')\n",
    "test['Fare2'] = test['Fare2'].astype('float64')"
   ]
  },
  {
   "cell_type": "markdown",
   "id": "a9195451",
   "metadata": {},
   "source": [
    "#### 최종 종속변수와 독립변수로 지정\n",
    "- 'Age' 컬럼을 종속변수로 사용하지 않는 이유: 편차가 너무 크고 null값이 너무 많았기 때문.\n",
    "- **종속변수** : Survived \n",
    "- **독립변수** : Pclass, Sex, SibSp, Parch, Fare(Fare2), Embarked     "
   ]
  },
  {
   "cell_type": "code",
   "execution_count": null,
   "id": "0b19bbd5",
   "metadata": {
    "scrolled": true
   },
   "outputs": [],
   "source": [
    "data = train[['Pclass', 'Sex', 'SibSp', 'Parch', 'Fare2', 'Embarked','Survived']]\n",
    "dataT= test[['Pclass', 'Sex', 'SibSp', 'Parch', 'Fare2', 'Embarked']]\n",
    "data.head()"
   ]
  },
  {
   "cell_type": "code",
   "execution_count": null,
   "id": "9b33badc",
   "metadata": {},
   "outputs": [],
   "source": [
    "dataT.head()"
   ]
  },
  {
   "cell_type": "markdown",
   "id": "77d36059",
   "metadata": {},
   "source": [
    "### 2-5. 시각화"
   ]
  },
  {
   "cell_type": "code",
   "execution_count": null,
   "id": "e9a963ca",
   "metadata": {
    "scrolled": true
   },
   "outputs": [],
   "source": [
    "import seaborn as sns\n",
    "import matplotlib.pyplot as plt\n",
    "\n",
    "sns.pairplot(data, hue='Survived')\n",
    "plt.show()"
   ]
  },
  {
   "cell_type": "code",
   "execution_count": null,
   "id": "d3cbdb7d",
   "metadata": {
    "scrolled": false
   },
   "outputs": [],
   "source": [
    "data.info()"
   ]
  },
  {
   "cell_type": "markdown",
   "id": "38857e7b",
   "metadata": {},
   "source": [
    "---------------------"
   ]
  },
  {
   "cell_type": "markdown",
   "id": "9dbf81d0",
   "metadata": {},
   "source": [
    "## 3. 모델링"
   ]
  },
  {
   "cell_type": "markdown",
   "id": "58270bef",
   "metadata": {},
   "source": [
    "### 3-1. 학습용 데이터 준비"
   ]
  },
  {
   "cell_type": "code",
   "execution_count": null,
   "id": "06528f75",
   "metadata": {},
   "outputs": [],
   "source": [
    "X = data.iloc[:,:6].values\n",
    "y = data.iloc[:,6].values\n",
    "X, y"
   ]
  },
  {
   "cell_type": "markdown",
   "id": "7e292ce9",
   "metadata": {},
   "source": [
    "### 3-2. 학습용, 테스트 데이터 분리하기"
   ]
  },
  {
   "cell_type": "code",
   "execution_count": null,
   "id": "239d90bc",
   "metadata": {},
   "outputs": [],
   "source": [
    "\n"
   ]
  },
  {
   "cell_type": "markdown",
   "id": "ac410534",
   "metadata": {},
   "source": [
    "### 3-3.모델 훈련 및 테스트, 성능평가"
   ]
  },
  {
   "cell_type": "markdown",
   "id": "1ebce9d4",
   "metadata": {},
   "source": [
    "#### # 로직스틱 회귀 : LogisticRegression()\n",
    "- 분류에 적용 시그이드 함수 사용 \n",
    "- 평가 지표 : 오차행렬(confusion_matrix) 정확도 사용"
   ]
  },
  {
   "cell_type": "code",
   "execution_count": null,
   "id": "9770eb3a",
   "metadata": {
    "scrolled": false
   },
   "outputs": [],
   "source": [
    "from sklearn.linear_model import LogisticRegression\n",
    "from sklearn.metrics import confusion_matrix, ConfusionMatrixDisplay\n",
    "from sklearn.metrics import accuracy_score, precision_score, recall_score, f1_score, roc_auc_score \n",
    "import numpy as np\n",
    "\n",
    "# 학습모델(분류) : 로지스틱 회귀\n",
    "\n",
    "\n",
    "\n",
    "# 모델 훈련\n",
    "\n",
    "\n",
    "\n",
    "# 예측\n",
    "\n",
    "\n",
    "\n",
    "# 정확도 출력\n",
    "\n",
    "\n",
    "\n",
    "\n",
    "# 혼돈행렬 시각화\n",
    "\n",
    "\n",
    "\n",
    "# 평가지표\n",
    "print(f'정확도 : {accuracy_score(y, y_pred)}')\n",
    "print(f'정밀도 : {precision_score(y, y_pred)}')\n",
    "print(f'재현율 : {recall_score(y, y_pred)}')\n",
    "print(f'F1    : {f1_score(y, y_pred)}')\n",
    "print(f'ROC_ACU : {roc_auc_score(y, y_pred)}')"
   ]
  },
  {
   "cell_type": "markdown",
   "id": "40d7a913",
   "metadata": {},
   "source": [
    "#### 테스트 데이터 넣어서 예측하기"
   ]
  },
  {
   "cell_type": "code",
   "execution_count": null,
   "id": "0a4be681",
   "metadata": {
    "scrolled": true
   },
   "outputs": [],
   "source": []
  },
  {
   "cell_type": "markdown",
   "id": "e54398db",
   "metadata": {},
   "source": [
    "-------------------"
   ]
  },
  {
   "cell_type": "markdown",
   "id": "5f794a5d",
   "metadata": {},
   "source": [
    "THE END"
   ]
  }
 ],
 "metadata": {
  "kernelspec": {
   "display_name": "Python 3 (ipykernel)",
   "language": "python",
   "name": "python3"
  },
  "language_info": {
   "codemirror_mode": {
    "name": "ipython",
    "version": 3
   },
   "file_extension": ".py",
   "mimetype": "text/x-python",
   "name": "python",
   "nbconvert_exporter": "python",
   "pygments_lexer": "ipython3",
   "version": "3.10.9"
  }
 },
 "nbformat": 4,
 "nbformat_minor": 5
}
