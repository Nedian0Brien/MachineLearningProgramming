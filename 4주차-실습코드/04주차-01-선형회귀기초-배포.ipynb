{
 "cells": [
  {
   "cell_type": "markdown",
   "id": "0402635a",
   "metadata": {},
   "source": [
    "# Chapter07 선형회귀 기초\n",
    "데이터 과학을 위한 파이썬 머신러닝"
   ]
  },
  {
   "cell_type": "markdown",
   "id": "aba25279",
   "metadata": {},
   "source": [
    "- <a href=\"#Scikit-learn\">Scikit-learn</a>\n",
    "- <a href=\"#07.1선형회귀이해\">07.1 선형회귀 이해</a>\n",
    "- <a href=\"#07.2선형회귀기초수식\">07.2 선형회귀 기초 수식</a>\n",
    "- <a href=\"#07.3최소자승법으로선형회귀풀기\">07.3 최소자승법으로 선형회귀 풀기</a>\n",
    "- <a href=\"#07.4경사하강법으로선형회귀풀기\">07.4 경사하강법으로 선형회귀 풀기</a>\n",
    "- <a href=\"#07.5선형회귀성능측정하기\">07.5 선형회귀 성능 측정하기</a>\n",
    "- <a href=\"#07.6코드로선형회귀구현하기\">07.6 코드로 선형회귀 구현하기</a>"
   ]
  },
  {
   "cell_type": "markdown",
   "id": "e08bd77c",
   "metadata": {},
   "source": [
    "------------------"
   ]
  },
  {
   "cell_type": "markdown",
   "id": "2fe9cbc1",
   "metadata": {},
   "source": [
    "## <a name=\"Scikit-learn\">Scikit-learn</a>"
   ]
  },
  {
   "cell_type": "markdown",
   "id": "4e0aaff5",
   "metadata": {},
   "source": [
    "### 라이브러리 사용"
   ]
  },
  {
   "cell_type": "code",
   "execution_count": null,
   "id": "f4247bb1",
   "metadata": {},
   "outputs": [],
   "source": [
    "!pip install scikit-learn"
   ]
  },
  {
   "cell_type": "code",
   "execution_count": null,
   "id": "4ce7b4c2",
   "metadata": {
    "scrolled": true
   },
   "outputs": [],
   "source": [
    "import sklearn\n",
    "sklearn.show_versions()"
   ]
  },
  {
   "cell_type": "markdown",
   "id": "ed30e908",
   "metadata": {},
   "source": [
    "### Scikit-learn API 사용 예제\n",
    "- 단순 선형 회귀"
   ]
  },
  {
   "cell_type": "code",
   "execution_count": 5,
   "id": "8ea8ef22",
   "metadata": {
    "scrolled": true
   },
   "outputs": [
    {
     "data": {
      "image/png": "[encoded data removed]",
      "text/plain": [
       "<Figure size 400x300 with 1 Axes>"
      ]
     },
     "metadata": {},
     "output_type": "display_data"
    }
   ],
   "source": [
    "import numpy as np\n",
    "import matplotlib.pyplot as plt\n",
    "import warnings\n",
    "warnings.filterwarnings('ignore')\n",
    "\n",
    "plt.style.use(['seaborn-whitegrid'])\n",
    "plt.rcParams['figure.figsize'] =(4, 3)\n",
    "\n",
    "x = 10 * np.random.rand(50)           # 임의의 x값 50개\n",
    "y = 2 * x + np.random.rand(50)        # y = 2x + b\n",
    "\n",
    "plt.scatter(x, y)\n",
    "plt.show()"
   ]
  },
  {
   "cell_type": "code",
   "execution_count": 8,
   "id": "0ee16a96",
   "metadata": {},
   "outputs": [
    {
     "data": {
      "text/plain": [
       "array([[1.43353287],\n",
       "       [9.44668917],\n",
       "       [5.21848322],\n",
       "       [4.1466194 ],\n",
       "       [2.64555612],\n",
       "       [7.74233689],\n",
       "       [4.56150332],\n",
       "       [5.68433949],\n",
       "       [0.187898  ],\n",
       "       [6.17635497],\n",
       "       [6.12095723],\n",
       "       [6.16933997],\n",
       "       [9.43748079],\n",
       "       [6.81820299],\n",
       "       [3.59507901],\n",
       "       [4.37031954],\n",
       "       [6.97631196],\n",
       "       [0.60225472],\n",
       "       [6.66766715],\n",
       "       [6.7063787 ],\n",
       "       [2.10382561],\n",
       "       [1.28926298],\n",
       "       [3.15428351],\n",
       "       [3.63710771],\n",
       "       [5.7019677 ],\n",
       "       [4.38601513],\n",
       "       [9.88373838],\n",
       "       [1.02044811],\n",
       "       [2.08876756],\n",
       "       [1.61309518],\n",
       "       [6.53108325],\n",
       "       [2.53291603],\n",
       "       [4.66310773],\n",
       "       [2.44425592],\n",
       "       [1.58969584],\n",
       "       [1.10375141],\n",
       "       [6.56329589],\n",
       "       [1.38182951],\n",
       "       [1.96582362],\n",
       "       [3.68725171],\n",
       "       [8.2099323 ],\n",
       "       [0.97101276],\n",
       "       [8.37944907],\n",
       "       [0.96098408],\n",
       "       [9.76459465],\n",
       "       [4.68651202],\n",
       "       [9.76761088],\n",
       "       [6.0484552 ],\n",
       "       [7.39263579],\n",
       "       [0.39187792]])"
      ]
     },
     "execution_count": 8,
     "metadata": {},
     "output_type": "execute_result"
    }
   ],
   "source": [
    "# 1. 적절한 estimator 클래스를 임포트해서 모델의 클래스 선택\n",
    "from sklearn.linear_model import LinearRegression\n",
    "\n",
    "# 2. 클래스를 원하는 값으로 인스턴스화해서 모델의 하이퍼파라미터 선택\n",
    "model = LinearRegression(fit_intercept=True)\n",
    "model\n",
    "\n",
    "# 3. 데이터를 특징 배열과 대상 벡터로 배치\n",
    "X = x[:, np.newaxis]   # 1차원 -> 2차원으로 차원 증가시키기 (np.newaxis)\n",
    "X"
   ]
  },
  {
   "cell_type": "code",
   "execution_count": 9,
   "id": "f3b2da99",
   "metadata": {},
   "outputs": [
    {
     "name": "stdout",
     "output_type": "stream",
     "text": [
      "선형 회귀 모델의 계수(weight) : [2.0033801]\n",
      "선형 회귀 모델의 절편(bias)   : 0.48879786072018305\n"
     ]
    }
   ],
   "source": [
    "# 4. 모델 인스턴스의 fit() 메서드를 호출해 모델을 데이터에 적합\n",
    "model.fit(X, y)\n",
    "\n",
    "print(f'선형 회귀 모델의 계수(weight) : {model.coef_}')      # 선형 회귀 모형의 계수(weight)\n",
    "print(f'선형 회귀 모델의 절편(bias)   : {model.intercept_}') # 선형 회귀 모형의 절편(bias)"
   ]
  },
  {
   "cell_type": "code",
   "execution_count": 7,
   "id": "3ed44c66",
   "metadata": {
    "scrolled": true
   },
   "outputs": [
    {
     "data": {
      "image/png": "[encoded data removed]",
      "text/plain": [
       "<Figure size 400x300 with 1 Axes>"
      ]
     },
     "metadata": {},
     "output_type": "display_data"
    }
   ],
   "source": [
    "# 5. 모델을 새 데이터에 대해서 적용\n",
    "xfit = np.linspace(-1, 11)   # -1 ~ 11 사이 균등분할 값 50개(default 50개)\n",
    "Xfit = xfit[:, np.newaxis]\n",
    "yfit = model.predict(Xfit)\n",
    "\n",
    "plt.scatter(x, y)\n",
    "plt.plot(xfit, yfit, '--r');\n",
    "plt.show()"
   ]
  },
  {
   "cell_type": "markdown",
   "id": "6797d037",
   "metadata": {},
   "source": [
    "### [실습] 키로 몸무게 추정하는 단순 선형회귀 모델\n",
    "- 167cm 남학생의 몸무게는?\n",
    "- 167cm 여학생의 몸무게는? "
   ]
  },
  {
   "cell_type": "code",
   "execution_count": 12,
   "id": "f3a34460",
   "metadata": {},
   "outputs": [
    {
     "name": "stdout",
     "output_type": "stream",
     "text": [
      "선형회귀직선: y = 0.75x + -61.23\n",
      "선형회귀직선의 관계점수(R2):  0.84\n",
      "167cm 남학생 추정 몸무게: [63.69388959]\n",
      "167cm 여학생 추정 몸무게: [56.46358918]\n",
      "167cm 남학생, 여학생의 추정 몸무게: [63.69388959 56.46358918]\n"
     ]
    }
   ],
   "source": [
    "import pandas as pd\n",
    "from sklearn.linear_model import LinearRegression\n",
    "\n",
    "# 1. 데이터 준비\n",
    "df = pd.read_excel('./data/키와몸무게.xlsx')\n",
    "df\n",
    "\n",
    "# 2. 학습모델 선정\n",
    "model = LinearRegression()  # 선형회귀모델\n",
    "\n",
    "# 3. 하이퍼파라미터\n",
    "\n",
    "# 4. 학습\n",
    "X = df[['키','구분']]  # 구분: 남자 0, 여자 1\n",
    "Y = df.몸무게\n",
    "model.fit(X.values, Y)  # X 대신 X.values (warnings.warn 메시지 안나오게 하려면)\n",
    "\n",
    "# 5. 검증\n",
    "# y = ax + b\n",
    "coef = model.coef_               # 직선의 기울기(a)\n",
    "intercept = model.intercept_     # 직선의 절편(b)\n",
    "score = model.score(X, Y)        # 추정된 회귀직선의 정확도(결정계수 r2)\n",
    "print(f\"선형회귀직선: y = {coef[0]:.2f}x + {intercept: .2f}\")\n",
    "print(f\"선형회귀직선의 관계점수(R2): {score: .2f}\")\n",
    "print(f\"167cm 남학생 추정 몸무게: {model.predict([[167,0]])}\")\n",
    "print(f\"167cm 여학생 추정 몸무게: {model.predict([[167,1]])}\")\n",
    "print(f\"167cm 남학생, 여학생의 추정 몸무게: {model.predict([[167,0], [167,1]])}\")"
   ]
  },
  {
   "cell_type": "markdown",
   "id": "41fb4f53",
   "metadata": {},
   "source": [
    "### Scikit-learn 내장 Dataset 사용 예제\n",
    "#### 내장 데이터셋 구조\n",
    "- 일반적으로 딕셔너리 형태로 구성\n",
    "- data: 특징 데이터 세트\n",
    "- target: 분류용은 레이블 값, 회귀용은 숫자 결과값 데이터\n",
    "- target_names: 개별 레이블의 이름 (분류용)\n",
    "- feature_names: 특징 이름\n",
    "- DESCR: 데이터 세트에 대한 설명과 각 특징 설명"
   ]
  },
  {
   "cell_type": "code",
   "execution_count": null,
   "id": "533968bb",
   "metadata": {},
   "outputs": [],
   "source": [
    "from sklearn.datasets import load_diabetes\n",
    "df = load_diabetes()\n",
    "print(df.keys())\n",
    "# print(df.data)\n",
    "# print(df.target)\n",
    "# print(df.DESCR)\n",
    "print(df.feature_names)\n",
    "print(df.data_filename)\n",
    "print(df.target_filename)"
   ]
  },
  {
   "cell_type": "markdown",
   "id": "a7558d78",
   "metadata": {},
   "source": [
    "-----"
   ]
  },
  {
   "cell_type": "markdown",
   "id": "c928bb54",
   "metadata": {},
   "source": [
    "## <a name=\"07.1선형회귀이해\">07.1 선형회귀 이해</a>"
   ]
  },
  {
   "cell_type": "markdown",
   "id": "92254add",
   "metadata": {},
   "source": [
    "### 1. 선형회귀의 개념\n",
    "- 선형회귀(Linear Regression) : 종속변수 $y$ 와 한 개 이상의 독립변수  $x$ 와의 선형 상관관계를 모델링하는 회귀분석 기법\n",
    "- 기존 데이터를 활용해 연속형 변수값을 예측\n",
    "- $y=ax+b$꼴의 수식을 만들고 a와 b의 값을 찾아냄"
   ]
  },
  {
   "cell_type": "markdown",
   "id": "b9770660",
   "metadata": {},
   "source": [
    "### 2. 예측 함수와 실제값 간의 차이\n",
    "- 예측 함수는 예측값과 실제값 간의 차이를 최소화하는 방향으로\n",
    "- 데이터 n개 중 i번째 데이터의 값에 대한 실제값과 예측값의 차이 : $\\hat{y^i} - y^i$\n",
    "- 데이터가 5개 있을 때 5개 데이터의 오차의 합\n",
    " - - $(\\hat{y^1} - y^1) + (\\hat{y^2} - y^2) + (\\hat{y^3} - y^3) + (\\hat{y^4} - y^4) + (\\hat{y^5} - y^5)$\n",
    " - - 오차 값들이 음수와 양수로 나왔을 때 값들 간의 차이가 상쇄되어 0으로 계산될 수 있음 <br><br>\n",
    "- 값의 제곱을 사용하여 오차의 합을 표현: square error\n",
    " - - $(\\hat{y^1} - y^1)^2 + (\\hat{y^2} - y^2)^2 + (\\hat{y^3} - y^3)^2 + (\\hat{y^4} - y^4)^2 + (\\hat{y^5} - y^5)^2 = \\sum_{i=1}^n (\\hat{y^i} - y^i)^2 $ <br><br>\n",
    "- 제곱 오차를 최소화하는 $w_0$ 와 $w_1$ 을 찾아야 함\n",
    " - - $\\sum_{i=1}^n (w_i x^i + w_0$ x $1 - y^i)^2 $"
   ]
  },
  {
   "cell_type": "markdown",
   "id": "6086d372",
   "metadata": {},
   "source": [
    "----------------"
   ]
  },
  {
   "cell_type": "markdown",
   "id": "23d84917",
   "metadata": {},
   "source": [
    "## <a name=\"07.2선형회귀기초수식\">07.2 선형회귀 기초 수식</a>"
   ]
  },
  {
   "cell_type": "markdown",
   "id": "a7829d52",
   "metadata": {},
   "source": [
    "### 1. 비용함수의 개념"
   ]
  },
  {
   "cell_type": "code",
   "execution_count": 13,
   "id": "5efe0207",
   "metadata": {},
   "outputs": [
    {
     "name": "stdout",
     "output_type": "stream",
     "text": [
      "w:-3.0, cost:74.66666666666667\n",
      "w:-2.9, cost:70.98\n",
      "w:-2.8, cost:67.38666666666666\n",
      "w:-2.7, cost:63.88666666666668\n",
      "w:-2.6, cost:60.48000000000001\n",
      "w:-2.5, cost:57.166666666666664\n",
      "w:-2.4, cost:53.94666666666666\n",
      "w:-2.3, cost:50.81999999999999\n",
      "w:-2.2, cost:47.78666666666668\n",
      "w:-2.1, cost:44.84666666666667\n",
      "w:-2.0, cost:42.0\n",
      "w:-1.9, cost:39.24666666666666\n",
      "w:-1.8, cost:36.586666666666666\n",
      "w:-1.7, cost:34.02\n",
      "w:-1.6, cost:31.54666666666667\n",
      "w:-1.5, cost:29.166666666666668\n",
      "w:-1.4, cost:26.879999999999995\n",
      "w:-1.3, cost:24.686666666666667\n",
      "w:-1.2, cost:22.586666666666662\n",
      "w:-1.1, cost:20.580000000000002\n",
      "w:-1.0, cost:18.666666666666668\n",
      "w:-0.9, cost:16.846666666666668\n",
      "w:-0.8, cost:15.120000000000003\n",
      "w:-0.7, cost:13.486666666666665\n",
      "w:-0.6, cost:11.946666666666667\n",
      "w:-0.5, cost:10.5\n",
      "w:-0.4, cost:9.146666666666667\n",
      "w:-0.3, cost:7.886666666666667\n",
      "w:-0.2, cost:6.72\n",
      "w:-0.1, cost:5.646666666666666\n",
      "w:0.0, cost:4.666666666666667\n",
      "w:0.1, cost:3.7800000000000007\n",
      "w:0.2, cost:2.986666666666667\n",
      "w:0.3, cost:2.2866666666666666\n",
      "w:0.4, cost:1.6799999999999997\n",
      "w:0.5, cost:1.1666666666666667\n",
      "w:0.6, cost:0.7466666666666669\n",
      "w:0.7, cost:0.4200000000000002\n",
      "w:0.8, cost:0.1866666666666665\n",
      "w:0.9, cost:0.04666666666666663\n",
      "w:1.0, cost:0.0\n",
      "w:1.1, cost:0.046666666666666745\n",
      "w:1.2, cost:0.1866666666666665\n",
      "w:1.3, cost:0.4200000000000002\n",
      "w:1.4, cost:0.746666666666666\n",
      "w:1.5, cost:1.1666666666666667\n",
      "w:1.6, cost:1.6800000000000008\n",
      "w:1.7, cost:2.2866666666666657\n",
      "w:1.8, cost:2.9866666666666677\n",
      "w:1.9, cost:3.779999999999999\n",
      "w:2.0, cost:4.666666666666667\n",
      "w:2.1, cost:5.646666666666668\n",
      "w:2.2, cost:6.720000000000002\n",
      "w:2.3, cost:7.886666666666664\n",
      "w:2.4, cost:9.146666666666663\n",
      "w:2.5, cost:10.5\n",
      "w:2.6, cost:11.94666666666667\n",
      "w:2.7, cost:13.486666666666673\n",
      "w:2.8, cost:15.119999999999996\n",
      "w:2.9, cost:16.846666666666664\n",
      "w:3.0, cost:18.666666666666668\n",
      "w:3.1, cost:20.580000000000002\n",
      "w:3.2, cost:22.586666666666673\n",
      "w:3.3, cost:24.686666666666657\n",
      "w:3.4, cost:26.879999999999995\n",
      "w:3.5, cost:29.166666666666668\n",
      "w:3.6, cost:31.54666666666667\n",
      "w:3.7, cost:34.02000000000001\n",
      "w:3.8, cost:36.58666666666665\n",
      "w:3.9, cost:39.24666666666666\n",
      "w:4.0, cost:42.0\n",
      "w:4.1, cost:44.84666666666666\n",
      "w:4.2, cost:47.78666666666668\n",
      "w:4.3, cost:50.81999999999999\n",
      "w:4.4, cost:53.94666666666668\n",
      "w:4.5, cost:57.166666666666664\n",
      "w:4.6, cost:60.47999999999998\n",
      "w:4.7, cost:63.88666666666668\n",
      "w:4.8, cost:67.38666666666666\n",
      "w:4.9, cost:70.98\n"
     ]
    },
    {
     "data": {
      "image/png": "[encoded data removed]",
      "text/plain": [
       "<Figure size 400x300 with 1 Axes>"
      ]
     },
     "metadata": {},
     "output_type": "display_data"
    }
   ],
   "source": [
    "# 비용함수 및 그래프 시각화\n",
    "import numpy as np\n",
    "import pandas as pd\n",
    "import matplotlib.pyplot as plt\n",
    "\n",
    "def cost(x, y, w):  # 비용 함수: 평균 제곱 오차(MSE : Mean Squared Error) \n",
    "    c = 0\n",
    "    for i in range(len(x)):\n",
    "        hx = w * x[i]          # 머신러닝 예측 방정식\n",
    "        loss = (hx - y[i])**2  # (예측값 - 실제값)^2\n",
    "        c += loss\n",
    "        \n",
    "    return c/len(x)\n",
    "\n",
    "\n",
    "#------------------------------\n",
    "# x축(weight), y축(cost)으로 하는 2차 함수: 포물선의 방정식\n",
    "#------------------------------\n",
    "x = [1,2,3]    #입력값, 독립변수\n",
    "y = [1,2,3]    #종속변수, target\n",
    "\n",
    "for i in range(-30,50):\n",
    "    w = i/10\n",
    "    c = cost(x, y, w)\n",
    "    print(f'w:{w}, cost:{cost(x,y,w)}')\n",
    "    plt.plot(w,c,'ro')  # 'r':red, 'o': 점으로 출력 \n",
    "    \n",
    "plt.title('Cost Graph')    \n",
    "plt.xlabel('weight')\n",
    "plt.ylabel('cost')\n",
    "plt.grid(True)\n",
    "\n",
    "plt.show()  "
   ]
  },
  {
   "cell_type": "markdown",
   "id": "ef04b1b7",
   "metadata": {},
   "source": [
    "### 2. 비용함수의 편미분"
   ]
  },
  {
   "cell_type": "markdown",
   "id": "06cc96c5",
   "metadata": {},
   "source": [
    "---------"
   ]
  },
  {
   "cell_type": "markdown",
   "id": "32f053cb",
   "metadata": {},
   "source": [
    "## <a name=\"07.3최소자승법으로선형회귀풀기\">07.3 최소자승법으로 선형회귀 풀기</a>"
   ]
  },
  {
   "cell_type": "markdown",
   "id": "083a9bbe",
   "metadata": {},
   "source": [
    "### 1. 최소자승법으로 풀기\n",
    "- 최소자승법(least square method) : 선형대수의 표기법을 사용하여 방정식으로 선형회귀 문제를 푸는 방법\n"
   ]
  },
  {
   "cell_type": "markdown",
   "id": "e6fb8ed7",
   "metadata": {},
   "source": [
    "### 2. 최소자승법의 활용\n",
    "- 사이킷런의  LinearRegression() = Ordinary least squares Linear Regression.\n",
    "- https://scikit-learn.org/stable/modules/generated/sklearn.linear_model.LinearRegression.html"
   ]
  },
  {
   "cell_type": "markdown",
   "id": "20264b68",
   "metadata": {},
   "source": [
    "-----"
   ]
  },
  {
   "cell_type": "markdown",
   "id": "254c025a",
   "metadata": {},
   "source": [
    "## <a name=\"07.4경사하강법으로선형회귀풀기\">07.4 경사하강법으로 선형회귀 풀기</a>"
   ]
  },
  {
   "cell_type": "markdown",
   "id": "659a19bb",
   "metadata": {},
   "source": [
    "### 1. 경사하강법의 개념\n",
    "- 경사하강법(gradient descent) : 경사를 하강하면서 수식을 최소화하는 매개변수의 값을 찾아내는 방법\n",
    "- 점이 최솟값을 달성하는 방향으로 점점 내려감\n",
    "- 몇 번 적용할 것인가? : 많이 실행할수록 최솟값에 가까워짐\n",
    "- 한 번에 얼마나 많이 내려갈 것인가? : 한 번에 얼마나 많은 공간을 움직일지를 기울기, 즉 경사라고 부름\n",
    "- 경사(gradient) : 경사하강법의 하이퍼 매개변수"
   ]
  },
  {
   "cell_type": "markdown",
   "id": "6f900266",
   "metadata": {},
   "source": [
    "### 2. 경사하강법 알고리즘\n"
   ]
  },
  {
   "cell_type": "markdown",
   "id": "382aec1e",
   "metadata": {},
   "source": [
    "- 경사하강법의 기본 수식\n",
    "- $x_{new} = x_{old} - \\alpha$ x $(2x_{old})$\n",
    "- $x_{old}$ : 현재의 $x값$\n",
    "- $x_{new}$ : 경사 값이 적용된 후 생성된 값"
   ]
  },
  {
   "cell_type": "markdown",
   "id": "9f15307f",
   "metadata": {},
   "source": [
    "#### 경사하강법을 코드로 표현"
   ]
  },
  {
   "cell_type": "code",
   "execution_count": 14,
   "id": "30fd0db7",
   "metadata": {},
   "outputs": [
    {
     "data": {
      "image/png": "[encoded data removed]",
      "text/plain": [
       "<Figure size 400x300 with 1 Axes>"
      ]
     },
     "metadata": {},
     "output_type": "display_data"
    }
   ],
   "source": [
    "import numpy as np\n",
    "import matplotlib.pyplot as plt\n",
    "\n",
    "x = np.arange(-10, 10, 1)\n",
    "fx = x ** 2\n",
    "\n",
    "plt.plot(x, fx)\n",
    "plt.show()"
   ]
  },
  {
   "cell_type": "code",
   "execution_count": 15,
   "id": "57502eb4",
   "metadata": {
    "scrolled": true
   },
   "outputs": [
    {
     "data": {
      "image/png": "[encoded data removed]",
      "text/plain": [
       "<Figure size 400x300 with 1 Axes>"
      ]
     },
     "metadata": {},
     "output_type": "display_data"
    }
   ],
   "source": [
    "x_new = 10      \n",
    "derivative = []\n",
    "y = []\n",
    "learng_rate= 0.1\n",
    "for i in range(100):\n",
    "    old_value = x_new\n",
    "    derivative.append(old_value - learng_rate * 2 * old_value)\n",
    "    x_new = old_value - learng_rate *2* old_value\n",
    "    y.append(x_new ** 2)\n",
    "plt.plot(x, fx)\n",
    "plt.scatter(derivative, y)\n",
    "plt.show()"
   ]
  },
  {
   "cell_type": "markdown",
   "id": "adb8081d",
   "metadata": {},
   "source": [
    "#### 경사하강법에서 개발자가 결정해야 할 것\n",
    "- **학습률(learning rate)을 얼마로 할 것인가? α 값을 결정**\n",
    " 1. 반복이 수행될 때마다 최솟값 변화\n",
    " 1. 값이 너무 작으면 충분히 많은 반복을 적용해도 원하는 최적값을 찾지 못하는 경우 발생\n",
    " 1. 값이 너무 크면 발산하여 최솟값 수렴 않거나 시간이 너무 오래 걸림\n",
    "\n",
    "- **얼마나 많은 반복(iteration)으로 돌릴 것인가?**\n",
    " 1. 반복 횟수가 충분하지 않다면 최솟값을 찾지 못하는 경우 발생\n",
    " 1. 반복 횟수가 너무 많다면 필요 없는 시간을 허비할 수도 있음"
   ]
  },
  {
   "cell_type": "markdown",
   "id": "18e19c82",
   "metadata": {},
   "source": [
    "### 3. 경사하강법으로 선형회귀 풀기\n"
   ]
  },
  {
   "cell_type": "markdown",
   "id": "17f35559",
   "metadata": {},
   "source": [
    "- learning_rate : 경사 하강법에서 반복적으로 조금씩 최소값에 접근할 때 변화되는 변수 x의 양\n",
    "- epoch :  전체 데이터를 모두 넣어서 에러를 구하는 것을 1 에폭이라고 한다."
   ]
  },
  {
   "cell_type": "code",
   "execution_count": 16,
   "id": "51f51061",
   "metadata": {},
   "outputs": [
    {
     "name": "stdout",
     "output_type": "stream",
     "text": [
      "w= 0.63, b=-1.65\n",
      "선형회귀직선: y = 0.63x + -1.65\n"
     ]
    },
    {
     "data": {
      "image/png": "[encoded data removed]",
      "text/plain": [
       "<Figure size 400x300 with 1 Axes>"
      ]
     },
     "metadata": {},
     "output_type": "display_data"
    }
   ],
   "source": [
    "X = np.array([1, 4.5, 9, 10, 13])\n",
    "Y = np.array([0, 0.2, 2.5, 5.4, 7.3])\n",
    "\n",
    "# 직접계산하여 \n",
    "w, b = 0, 0   # y = wx + b 의 초기값\n",
    "learning_rate, epoch = 0.005, 1000  # 학습률과 학습 횟수\n",
    "for i in range(epoch):\n",
    "    y_pred = w*X + b      # 추정 선형회귀직선 식\n",
    "    error = y_pred - Y    # 성능척도: 잔차\n",
    "    w = w - learning_rate * (error * X).sum()    \n",
    "    b = b - learning_rate * error.sum()\n",
    "    \n",
    "print(f'w={w: .2f}, b={b: .2f}')\n",
    "print(f\"선형회귀직선: y = {w:.2f}x + {b: .2f}\")\n",
    "\n",
    "    \n",
    "# 산점도 + 추정회귀직선\n",
    "plt.scatter(X, Y, color='blue', marker='D')\n",
    "y_pred = w*X + b\n",
    "plt.plot(X, y_pred, 'r:')\n",
    "plt.show()"
   ]
  },
  {
   "cell_type": "markdown",
   "id": "924d650c",
   "metadata": {},
   "source": [
    "-----"
   ]
  },
  {
   "cell_type": "markdown",
   "id": "382d5f98",
   "metadata": {},
   "source": [
    "## <a name=\"07.5선형회귀성능측정하기\">07.5 선형회귀 성능 측정하기</a>"
   ]
  },
  {
   "cell_type": "markdown",
   "id": "ef507a13",
   "metadata": {},
   "source": [
    "### 1. 훈련/테스트 분할\n",
    "- 훈련/테스트 분할(train/test split) : 머신러닝에서 데이터를 학습을 하기 위한 학습 데이터셋(train dataset)과 학습의 결과로 생성된 모델의 성능을 평가하기 위한 테스트 데이터셋(test dataset)으로 나눔\n",
    "- 모델이 새로운 데이터셋에도 일반화(generalize)하여 처리할 수 있는지를 확인"
   ]
  },
  {
   "cell_type": "code",
   "execution_count": null,
   "id": "caec0ab8",
   "metadata": {},
   "outputs": [],
   "source": [
    "\n",
    "\n"
   ]
  },
  {
   "cell_type": "markdown",
   "id": "59353343",
   "metadata": {},
   "source": [
    "### 2. 선형회귀의 성능 측정 지표\n",
    "#### 2.1.MAE(Mean Absolute Error) \n",
    "- MAE(Mean Absolute Error) : 평균 절대 잔차\n",
    "- 모든 테스트 데이터에 대해 예측값과 실제값의 차이에 대해 절댓값을 구하고, 이 값을 모두 더한 후에 데이터의 개수만큼 나눈 결과\n",
    "- 직관적으로 예측값과 실측값의 차이를 알 수 있음\n",
    "- sklearn 모듈에서는 median_absolute_error 함수로 MAE를 구함\n",
    "- 값이 작을 수록 좋다"
   ]
  },
  {
   "cell_type": "code",
   "execution_count": null,
   "id": "2f850bda",
   "metadata": {},
   "outputs": [],
   "source": [
    "\n",
    "\n"
   ]
  },
  {
   "cell_type": "markdown",
   "id": "c5c114b9",
   "metadata": {},
   "source": [
    "#### 2.2.RMSE(Root Mean Squared Error)\n",
    "- RMSE(Root Mean Squared Error) : 평균제곱근 오차\n",
    "- 오차에 대해 제곱을 한 다음 모든 값을 더하여 평균을 낸 후 제곱근을 구함\n",
    "- MAE에 비해 상대적으로 값의 차이가 더 큼\n",
    "- 차이가 크게 나는 값에 대해서 페널티를 주고 싶다면 RMSE 값을 사용\n",
    "- sklearn 모듈에서 RMSE를 직접적으로 지원하지는 않고 mean_squared_error만 지원\n",
    "- 값이 작을 수록 좋다"
   ]
  },
  {
   "cell_type": "code",
   "execution_count": null,
   "id": "6631370a",
   "metadata": {},
   "outputs": [],
   "source": [
    "\n",
    "\n"
   ]
  },
  {
   "cell_type": "markdown",
   "id": "aa20c47e",
   "metadata": {},
   "source": [
    "#### 2.3 결정계수\n",
    "- 결정계수(R-squared) : 두 개의 값의 증감이 얼마나 일관성을 가지는지 나타내는 지표\n",
    "- 예측값이 크면 클수록 실제값도 커지고, 예측값이 작으면 실제값도 작아짐\n",
    "- 두 개의 모델 중 어떤 모델이 조금 더 상관성이 있는지를 나타낼 수 있지만, 값의 차이 정도가 얼마인지는 나타낼 수 없다는 한계가 있음\n",
    "- sklearn 모듈에서 r2_score 사용\n",
    "- 1에 가까울 수록 좋다"
   ]
  },
  {
   "cell_type": "code",
   "execution_count": null,
   "id": "62ee58fa",
   "metadata": {},
   "outputs": [],
   "source": [
    "\n",
    "\n"
   ]
  },
  {
   "cell_type": "markdown",
   "id": "35c1ff26",
   "metadata": {},
   "source": [
    "-------"
   ]
  },
  {
   "cell_type": "markdown",
   "id": "d62eda4e",
   "metadata": {},
   "source": [
    "## <a name=\"07.6코드로선형회귀구현하기\">07.6 코드로 선형회귀 구현하기</a>"
   ]
  },
  {
   "cell_type": "markdown",
   "id": "925b44b2",
   "metadata": {},
   "source": [
    "### 경사하강법을 선형회귀로 구현\n",
    "- 데이터 생성"
   ]
  },
  {
   "cell_type": "code",
   "execution_count": null,
   "id": "97c54749",
   "metadata": {},
   "outputs": [],
   "source": [
    "\n"
   ]
  },
  {
   "cell_type": "markdown",
   "id": "83bd549d",
   "metadata": {},
   "source": [
    "- 생성된 데이터에 경사하강법 적용\n"
   ]
  },
  {
   "cell_type": "code",
   "execution_count": null,
   "id": "17edd29b",
   "metadata": {},
   "outputs": [],
   "source": [
    "\n",
    "\n"
   ]
  },
  {
   "cell_type": "code",
   "execution_count": null,
   "id": "b949e762",
   "metadata": {},
   "outputs": [],
   "source": [
    "\n",
    "\n"
   ]
  },
  {
   "cell_type": "markdown",
   "id": "7abff21c",
   "metadata": {},
   "source": [
    "----"
   ]
  },
  {
   "cell_type": "markdown",
   "id": "6e9e47ff",
   "metadata": {},
   "source": [
    "THE END"
   ]
  }
 ],
 "metadata": {
  "kernelspec": {
   "display_name": "Python 3 (ipykernel)",
   "language": "python",
   "name": "python3"
  },
  "language_info": {
   "codemirror_mode": {
    "name": "ipython",
    "version": 3
   },
   "file_extension": ".py",
   "mimetype": "text/x-python",
   "name": "python",
   "nbconvert_exporter": "python",
   "pygments_lexer": "ipython3",
   "version": "3.8.17"
  }
 },
 "nbformat": 4,
 "nbformat_minor": 5
}
