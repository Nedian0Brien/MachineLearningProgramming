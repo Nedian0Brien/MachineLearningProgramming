{
 "cells": [
  {
   "cell_type": "markdown",
   "id": "0402635a",
   "metadata": {},
   "source": [
    "# Chapter08 선형회귀 심화\n",
    "데이터 과학을 위한 파이썬 머신러닝"
   ]
  },
  {
   "attachments": {},
   "cell_type": "markdown",
   "id": "aba25279",
   "metadata": {},
   "source": [
    "- <a href=\"#08.1경사하강법의종류\">08.1 경사하강법의 종류</a>\n",
    "- <a href=\"#08.2과대적합과정규화\">08.2 과대적합과 정규화</a>\n",
    "- <a href=\"#08.3사이킷런을이용한선형회귀\">08.3 사이킷런을 이용한 선형회귀</a>"
   ]
  },
  {
   "cell_type": "markdown",
   "id": "e08bd77c",
   "metadata": {},
   "source": [
    "------------------"
   ]
  },
  {
   "cell_type": "markdown",
   "id": "c928bb54",
   "metadata": {},
   "source": [
    "## <a name=\"08.1경사하강법의종류\">08.1 경사하강법의 종류</a>"
   ]
  },
  {
   "attachments": {},
   "cell_type": "markdown",
   "id": "92254add",
   "metadata": {},
   "source": [
    "### 1. 전체-배치 경사하강법(full-batch gradient descent)"
   ]
  },
  {
   "attachments": {},
   "cell_type": "markdown",
   "id": "b9770660",
   "metadata": {},
   "source": [
    "### 2. 확률적 경사하강법(Stochastic Gradient Decent, SGD)\n",
    "- 복잡한 알고리즘일수록 SGD가 효과적"
   ]
  },
  {
   "attachments": {},
   "cell_type": "markdown",
   "id": "47457bd9",
   "metadata": {},
   "source": [
    "### 3. 미니-배치 경사하강법(mini-batch gradient descent)\n",
    "- **에포크(epoch)** : 데이터를 한 번에 모두 학습시키는 횟수 \n",
    "<br>전체-배치 SDG를 한 번 학습하는 루프가 실행될 때 1에포크의 데이터가 학습된다고 말함\n",
    "- **배치 사이즈(batch-size)** : 한 번에 학습되는 데이터의 개수\n",
    "<br>총 데이터가 5012개 있고 배치 사이즈가 512라면 10번의 루프가 돌면서 1에포크를 학습했다고 말함"
   ]
  },
  {
   "cell_type": "markdown",
   "id": "c63d7f49",
   "metadata": {},
   "source": [
    "### 4. SGD의 파이썬 코드 작성하기"
   ]
  },
  {
   "cell_type": "code",
   "execution_count": 1,
   "id": "8cbcb60d",
   "metadata": {},
   "outputs": [],
   "source": [
    "class LinearRegressionGD(object):\n",
    "    def __init__(self, fit_intercept=True, copy_X=True,\n",
    "                 eta0=0.001, epochs=1000, batch_size = 1, \n",
    "                 weight_decay=0.9, shuffle = True):\n",
    "        self.fit_intercept = fit_intercept\n",
    "        self.copy_X = copy_X\n",
    "        self._eta0 = eta0\n",
    "        self._epochs = epochs\n",
    "\n",
    "        self._cost_history = []\n",
    "\n",
    "        self._coef = None\n",
    "        self._intercept = None\n",
    "        self._new_X = None\n",
    "        self._w_history = None\n",
    "        self._weight_decay = weight_decay\n",
    "        self._batch_size = batch_size\n",
    "        self._is_SGD = shuffle\n",
    "\n",
    "    def gradient(self, X, y, theta):\n",
    "        return X.T.dot(self.hypothesis_function(X, theta)-y) / len(X)\n",
    "\n",
    "    def fit(self, X, y):\n",
    "        self._new_X = np.array(X)  # X 데이터 할당\n",
    "        y = y.reshape(-1, 1)\n",
    "\n",
    "        if self.fit_intercept:    # intercept 추가 여부\n",
    "            # 1로만 구성된 상수항을 모든 데이터를 추가\n",
    "            intercept_vector = np.ones([len(self._new_X), 1])\n",
    "            self._new_X = np.concatenate(\n",
    "                    (intercept_vector, self._new_X), axis=1)\n",
    "\n",
    "        theta_init = np.random.normal(0, 1, self._new_X.shape[1])         \n",
    "        # weight값 초기화\n",
    "        self._w_history = [theta_init]\n",
    "        self._cost_history = [self.cost(\n",
    "                        self.hypothesis_function(self._new_X, theta_init), y)]\n",
    "\n",
    "        theta = theta_init\n",
    "\n",
    "        for epoch in range(self._epochs): # 지정된 epoch의 값만큼 학습 실행\n",
    "            X_copy = np.copy(self._new_X)\n",
    "\n",
    "            if self._is_SGD:   # stochastic 적용 여부\n",
    "                np.random.shuffle(X_copy)\n",
    "\n",
    "            batch = len(X_copy) // self._batch_size \n",
    "            # batch 사이즈를 기준으로 전체데이터를 나눔\n",
    "\n",
    "            for batch_count  in range(batch):\n",
    "                X_batch = np.copy(   # BATCH 사이즈를 기준으로 데이터를 slice\n",
    "                            X_copy[batch_count * self._batch_size : (batch_count+1) & self._batch_size])\n",
    "\n",
    "                gradient = self.gradient(X_batch  , y, theta).flatten()\n",
    "                theta = theta - self._eta0 * gradient\n",
    "\n",
    "            if epoch % 100 == 0:\n",
    "                self._w_history.append(theta)\n",
    "                cost = self.cost(\n",
    "                    self.hypothesis_function(self._new_X, theta), y)\n",
    "                self._cost_history.append(cost)\n",
    "            self._eta0 = self._eta0 * self._weight_decay\n",
    "\n",
    "        if self.fit_intercept:\n",
    "            self._intercept = theta[0]\n",
    "            self._coef = theta[1:]\n",
    "        else:\n",
    "            self._coef = theta\n",
    "    def cost(self, h, y):\n",
    "        return 1/(2*len(y)) * np.sum((h-y).flatten() ** 2)\n",
    "\n",
    "    def hypothesis_function(self, X, theta):\n",
    "        return X.dot(theta).reshape(-1, 1)\n",
    "\n",
    "    def gradient(self, X, y, theta):\n",
    "        return X.T.dot(self.hypothesis_function(X, theta)-y) / len(X)\n",
    "\n",
    "    def fit(self, X, y):\n",
    "        self._new_X = np.array(X)\n",
    "        y = y.reshape(-1, 1)\n",
    "\n",
    "        if self.fit_intercept:\n",
    "            intercept_vector = np.ones([len(self._new_X), 1])\n",
    "            self._new_X = np.concatenate(\n",
    "                    (intercept_vector, self._new_X), axis=1)\n",
    "\n",
    "        theta_init = np.random.normal(0, 1, self._new_X.shape[1])\n",
    "        self._w_history = [theta_init]\n",
    "        self._cost_history = [self.cost(\n",
    "                        self.hypothesis_function(self._new_X, theta_init), y)]\n",
    "\n",
    "        theta = theta_init\n",
    "\n",
    "        for epoch in range(self._epochs):\n",
    "            gradient = self.gradient(self._new_X, y, theta).flatten()\n",
    "            theta = theta - self._eta0 * gradient\n",
    "\n",
    "            if epoch % 100 == 0:\n",
    "                self._w_history.append(theta)\n",
    "                cost = self.cost(\n",
    "                    self.hypothesis_function(self._new_X, theta), y)\n",
    "                self._cost_history.append(cost)\n",
    "            self._eta0 = self._eta0 * self._weight_decay\n",
    "\n",
    "        if self.fit_intercept:\n",
    "            self._intercept = theta[0]\n",
    "            self._coef = theta[1:]\n",
    "        else:\n",
    "            self._coef = theta\n",
    "\n",
    "    def predict(self, X):\n",
    "        test_X = np.array(X)\n",
    "\n",
    "        if self.fit_intercept:\n",
    "            intercept_vector = np.ones([len(test_X), 1])\n",
    "            test_X = np.concatenate(\n",
    "                    (intercept_vector, test_X), axis=1)\n",
    "\n",
    "            weights = np.concatenate(([self._intercept], self._coef), axis=0)\n",
    "        else:\n",
    "            weights = self._coef\n",
    "\n",
    "        return test_X.dot(weights)\n",
    "\n",
    "    @property\n",
    "    def coef(self):\n",
    "        return self._coef\n",
    "\n",
    "    @property\n",
    "    def intercept(self):\n",
    "        return self._intercept\n",
    "\n",
    "    @property\n",
    "    def weights_history(self):\n",
    "        return np.array(self._w_history)\n",
    "\n",
    "    @property\n",
    "    def cost_history(self):\n",
    "        return self._cost_history"
   ]
  },
  {
   "cell_type": "markdown",
   "id": "8d0daab6",
   "metadata": {},
   "source": [
    "- 생성된 경사하강법 모델을 사용하여 학습 수행\n"
   ]
  },
  {
   "cell_type": "code",
   "execution_count": 2,
   "id": "71d585be",
   "metadata": {},
   "outputs": [],
   "source": [
    "import pandas as pd\n",
    "import numpy as np\n",
    "\n",
    "df = pd.read_csv(\"./data/train.csv\")\n",
    "\n",
    "X = df[\"x\"].values.reshape(-1,1)\n",
    "y = df[\"y\"].values\n",
    "\n",
    "gd_lr = LinearRegressionGD(eta0=0.001, epochs=10000, batch_size=1, shuffle=False)\n",
    "bgd_lr = LinearRegressionGD(eta0=0.001, epochs=10000, batch_size=len(X), shuffle=False)\n",
    "sgd_lr = LinearRegressionGD(eta0=0.001, epochs=10000, batch_size=1, shuffle=True)\n",
    "msgd_lr = LinearRegressionGD(eta0=0.001, epochs=10000, batch_size=100, shuffle=True)"
   ]
  },
  {
   "cell_type": "markdown",
   "id": "7a72867c",
   "metadata": {},
   "source": [
    "- 각 학습 결과 cost 값의 변화 : 학습 알고리즘에 따라 cost 값이 변함"
   ]
  },
  {
   "cell_type": "code",
   "execution_count": 3,
   "id": "65071a82",
   "metadata": {},
   "outputs": [],
   "source": [
    "gd_lr.fit(X, y)\n",
    "bgd_lr.fit(X, y)\n",
    "sgd_lr.fit(X,y)\n",
    "msgd_lr.fit(X,y)\n"
   ]
  },
  {
   "cell_type": "code",
   "execution_count": 4,
   "id": "f468ceea",
   "metadata": {},
   "outputs": [
    {
     "data": {
      "text/plain": [
       "[<matplotlib.lines.Line2D at 0x11c8e77f0>]"
      ]
     },
     "execution_count": 4,
     "metadata": {},
     "output_type": "execute_result"
    },
    {
     "data": {
      "image/png": "[encoded data removed]",
      "text/plain": [
       "<Figure size 640x480 with 1 Axes>"
      ]
     },
     "metadata": {},
     "output_type": "display_data"
    }
   ],
   "source": [
    "import matplotlib.pyplot as plt\n",
    "\n",
    "plt.plot(range(len(gd_lr.cost_history)), gd_lr.cost_history, c=\"r\")\n",
    "plt.plot(range(len(bgd_lr.cost_history)), bgd_lr.cost_history, c=\"y\")\n",
    "plt.plot(range(len(sgd_lr.cost_history)), sgd_lr.cost_history, c=\"g\")\n",
    "plt.plot(range(len(msgd_lr.cost_history)), msgd_lr.cost_history, c=\"b\")\n"
   ]
  },
  {
   "cell_type": "code",
   "execution_count": 5,
   "id": "23cf35d1",
   "metadata": {},
   "outputs": [
    {
     "data": {
      "text/plain": [
       "[<matplotlib.lines.Line2D at 0x11c9be970>]"
      ]
     },
     "execution_count": 5,
     "metadata": {},
     "output_type": "execute_result"
    },
    {
     "data": {
      "image/png": "[encoded data removed]",
      "text/plain": [
       "<Figure size 640x480 with 1 Axes>"
      ]
     },
     "metadata": {},
     "output_type": "display_data"
    }
   ],
   "source": [
    "plt.plot(range(50), sgd_lr.cost_history[:50], c=\"g\")\n",
    "plt.plot(range(50), msgd_lr.cost_history[:50], c=\"b\")\n"
   ]
  },
  {
   "cell_type": "markdown",
   "id": "6086d372",
   "metadata": {},
   "source": [
    "----------------"
   ]
  },
  {
   "cell_type": "markdown",
   "id": "23d84917",
   "metadata": {},
   "source": [
    "## <a name=\"08.2과대적합과정규화\">08.2 과대적합과 정규화</a>"
   ]
  },
  {
   "attachments": {},
   "cell_type": "markdown",
   "id": "a7829d52",
   "metadata": {},
   "source": [
    "### 1. 과대적합 극복하기"
   ]
  },
  {
   "cell_type": "markdown",
   "id": "d9d8d689",
   "metadata": {},
   "source": [
    "- **편향(bias)** : 학습된 모델이 학습 데이터에 대해 만들어 낸 예측값과 실제값과의 차이\n",
    " - - 모델의 결과가 얼마나 한쪽으로 쏠려 있는지 나타냄\n",
    " - - 편향이 크면 학습이 잘 진행되기는 했지만 해당 데이터에만 잘 맞음\n",
    "- **분산(variance)** : 학습된 모델이 테스팅 데이터에 대해 만들어 낸 예측값과 실제값과의 차이\n",
    " - - 모델의 결과가 얼마나 퍼져 있는지 나타냄\n",
    "- **편향-분산 트레이드오프(bias-variance trade-off)** : \n",
    " - - 편향과 분산의 상충관계\n"
   ]
  },
  {
   "attachments": {},
   "cell_type": "markdown",
   "id": "ef04b1b7",
   "metadata": {},
   "source": [
    "### 2. L2 정규화 : 리지 회귀\n",
    "- 리지 회귀(ridge regression) : L2 정규화(L2 regularization)라고 부름\n",
    "- 놈(norm) : 좌표평면의 원점에서 점까지의 거리를 나타내어 벡터의 크기를 측정하는 기법\n",
    "-다중 회귀라고도 불리는 리지 회귀는 정규화 또는 규제화(regularization) 기법으로 알려져 있으며\n",
    "- 독립 변수들 사이에 높은 상관 관계가 있는 경우 모델의 복잡성을 줄이는 데 사용. \n",
    "-'리지 회귀 페널티’로 알려진 약간의 편향, 즉  바이어스(bias)를 사용하여 모델이 과대적합(overfitting)에 덜 취약하게 만든다."
   ]
  },
  {
   "attachments": {},
   "cell_type": "markdown",
   "id": "cc5071a8",
   "metadata": {},
   "source": [
    "### 3. L1 정규화 : 라쏘 회귀\n",
    "- 라쏘 회귀(lasso regression) L1 정규화(L1 regularization)라고 부름\n",
    "- 가중치에 페널티텀을 추가하는데, 기존 수식에다 L1 놈 페널티를 추가하여 계산\n",
    "- 리지 회귀와 같이 모델의 복잡성을 줄여주는 또 다른 정규화 기법,  계수 값을 0에 가깝게 만든다\n",
    "- 라쏘 회귀는 필요한 요소들만 사용하고 나머지를 0으로 설정함으로써 과대적합을 방지할 수 있음"
   ]
  },
  {
   "cell_type": "markdown",
   "id": "06cc96c5",
   "metadata": {},
   "source": [
    "---------"
   ]
  },
  {
   "cell_type": "markdown",
   "id": "32f053cb",
   "metadata": {},
   "source": [
    "## <a name=\"08.3사이킷런을이용한선형회귀\">08.3 사이킷런을 이용한 선형회귀</a>"
   ]
  },
  {
   "attachments": {},
   "cell_type": "markdown",
   "id": "083a9bbe",
   "metadata": {},
   "source": [
    "### 1.사이킷런과 선형회귀 관련 함수\n",
    "\n",
    "| 함수명 |설명 | 알고리즘 |\n",
    "|:------|:---|:---|\n",
    "| LinearRegression | 가장 기본적인 선형회귀 알고리즘을 사용하며<br> SGD가 아닌 최자승법으로 계산한다. | 최소자승법|\n",
    "| Lasso | L1 손실을 활용한 라쏘 알고리즘을 사용한다.|최소자승법|\n",
    "| Ridge | L2 손실을 활용한 리지 알고리즘을 사용한다.|최소자승법|\n",
    "| SGDRegressor | 확률적 경사 하강법을 사용한 회귀 모델을 만든다.<br> SGD에서 비용함수만을 변경하여 모든 함수를 지원하고 있어 <br> 필요한 하이퍼 매개변수를 설정해야 한다. |SGD|"
   ]
  },
  {
   "cell_type": "markdown",
   "id": "e8e1dd3a",
   "metadata": {},
   "source": [
    "### 2.사이킷런을 활용하여 선형회귀 구현하기"
   ]
  },
  {
   "cell_type": "code",
   "execution_count": null,
   "id": "e04f1886",
   "metadata": {},
   "outputs": [],
   "source": []
  },
  {
   "cell_type": "code",
   "execution_count": null,
   "id": "394be0b2",
   "metadata": {},
   "outputs": [],
   "source": []
  },
  {
   "cell_type": "code",
   "execution_count": null,
   "id": "e9a5c163",
   "metadata": {},
   "outputs": [],
   "source": []
  },
  {
   "cell_type": "code",
   "execution_count": null,
   "id": "ea6db22e",
   "metadata": {},
   "outputs": [],
   "source": []
  },
  {
   "cell_type": "markdown",
   "id": "20264b68",
   "metadata": {},
   "source": [
    "-----"
   ]
  },
  {
   "cell_type": "markdown",
   "id": "4bc62d5e",
   "metadata": {},
   "source": [
    "THE END"
   ]
  }
 ],
 "metadata": {
  "kernelspec": {
   "display_name": "Python 3 (ipykernel)",
   "language": "python",
   "name": "python3"
  },
  "language_info": {
   "codemirror_mode": {
    "name": "ipython",
    "version": 3
   },
   "file_extension": ".py",
   "mimetype": "text/x-python",
   "name": "python",
   "nbconvert_exporter": "python",
   "pygments_lexer": "ipython3",
   "version": "3.8.17"
  }
 },
 "nbformat": 4,
 "nbformat_minor": 5
}
