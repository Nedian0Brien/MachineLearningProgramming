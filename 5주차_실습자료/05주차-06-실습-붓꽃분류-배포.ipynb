{
 "cells": [
  {
   "cell_type": "markdown",
   "id": "45cc5f86",
   "metadata": {},
   "source": [
    "# [실습] 붓꽃 종류 분류하기"
   ]
  },
  {
   "cell_type": "markdown",
   "id": "1b1615b5",
   "metadata": {
    "id": "G40FawyyQl8c"
   },
   "source": [
    "### 목표\n",
    "- **붓꽃 종류를 분류하는 모델을 구현하세요.** "
   ]
  },
  {
   "cell_type": "markdown",
   "id": "9eb71076",
   "metadata": {},
   "source": [
    "### 모델\n",
    "- 로지스틱 회귀"
   ]
  },
  {
   "cell_type": "markdown",
   "id": "9d74fd40",
   "metadata": {},
   "source": [
    "### 평가지표\n",
    "- 정확도(accuracy_score)\n",
    "- ROC정확도(roc_auc_score)"
   ]
  },
  {
   "cell_type": "markdown",
   "id": "34670f5a",
   "metadata": {},
   "source": [
    "## [실습] Scikit-learn K-NN으로 붓꽃 종류 분류하기"
   ]
  },
  {
   "cell_type": "markdown",
   "id": "ca594c91",
   "metadata": {},
   "source": [
    "### 1. Scikit-learn으로 붓꽃 데이터 가져오기"
   ]
  },
  {
   "cell_type": "code",
   "execution_count": null,
   "id": "133d215c",
   "metadata": {
    "scrolled": true
   },
   "outputs": [],
   "source": [
    "from sklearn.datasets import load_iris\n",
    "import pandas as pd\n",
    "import numpy as np\n",
    "\n",
    "# 붓꽃 데이터 셋트를 로딩\n",
    "iris = load_iris()    #iris의 품종 : [0:'setosa',1:'versicolor',2:'virginica']\n",
    "# print(iris)\n",
    "\n",
    "# X 피쳐만 추출: Features\n",
    "iris_data = iris.data   \n",
    "print(type(iris.data))\n",
    "print(iris.data.shape) # (150, 4)\n",
    "\n",
    "# Y 답(label)만 추출: target_Value\n",
    "iris_label = iris.target\n",
    "\n",
    "# Data Frame 만들기\n",
    "iris_df = pd.DataFrame(data=iris_data, columns=iris.feature_names)\n",
    "iris_df['label'] = iris_label  # # 예측(predict) 수행       \n",
    "iris_df.head()"
   ]
  },
  {
   "cell_type": "markdown",
   "id": "7ae650f3",
   "metadata": {},
   "source": [
    "### 2.학습데이터 분류하고 분류 알고리즘 적용하여 학습모델(예측모델) 만들기"
   ]
  },
  {
   "cell_type": "markdown",
   "id": "7e576f18",
   "metadata": {},
   "source": [
    "#### 로지스틱 회귀 알고리즘 적용"
   ]
  },
  {
   "cell_type": "code",
   "execution_count": null,
   "id": "244b372f",
   "metadata": {},
   "outputs": [],
   "source": [
    "from sklearn.model_selection import train_test_split  \n",
    "from sklearn.linear_model import LogisticRegression\n",
    "\n",
    "# 학습데이터/테스트테이터 분리\n",
    "x_train,x_test,y_train,y_test = train_test_split(iris_data,iris_label,test_size=0.2,  # test_size:0.2(20%)\n",
    "                                                  random_state=11) # random seed 고정\n",
    "\n",
    "# 학습모델(분류) : 로지스틱 회귀\n",
    "\n",
    "\n",
    "# 모델 훈련\n",
    "\n",
    "                      \n",
    "# 예측(predict) 수행하기\n",
    "\n",
    "print('예측:', y_pred)\n",
    "print('실제:', y_test)    # 예측된 결과와 테스트데이터 출력해서 비교하기 "
   ]
  },
  {
   "cell_type": "markdown",
   "id": "1d8fdbdc",
   "metadata": {},
   "source": [
    "### 3. 모델 정확도 측정하기"
   ]
  },
  {
   "cell_type": "code",
   "execution_count": null,
   "id": "4d5534e8",
   "metadata": {},
   "outputs": [],
   "source": [
    "# 정확도 측정 : accuracy\n",
    "from sklearn.metrics import accuracy_score, roc_curve, auc\n",
    "\n",
    "# 정확도 \n",
    "\n",
    "\n",
    "# roc_auc\n",
    "\n"
   ]
  },
  {
   "cell_type": "markdown",
   "id": "db0a5386",
   "metadata": {},
   "source": [
    "### 4. 학습모델에 넣어  테스트데이터 예측하기"
   ]
  },
  {
   "cell_type": "code",
   "execution_count": null,
   "id": "cabe9269",
   "metadata": {},
   "outputs": [],
   "source": [
    "# 그림에서 수집한 데이터 \n",
    "X_test = np.array([[2.7, 2.4, 1.65, 0.67],\n",
    "                   [5.84, 5.48, 3, 2.16],\n",
    "                   [5.8, 2.7, 5.1, 1.9]]) \n",
    "\n",
    "# 모델 이용한 예측(predict) 수행\n",
    "\n",
    "print(f'y_pred : {y_pred}')\n",
    "\n",
    "\n",
    "# 분류 결과 출력하기\n",
    "print('붓꽃데이터 결과:')\n",
    "names = {0:'setosa',1:'versicolor',2:'virginica'}\n",
    "for i in y_pred:\n",
    "    print(f' {X_test[i]}: {i} -> {names[i]}')"
   ]
  },
  {
   "cell_type": "markdown",
   "id": "dbf74dde",
   "metadata": {},
   "source": [
    "-------------------"
   ]
  },
  {
   "cell_type": "markdown",
   "id": "13f4a68a",
   "metadata": {},
   "source": [
    "THE END"
   ]
  }
 ],
 "metadata": {
  "kernelspec": {
   "display_name": "Python 3 (ipykernel)",
   "language": "python",
   "name": "python3"
  },
  "language_info": {
   "codemirror_mode": {
    "name": "ipython",
    "version": 3
   },
   "file_extension": ".py",
   "mimetype": "text/x-python",
   "name": "python",
   "nbconvert_exporter": "python",
   "pygments_lexer": "ipython3",
   "version": "3.10.9"
  }
 },
 "nbformat": 4,
 "nbformat_minor": 5
}
