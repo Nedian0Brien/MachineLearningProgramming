{
 "cells": [
  {
   "cell_type": "code",
   "execution_count": 2,
   "metadata": {},
   "outputs": [],
   "source": [
    "import pandas as pd\n",
    "import numpy as np\n",
    "import matplotlib.pyplot as plt\n",
    "import seaborn as sns\n",
    "\n",
    "df_mos = pd.read_csv('./data/mosquito_Indicator.csv', thousands=',')\n",
    "\n",
    "#한글 폰트 설정 - mac 환경을 위한 폰트 설정\n",
    "from matplotlib import rc\n",
    "rc('font', family='AppleGothic')"
   ]
  },
  {
   "cell_type": "code",
   "execution_count": 3,
   "metadata": {},
   "outputs": [
    {
     "data": {
      "text/html": [
       "<div>\n",
       "<style scoped>\n",
       "    .dataframe tbody tr th:only-of-type {\n",
       "        vertical-align: middle;\n",
       "    }\n",
       "\n",
       "    .dataframe tbody tr th {\n",
       "        vertical-align: top;\n",
       "    }\n",
       "\n",
       "    .dataframe thead th {\n",
       "        text-align: right;\n",
       "    }\n",
       "</style>\n",
       "<table border=\"1\" class=\"dataframe\">\n",
       "  <thead>\n",
       "    <tr style=\"text-align: right;\">\n",
       "      <th></th>\n",
       "      <th>date</th>\n",
       "      <th>mosquito_Indicator</th>\n",
       "      <th>rain(mm)</th>\n",
       "      <th>mean_T(℃)</th>\n",
       "      <th>min_T(℃)</th>\n",
       "      <th>max_T(℃)</th>\n",
       "    </tr>\n",
       "  </thead>\n",
       "  <tbody>\n",
       "    <tr>\n",
       "      <th>0</th>\n",
       "      <td>2016-05-01</td>\n",
       "      <td>254.4</td>\n",
       "      <td>0.0</td>\n",
       "      <td>18.8</td>\n",
       "      <td>12.2</td>\n",
       "      <td>26.0</td>\n",
       "    </tr>\n",
       "    <tr>\n",
       "      <th>1</th>\n",
       "      <td>2016-05-02</td>\n",
       "      <td>273.5</td>\n",
       "      <td>16.5</td>\n",
       "      <td>21.1</td>\n",
       "      <td>16.5</td>\n",
       "      <td>28.4</td>\n",
       "    </tr>\n",
       "    <tr>\n",
       "      <th>2</th>\n",
       "      <td>2016-05-03</td>\n",
       "      <td>304.0</td>\n",
       "      <td>27.0</td>\n",
       "      <td>12.9</td>\n",
       "      <td>8.9</td>\n",
       "      <td>17.6</td>\n",
       "    </tr>\n",
       "    <tr>\n",
       "      <th>3</th>\n",
       "      <td>2016-05-04</td>\n",
       "      <td>256.2</td>\n",
       "      <td>0.0</td>\n",
       "      <td>15.7</td>\n",
       "      <td>10.2</td>\n",
       "      <td>20.6</td>\n",
       "    </tr>\n",
       "    <tr>\n",
       "      <th>4</th>\n",
       "      <td>2016-05-05</td>\n",
       "      <td>243.8</td>\n",
       "      <td>7.5</td>\n",
       "      <td>18.9</td>\n",
       "      <td>10.2</td>\n",
       "      <td>26.9</td>\n",
       "    </tr>\n",
       "  </tbody>\n",
       "</table>\n",
       "</div>"
      ],
      "text/plain": [
       "         date  mosquito_Indicator  rain(mm)  mean_T(℃)  min_T(℃)  max_T(℃)\n",
       "0  2016-05-01               254.4       0.0       18.8      12.2      26.0\n",
       "1  2016-05-02               273.5      16.5       21.1      16.5      28.4\n",
       "2  2016-05-03               304.0      27.0       12.9       8.9      17.6\n",
       "3  2016-05-04               256.2       0.0       15.7      10.2      20.6\n",
       "4  2016-05-05               243.8       7.5       18.9      10.2      26.9"
      ]
     },
     "execution_count": 3,
     "metadata": {},
     "output_type": "execute_result"
    }
   ],
   "source": [
    "df_mos.head()"
   ]
  },
  {
   "cell_type": "code",
   "execution_count": 4,
   "metadata": {},
   "outputs": [
    {
     "data": {
      "text/html": [
       "<div>\n",
       "<style scoped>\n",
       "    .dataframe tbody tr th:only-of-type {\n",
       "        vertical-align: middle;\n",
       "    }\n",
       "\n",
       "    .dataframe tbody tr th {\n",
       "        vertical-align: top;\n",
       "    }\n",
       "\n",
       "    .dataframe thead th {\n",
       "        text-align: right;\n",
       "    }\n",
       "</style>\n",
       "<table border=\"1\" class=\"dataframe\">\n",
       "  <thead>\n",
       "    <tr style=\"text-align: right;\">\n",
       "      <th></th>\n",
       "      <th>date</th>\n",
       "      <th>mosquito_Indicator</th>\n",
       "      <th>rain(mm)</th>\n",
       "      <th>mean_T(℃)</th>\n",
       "      <th>min_T(℃)</th>\n",
       "      <th>max_T(℃)</th>\n",
       "      <th>year</th>\n",
       "      <th>month</th>\n",
       "      <th>day</th>\n",
       "    </tr>\n",
       "  </thead>\n",
       "  <tbody>\n",
       "    <tr>\n",
       "      <th>0</th>\n",
       "      <td>2016-05-01</td>\n",
       "      <td>254.4</td>\n",
       "      <td>0.0</td>\n",
       "      <td>18.8</td>\n",
       "      <td>12.2</td>\n",
       "      <td>26.0</td>\n",
       "      <td>2016</td>\n",
       "      <td>5</td>\n",
       "      <td>1</td>\n",
       "    </tr>\n",
       "    <tr>\n",
       "      <th>1</th>\n",
       "      <td>2016-05-02</td>\n",
       "      <td>273.5</td>\n",
       "      <td>16.5</td>\n",
       "      <td>21.1</td>\n",
       "      <td>16.5</td>\n",
       "      <td>28.4</td>\n",
       "      <td>2016</td>\n",
       "      <td>5</td>\n",
       "      <td>2</td>\n",
       "    </tr>\n",
       "    <tr>\n",
       "      <th>2</th>\n",
       "      <td>2016-05-03</td>\n",
       "      <td>304.0</td>\n",
       "      <td>27.0</td>\n",
       "      <td>12.9</td>\n",
       "      <td>8.9</td>\n",
       "      <td>17.6</td>\n",
       "      <td>2016</td>\n",
       "      <td>5</td>\n",
       "      <td>3</td>\n",
       "    </tr>\n",
       "    <tr>\n",
       "      <th>3</th>\n",
       "      <td>2016-05-04</td>\n",
       "      <td>256.2</td>\n",
       "      <td>0.0</td>\n",
       "      <td>15.7</td>\n",
       "      <td>10.2</td>\n",
       "      <td>20.6</td>\n",
       "      <td>2016</td>\n",
       "      <td>5</td>\n",
       "      <td>4</td>\n",
       "    </tr>\n",
       "    <tr>\n",
       "      <th>4</th>\n",
       "      <td>2016-05-05</td>\n",
       "      <td>243.8</td>\n",
       "      <td>7.5</td>\n",
       "      <td>18.9</td>\n",
       "      <td>10.2</td>\n",
       "      <td>26.9</td>\n",
       "      <td>2016</td>\n",
       "      <td>5</td>\n",
       "      <td>5</td>\n",
       "    </tr>\n",
       "  </tbody>\n",
       "</table>\n",
       "</div>"
      ],
      "text/plain": [
       "        date  mosquito_Indicator  rain(mm)  mean_T(℃)  min_T(℃)  max_T(℃)  \\\n",
       "0 2016-05-01               254.4       0.0       18.8      12.2      26.0   \n",
       "1 2016-05-02               273.5      16.5       21.1      16.5      28.4   \n",
       "2 2016-05-03               304.0      27.0       12.9       8.9      17.6   \n",
       "3 2016-05-04               256.2       0.0       15.7      10.2      20.6   \n",
       "4 2016-05-05               243.8       7.5       18.9      10.2      26.9   \n",
       "\n",
       "   year  month  day  \n",
       "0  2016      5    1  \n",
       "1  2016      5    2  \n",
       "2  2016      5    3  \n",
       "3  2016      5    4  \n",
       "4  2016      5    5  "
      ]
     },
     "execution_count": 4,
     "metadata": {},
     "output_type": "execute_result"
    }
   ],
   "source": [
    "df_mos['date'] = pd.to_datetime(df_mos['date'])\n",
    "df_mos['year'] = df_mos['date'].dt.year\n",
    "df_mos['month'] = df_mos['date'].dt.month\n",
    "df_mos['day'] = df_mos['date'].dt.day\n",
    "\n",
    "df_mos.head()"
   ]
  },
  {
   "cell_type": "code",
   "execution_count": 5,
   "metadata": {},
   "outputs": [
    {
     "name": "stdout",
     "output_type": "stream",
     "text": [
      "<class 'pandas.core.frame.DataFrame'>\n",
      "RangeIndex: 1342 entries, 0 to 1341\n",
      "Data columns (total 9 columns):\n",
      " #   Column              Non-Null Count  Dtype         \n",
      "---  ------              --------------  -----         \n",
      " 0   date                1342 non-null   datetime64[ns]\n",
      " 1   mosquito_Indicator  1342 non-null   float64       \n",
      " 2   rain(mm)            1342 non-null   float64       \n",
      " 3   mean_T(℃)           1342 non-null   float64       \n",
      " 4   min_T(℃)            1342 non-null   float64       \n",
      " 5   max_T(℃)            1342 non-null   float64       \n",
      " 6   year                1342 non-null   int32         \n",
      " 7   month               1342 non-null   int32         \n",
      " 8   day                 1342 non-null   int32         \n",
      "dtypes: datetime64[ns](1), float64(5), int32(3)\n",
      "memory usage: 78.8 KB\n"
     ]
    }
   ],
   "source": [
    "df_mos.info()"
   ]
  },
  {
   "cell_type": "code",
   "execution_count": 6,
   "metadata": {},
   "outputs": [],
   "source": [
    "df_mos = df_mos.drop(['date'], axis=1)"
   ]
  },
  {
   "cell_type": "code",
   "execution_count": 7,
   "metadata": {},
   "outputs": [
    {
     "data": {
      "text/html": [
       "<div>\n",
       "<style scoped>\n",
       "    .dataframe tbody tr th:only-of-type {\n",
       "        vertical-align: middle;\n",
       "    }\n",
       "\n",
       "    .dataframe tbody tr th {\n",
       "        vertical-align: top;\n",
       "    }\n",
       "\n",
       "    .dataframe thead th {\n",
       "        text-align: right;\n",
       "    }\n",
       "</style>\n",
       "<table border=\"1\" class=\"dataframe\">\n",
       "  <thead>\n",
       "    <tr style=\"text-align: right;\">\n",
       "      <th></th>\n",
       "      <th>mosquito_Indicator</th>\n",
       "      <th>rain(mm)</th>\n",
       "      <th>mean_T(℃)</th>\n",
       "      <th>min_T(℃)</th>\n",
       "      <th>max_T(℃)</th>\n",
       "      <th>year</th>\n",
       "      <th>month</th>\n",
       "      <th>day</th>\n",
       "    </tr>\n",
       "  </thead>\n",
       "  <tbody>\n",
       "    <tr>\n",
       "      <th>mosquito_Indicator</th>\n",
       "      <td>1.000000</td>\n",
       "      <td>0.216325</td>\n",
       "      <td>0.730742</td>\n",
       "      <td>0.746279</td>\n",
       "      <td>0.700929</td>\n",
       "      <td>-0.145418</td>\n",
       "      <td>0.123704</td>\n",
       "      <td>0.051941</td>\n",
       "    </tr>\n",
       "    <tr>\n",
       "      <th>rain(mm)</th>\n",
       "      <td>0.216325</td>\n",
       "      <td>1.000000</td>\n",
       "      <td>0.147173</td>\n",
       "      <td>0.189054</td>\n",
       "      <td>0.100173</td>\n",
       "      <td>-0.035858</td>\n",
       "      <td>0.029303</td>\n",
       "      <td>-0.040559</td>\n",
       "    </tr>\n",
       "    <tr>\n",
       "      <th>mean_T(℃)</th>\n",
       "      <td>0.730742</td>\n",
       "      <td>0.147173</td>\n",
       "      <td>1.000000</td>\n",
       "      <td>0.990174</td>\n",
       "      <td>0.989618</td>\n",
       "      <td>-0.127150</td>\n",
       "      <td>0.169505</td>\n",
       "      <td>-0.034909</td>\n",
       "    </tr>\n",
       "    <tr>\n",
       "      <th>min_T(℃)</th>\n",
       "      <td>0.746279</td>\n",
       "      <td>0.189054</td>\n",
       "      <td>0.990174</td>\n",
       "      <td>1.000000</td>\n",
       "      <td>0.964941</td>\n",
       "      <td>-0.131205</td>\n",
       "      <td>0.179749</td>\n",
       "      <td>-0.030732</td>\n",
       "    </tr>\n",
       "    <tr>\n",
       "      <th>max_T(℃)</th>\n",
       "      <td>0.700929</td>\n",
       "      <td>0.100173</td>\n",
       "      <td>0.989618</td>\n",
       "      <td>0.964941</td>\n",
       "      <td>1.000000</td>\n",
       "      <td>-0.122655</td>\n",
       "      <td>0.147828</td>\n",
       "      <td>-0.034619</td>\n",
       "    </tr>\n",
       "    <tr>\n",
       "      <th>year</th>\n",
       "      <td>-0.145418</td>\n",
       "      <td>-0.035858</td>\n",
       "      <td>-0.127150</td>\n",
       "      <td>-0.131205</td>\n",
       "      <td>-0.122655</td>\n",
       "      <td>1.000000</td>\n",
       "      <td>-0.173580</td>\n",
       "      <td>0.004572</td>\n",
       "    </tr>\n",
       "    <tr>\n",
       "      <th>month</th>\n",
       "      <td>0.123704</td>\n",
       "      <td>0.029303</td>\n",
       "      <td>0.169505</td>\n",
       "      <td>0.179749</td>\n",
       "      <td>0.147828</td>\n",
       "      <td>-0.173580</td>\n",
       "      <td>1.000000</td>\n",
       "      <td>0.007451</td>\n",
       "    </tr>\n",
       "    <tr>\n",
       "      <th>day</th>\n",
       "      <td>0.051941</td>\n",
       "      <td>-0.040559</td>\n",
       "      <td>-0.034909</td>\n",
       "      <td>-0.030732</td>\n",
       "      <td>-0.034619</td>\n",
       "      <td>0.004572</td>\n",
       "      <td>0.007451</td>\n",
       "      <td>1.000000</td>\n",
       "    </tr>\n",
       "  </tbody>\n",
       "</table>\n",
       "</div>"
      ],
      "text/plain": [
       "                    mosquito_Indicator  rain(mm)  mean_T(℃)  min_T(℃)  \\\n",
       "mosquito_Indicator            1.000000  0.216325   0.730742  0.746279   \n",
       "rain(mm)                      0.216325  1.000000   0.147173  0.189054   \n",
       "mean_T(℃)                     0.730742  0.147173   1.000000  0.990174   \n",
       "min_T(℃)                      0.746279  0.189054   0.990174  1.000000   \n",
       "max_T(℃)                      0.700929  0.100173   0.989618  0.964941   \n",
       "year                         -0.145418 -0.035858  -0.127150 -0.131205   \n",
       "month                         0.123704  0.029303   0.169505  0.179749   \n",
       "day                           0.051941 -0.040559  -0.034909 -0.030732   \n",
       "\n",
       "                    max_T(℃)      year     month       day  \n",
       "mosquito_Indicator  0.700929 -0.145418  0.123704  0.051941  \n",
       "rain(mm)            0.100173 -0.035858  0.029303 -0.040559  \n",
       "mean_T(℃)           0.989618 -0.127150  0.169505 -0.034909  \n",
       "min_T(℃)            0.964941 -0.131205  0.179749 -0.030732  \n",
       "max_T(℃)            1.000000 -0.122655  0.147828 -0.034619  \n",
       "year               -0.122655  1.000000 -0.173580  0.004572  \n",
       "month               0.147828 -0.173580  1.000000  0.007451  \n",
       "day                -0.034619  0.004572  0.007451  1.000000  "
      ]
     },
     "execution_count": 7,
     "metadata": {},
     "output_type": "execute_result"
    }
   ],
   "source": [
    "df_mos.corr()"
   ]
  },
  {
   "cell_type": "code",
   "execution_count": 8,
   "metadata": {},
   "outputs": [
    {
     "data": {
      "text/plain": [
       "<Axes: >"
      ]
     },
     "execution_count": 8,
     "metadata": {},
     "output_type": "execute_result"
    },
    {
     "data": {
      "image/png": "[encoded data removed]",
      "text/plain": [
       "<Figure size 640x480 with 2 Axes>"
      ]
     },
     "metadata": {},
     "output_type": "display_data"
    }
   ],
   "source": [
    "sns.heatmap(df_mos.corr(), annot=True, cmap='YlGnBu')"
   ]
  },
  {
   "cell_type": "markdown",
   "metadata": {},
   "source": [
    "선형회귀 모델 구축"
   ]
  },
  {
   "cell_type": "code",
   "execution_count": 9,
   "metadata": {},
   "outputs": [
    {
     "data": {
      "text/html": [
       "<style>#sk-container-id-1 {color: black;}#sk-container-id-1 pre{padding: 0;}#sk-container-id-1 div.sk-toggleable {background-color: white;}#sk-container-id-1 label.sk-toggleable__label {cursor: pointer;display: block;width: 100%;margin-bottom: 0;padding: 0.3em;box-sizing: border-box;text-align: center;}#sk-container-id-1 label.sk-toggleable__label-arrow:before {content: \"▸\";float: left;margin-right: 0.25em;color: #696969;}#sk-container-id-1 label.sk-toggleable__label-arrow:hover:before {color: black;}#sk-container-id-1 div.sk-estimator:hover label.sk-toggleable__label-arrow:before {color: black;}#sk-container-id-1 div.sk-toggleable__content {max-height: 0;max-width: 0;overflow: hidden;text-align: left;background-color: #f0f8ff;}#sk-container-id-1 div.sk-toggleable__content pre {margin: 0.2em;color: black;border-radius: 0.25em;background-color: #f0f8ff;}#sk-container-id-1 input.sk-toggleable__control:checked~div.sk-toggleable__content {max-height: 200px;max-width: 100%;overflow: auto;}#sk-container-id-1 input.sk-toggleable__control:checked~label.sk-toggleable__label-arrow:before {content: \"▾\";}#sk-container-id-1 div.sk-estimator input.sk-toggleable__control:checked~label.sk-toggleable__label {background-color: #d4ebff;}#sk-container-id-1 div.sk-label input.sk-toggleable__control:checked~label.sk-toggleable__label {background-color: #d4ebff;}#sk-container-id-1 input.sk-hidden--visually {border: 0;clip: rect(1px 1px 1px 1px);clip: rect(1px, 1px, 1px, 1px);height: 1px;margin: -1px;overflow: hidden;padding: 0;position: absolute;width: 1px;}#sk-container-id-1 div.sk-estimator {font-family: monospace;background-color: #f0f8ff;border: 1px dotted black;border-radius: 0.25em;box-sizing: border-box;margin-bottom: 0.5em;}#sk-container-id-1 div.sk-estimator:hover {background-color: #d4ebff;}#sk-container-id-1 div.sk-parallel-item::after {content: \"\";width: 100%;border-bottom: 1px solid gray;flex-grow: 1;}#sk-container-id-1 div.sk-label:hover label.sk-toggleable__label {background-color: #d4ebff;}#sk-container-id-1 div.sk-serial::before {content: \"\";position: absolute;border-left: 1px solid gray;box-sizing: border-box;top: 0;bottom: 0;left: 50%;z-index: 0;}#sk-container-id-1 div.sk-serial {display: flex;flex-direction: column;align-items: center;background-color: white;padding-right: 0.2em;padding-left: 0.2em;position: relative;}#sk-container-id-1 div.sk-item {position: relative;z-index: 1;}#sk-container-id-1 div.sk-parallel {display: flex;align-items: stretch;justify-content: center;background-color: white;position: relative;}#sk-container-id-1 div.sk-item::before, #sk-container-id-1 div.sk-parallel-item::before {content: \"\";position: absolute;border-left: 1px solid gray;box-sizing: border-box;top: 0;bottom: 0;left: 50%;z-index: -1;}#sk-container-id-1 div.sk-parallel-item {display: flex;flex-direction: column;z-index: 1;position: relative;background-color: white;}#sk-container-id-1 div.sk-parallel-item:first-child::after {align-self: flex-end;width: 50%;}#sk-container-id-1 div.sk-parallel-item:last-child::after {align-self: flex-start;width: 50%;}#sk-container-id-1 div.sk-parallel-item:only-child::after {width: 0;}#sk-container-id-1 div.sk-dashed-wrapped {border: 1px dashed gray;margin: 0 0.4em 0.5em 0.4em;box-sizing: border-box;padding-bottom: 0.4em;background-color: white;}#sk-container-id-1 div.sk-label label {font-family: monospace;font-weight: bold;display: inline-block;line-height: 1.2em;}#sk-container-id-1 div.sk-label-container {text-align: center;}#sk-container-id-1 div.sk-container {/* jupyter's `normalize.less` sets `[hidden] { display: none; }` but bootstrap.min.css set `[hidden] { display: none !important; }` so we also need the `!important` here to be able to override the default hidden behavior on the sphinx rendered scikit-learn.org. See: https://github.com/scikit-learn/scikit-learn/issues/21755 */display: inline-block !important;position: relative;}#sk-container-id-1 div.sk-text-repr-fallback {display: none;}</style><div id=\"sk-container-id-1\" class=\"sk-top-container\"><div class=\"sk-text-repr-fallback\"><pre>LinearRegression()</pre><b>In a Jupyter environment, please rerun this cell to show the HTML representation or trust the notebook. <br />On GitHub, the HTML representation is unable to render, please try loading this page with nbviewer.org.</b></div><div class=\"sk-container\" hidden><div class=\"sk-item\"><div class=\"sk-estimator sk-toggleable\"><input class=\"sk-toggleable__control sk-hidden--visually\" id=\"sk-estimator-id-1\" type=\"checkbox\" checked><label for=\"sk-estimator-id-1\" class=\"sk-toggleable__label sk-toggleable__label-arrow\">LinearRegression</label><div class=\"sk-toggleable__content\"><pre>LinearRegression()</pre></div></div></div></div></div>"
      ],
      "text/plain": [
       "LinearRegression()"
      ]
     },
     "execution_count": 9,
     "metadata": {},
     "output_type": "execute_result"
    }
   ],
   "source": [
    "from sklearn.linear_model import LinearRegression\n",
    "\n",
    "model = LinearRegression()\n",
    "\n",
    "X = df_mos.drop(['mosquito_Indicator'], axis=1).values\n",
    "Y = df_mos['mosquito_Indicator']\n",
    "\n",
    "model.fit(X, Y)"
   ]
  },
  {
   "cell_type": "code",
   "execution_count": 10,
   "metadata": {},
   "outputs": [
    {
     "name": "stdout",
     "output_type": "stream",
     "text": [
      "선형회귀직선의 관계점수(R2):  0.57\n",
      "선형회귀직선의 평균제곱오차(MSE):  37185.49\n",
      "선형회귀직선의 평균절대오차(MAE):  150.08\n",
      "선형회귀직선의 RMSE(Root Mean Squared Error):  192.84\n"
     ]
    }
   ],
   "source": [
    "# 5. 검증\n",
    "# y = ax + b\n",
    "coef = model.coef_               # 직선의 기울기(a)\n",
    "intercept = model.intercept_     # 직선의 절편(b)\n",
    "score = model.score(X, Y)        # 추정된 회귀직선의 정확도(결정계수 r2)\n",
    "\n",
    "#모델 평가 지표\n",
    "\n",
    "from sklearn.metrics import mean_squared_error, mean_absolute_error\n",
    "\n",
    "print(f\"선형회귀직선의 관계점수(R2): {score: .2f}\")\n",
    "print(f\"선형회귀직선의 평균제곱오차(MSE): {mean_squared_error(Y, model.predict(X)): .2f}\")\n",
    "print(f\"선형회귀직선의 평균절대오차(MAE): {mean_absolute_error(Y, model.predict(X)): .2f}\")\n",
    "print(f\"선형회귀직선의 RMSE(Root Mean Squared Error): {np.sqrt(mean_squared_error(Y, model.predict(X))): .2f}\")"
   ]
  },
  {
   "cell_type": "markdown",
   "metadata": {},
   "source": [
    "모델을 이용한 예측"
   ]
  },
  {
   "cell_type": "code",
   "execution_count": 11,
   "metadata": {},
   "outputs": [
    {
     "name": "stdout",
     "output_type": "stream",
     "text": [
      "10/6일 모기지수 예측값:  102.62\n"
     ]
    }
   ],
   "source": [
    "#모델에 10/6일의 온도 데이터 입력\n",
    "model_predict = model.predict([[0.0, 14.0, 8.0, 19.0, 2023, 10, 6]])\n",
    "\n",
    "print(f'10/6일 모기지수 예측값: {model_predict[0]: .2f}')"
   ]
  },
  {
   "cell_type": "markdown",
   "metadata": {},
   "source": [
    "RF, XGB 모델 확인"
   ]
  },
  {
   "cell_type": "code",
   "execution_count": 16,
   "metadata": {},
   "outputs": [
    {
     "data": {
      "text/plain": [
       "0.9910429030354206"
      ]
     },
     "execution_count": 16,
     "metadata": {},
     "output_type": "execute_result"
    }
   ],
   "source": [
    "from sklearn.ensemble import RandomForestRegressor\n",
    "from xgboost import XGBRegressor\n",
    "\n",
    "model = RandomForestRegressor()\n",
    "\n",
    "model.fit(X, Y)\n",
    "\n",
    "model.score(X, Y)"
   ]
  },
  {
   "cell_type": "code",
   "execution_count": 17,
   "metadata": {},
   "outputs": [
    {
     "name": "stdout",
     "output_type": "stream",
     "text": [
      "10/6일 모기지수 예측값:  108.59\n"
     ]
    }
   ],
   "source": [
    "#모델에 10/6일의 온도 데이터 입력\n",
    "model_predict = model.predict([[0.0, 14.0, 8.0, 19.0, 2023, 10, 6]])\n",
    "\n",
    "print(f'10/6일 모기지수 예측값: {model_predict[0]: .2f}')"
   ]
  },
  {
   "cell_type": "code",
   "execution_count": 18,
   "metadata": {},
   "outputs": [
    {
     "data": {
      "text/plain": [
       "0.9997720300424566"
      ]
     },
     "execution_count": 18,
     "metadata": {},
     "output_type": "execute_result"
    }
   ],
   "source": [
    "from sklearn.ensemble import RandomForestRegressor\n",
    "from xgboost import XGBRegressor\n",
    "\n",
    "model = XGBRegressor()\n",
    "\n",
    "model.fit(X, Y)\n",
    "\n",
    "model.score(X, Y)"
   ]
  },
  {
   "cell_type": "code",
   "execution_count": 19,
   "metadata": {},
   "outputs": [
    {
     "name": "stdout",
     "output_type": "stream",
     "text": [
      "10/6일 모기지수 예측값:  167.37\n"
     ]
    }
   ],
   "source": [
    "#모델에 10/6일의 온도 데이터 입력\n",
    "model_predict = model.predict([[0.0, 14.0, 8.0, 19.0, 2023, 10, 6]])\n",
    "\n",
    "print(f'10/6일 모기지수 예측값: {model_predict[0]: .2f}')"
   ]
  },
  {
   "cell_type": "code",
   "execution_count": null,
   "metadata": {},
   "outputs": [],
   "source": []
  }
 ],
 "metadata": {
  "kernelspec": {
   "display_name": "tf-env",
   "language": "python",
   "name": "python3"
  },
  "language_info": {
   "codemirror_mode": {
    "name": "ipython",
    "version": 3
   },
   "file_extension": ".py",
   "mimetype": "text/x-python",
   "name": "python",
   "nbconvert_exporter": "python",
   "pygments_lexer": "ipython3",
   "version": "3.8.17"
  },
  "orig_nbformat": 4
 },
 "nbformat": 4,
 "nbformat_minor": 2
}
