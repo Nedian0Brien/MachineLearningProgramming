{
 "cells": [
  {
   "cell_type": "markdown",
   "id": "4a9bae24",
   "metadata": {},
   "source": [
    "# Teachable Machine 모델 사용하기"
   ]
  },
  {
   "cell_type": "markdown",
   "id": "c3d977fd",
   "metadata": {},
   "source": [
    "## 예제 : 마스크 착용 판별 모델 만들기"
   ]
  },
  {
   "cell_type": "markdown",
   "id": "978ca5ad",
   "metadata": {},
   "source": [
    "---------------"
   ]
  },
  {
   "cell_type": "markdown",
   "id": "ef6faf63",
   "metadata": {},
   "source": [
    "### 테스트 환경 : 노트북(PC환경)\n",
    "- python==3.10.9\n",
    "- opencv==4.7.0\n",
    "- tensorflow==2.8.0"
   ]
  },
  {
   "cell_type": "markdown",
   "id": "f865521f",
   "metadata": {},
   "source": [
    "### #라이브러리 설치하기"
   ]
  },
  {
   "cell_type": "code",
   "execution_count": null,
   "id": "a63d87de",
   "metadata": {
    "scrolled": true
   },
   "outputs": [],
   "source": [
    "# OpenCV 라이브러리:이미지와 카메라 사용 등 영상처리 관련 \n",
    "!pip install opencv-python"
   ]
  },
  {
   "cell_type": "code",
   "execution_count": null,
   "id": "e6313940",
   "metadata": {},
   "outputs": [],
   "source": [
    "# [옵션] OpenCV 추가 라이브러리\n",
    "!pip install opencv-contrib-python"
   ]
  },
  {
   "cell_type": "code",
   "execution_count": null,
   "id": "0bc8afd8",
   "metadata": {},
   "outputs": [],
   "source": [
    "# 구글이 만든 대표적인 인공지능 라이브러리\n",
    "!pip install tensorflow==2.8.0"
   ]
  },
  {
   "cell_type": "code",
   "execution_count": null,
   "id": "375f2fc5",
   "metadata": {},
   "outputs": [],
   "source": [
    "# [옵션] 만약, tensorflow 설치하면서 protobuf 관련 오류가 발생한다면\n",
    "# protobuf를 다운그레이드 해야한다.\n",
    "!pip install protobuf==3.20.1"
   ]
  },
  {
   "cell_type": "code",
   "execution_count": null,
   "id": "b1f82fe9",
   "metadata": {},
   "outputs": [],
   "source": [
    "# [옵션] 만약 아래 오류 메시지가 발생된다면 주석을 풀고 \n",
    "# setuptools 라이브러리를 업데이터 설치한다. 실행시킨다.\n",
    "# - 오류 메시지: ModuleNotFoundError: No module named '_distutils_hack' \n",
    "!pip install -U pip setuptools"
   ]
  },
  {
   "cell_type": "markdown",
   "id": "1ab82cff",
   "metadata": {},
   "source": [
    "### #라이브러리 설치 확인하기\n",
    "아래 코드를 실행한 후 오류 메시지가 없으면 성공적으로 설치된 것입니다."
   ]
  },
  {
   "cell_type": "code",
   "execution_count": null,
   "id": "59557988",
   "metadata": {},
   "outputs": [],
   "source": [
    "import cv2\n",
    "cv2.__version__"
   ]
  },
  {
   "cell_type": "code",
   "execution_count": null,
   "id": "04459667",
   "metadata": {},
   "outputs": [],
   "source": [
    "import tensorflow as tf\n",
    "tf.__version__"
   ]
  },
  {
   "cell_type": "markdown",
   "id": "97778d60",
   "metadata": {},
   "source": [
    "---------------------------"
   ]
  },
  {
   "cell_type": "markdown",
   "id": "e32b3f44",
   "metadata": {},
   "source": [
    "### [실습] :  OpenCV로 실시간 카메라 사용하기"
   ]
  },
  {
   "cell_type": "code",
   "execution_count": null,
   "id": "4959ff8f",
   "metadata": {},
   "outputs": [],
   "source": [
    "import sys\n",
    "import cv2\n",
    "\n",
    "# 웹카메라 열기\n",
    "cap = cv2.VideoCapture(0)\n",
    "if not cap.isOpened():\n",
    "    print(\"Camera0 open failed!\")\n",
    "    sys.exit()\n",
    "    \n",
    "# 카메라 프레임 화면에 보여주기\n",
    "while True:\n",
    "    ret, frame = cap.read()  # 카메라로부터 영상 읽기(frame)\n",
    "    if not ret: \n",
    "        break\n",
    "    cv2.imshow('Camera frame', frame) # 카메라로 읽은 영상(frame) 화면에 보여주기\n",
    "    \n",
    "    if cv2.waitKey(10) == 27: break # ESC키를 누르면 화면 종료\n",
    "\n",
    "# 카메라 종료하기\n",
    "cap.release()            # 카메라 자원 반납하기\n",
    "cv2.destroyAllWindows()  # 화면 종료하기"
   ]
  },
  {
   "cell_type": "markdown",
   "id": "c4e289ab",
   "metadata": {},
   "source": [
    "#### 컬러동영상 + 흑백동영상"
   ]
  },
  {
   "cell_type": "code",
   "execution_count": null,
   "id": "c21778cb",
   "metadata": {},
   "outputs": [],
   "source": [
    "import sys\n",
    "import cv2\n",
    "import numpy as np\n",
    "\n",
    "cap = cv2.VideoCapture('video/parrot.mp4') # 비디오 열기\n",
    "\n",
    "if not cap.isOpened():\n",
    "    print(\"Video open failed!\")\n",
    "    sys.exit()\n",
    "\n",
    "while True:     \n",
    "    ret, frame = cap.read() # 카메라 프레임 처리\n",
    "\n",
    "    if not ret: break        \n",
    "    \n",
    "    frame = cv2.resize(frame, (0,0), None, .5, .5) # 컬러영상 사이즈변경\n",
    "    frame_g = cv2.cvtColor(frame, cv2.COLOR_BGR2GRAY) # 프레임의 흑백 처리    \n",
    "    frame_g = cv2.cvtColor(frame_g, cv2.COLOR_GRAY2BGR) #흑백영상을 3채널(컬러채널)로 변경\n",
    "\n",
    "    # 가로로 붙이기\n",
    "    h_frame = np.concatenate((frame, frame_g), axis=1)  # = np.hstack((frame, frame_g))\n",
    "\n",
    "    cv2.imshow('frame+gray', h_frame)    # 원본 + 그레이스케일 영상\n",
    "\n",
    "    if cv2.waitKey(10) == 27:  # ESC 키가 눌려지면\n",
    "        break\n",
    "\n",
    "cap.release()\n",
    "cv2.destroyAllWindows()"
   ]
  },
  {
   "cell_type": "markdown",
   "id": "1953b8a4",
   "metadata": {},
   "source": [
    "#### 웹카메라(흑백) + 동영상"
   ]
  },
  {
   "cell_type": "code",
   "execution_count": null,
   "id": "f7c84dbc",
   "metadata": {},
   "outputs": [],
   "source": [
    "# 웹카메라 + 동영상 파일 사용\n",
    "# if 동영상 파일이 없는 경우 동영상 파일 관련 코드는 주석처리한다.\n",
    "import sys\n",
    "import cv2\n",
    "import numpy as np\n",
    "\n",
    "# 웹카메라 열기\n",
    "cap0 = cv2.VideoCapture(0)\n",
    "if not cap0.isOpened():\n",
    "    print(\"Camera0 open failed!\")\n",
    "    sys.exit()\n",
    "\n",
    "# 동영상파일을 함께 사용할 경우\n",
    "cap1 = cv2.VideoCapture('./video/parrot.mp4') \n",
    "if not cap1.isOpened():\n",
    "    print(\"Camera1 open failed!\")\n",
    "    sys.exit()\n",
    "\n",
    "    \n",
    "# 비디오 프레임 크기, 전체 프레임수, FPS 등 출력\n",
    "print('Frame width:', int(cap1.get(cv2.CAP_PROP_FRAME_WIDTH)))\n",
    "print('Frame height:', int(cap1.get(cv2.CAP_PROP_FRAME_HEIGHT)))\n",
    "print('Frame count:', int(cap1.get(cv2.CAP_PROP_FRAME_COUNT)))\n",
    "fps = cap1.get(cv2.CAP_PROP_FPS)\n",
    "print('FPS:', fps)\n",
    "    \n",
    "    \n",
    "# 카메라 프레임 화면에 보여주기\n",
    "while True:\n",
    "    ret0, frame0 = cap0.read()  # 카메라로부터 영상 읽기(frame)\n",
    "    if not ret0: \n",
    "        break\n",
    "    ret1, frame1 = cap1.read()  # 동영상 읽기(frame)\n",
    "    if not ret1: \n",
    "        break\n",
    "\n",
    "    frame0 = cv2.resize(frame0, (0,0), None, .5, .5) # 카메라영상 사이즈변경\n",
    "    frame1 = cv2.resize(frame1, (0,0), None, .5, .5) # 동영상 사이즈변경\n",
    "    frame_g = cv2.cvtColor(frame0, cv2.COLOR_BGR2GRAY) # 프레임의 흑백 처리    \n",
    "    frame_g = cv2.cvtColor(frame_g, cv2.COLOR_GRAY2BGR) #흑백영상을 3채널(컬러채널)로 변경\n",
    "\n",
    "    # 가로로 붙이기\n",
    "    h_frame = np.concatenate((frame_g, frame1), axis=1)  # = np.hstack((frame_g, frame1))\n",
    "    \n",
    "    cv2.imshow('frame1+frame2', h_frame)    # 원본 + 그레이스케일 영상\n",
    "    \n",
    "    if cv2.waitKey(10) == 27: break # ESC키를 누르면 화면 종료\n",
    "\n",
    "# 카메라 종료하기\n",
    "cap0.release()            # 카메라 자원 반납하기\n",
    "cap1.release() \n",
    "cv2.destroyAllWindows()  # 화면 종료하기"
   ]
  },
  {
   "cell_type": "markdown",
   "id": "081c9712",
   "metadata": {},
   "source": [
    "----------------------"
   ]
  },
  {
   "cell_type": "markdown",
   "id": "92e94cce",
   "metadata": {},
   "source": [
    "### [실습] :  OpenCV 라이브러리로 화면에 글씨와 그림 그리기"
   ]
  },
  {
   "cell_type": "code",
   "execution_count": null,
   "id": "ad678661",
   "metadata": {},
   "outputs": [],
   "source": [
    "import sys\n",
    "import cv2\n",
    "\n",
    "# 카메라 열기\n",
    "cap = cv2.VideoCapture(0)\n",
    "if not cap.isOpened():\n",
    "    print(\"Camera open failed!\")\n",
    "    sys.exit()\n",
    "\n",
    "    \n",
    "# 카메라 프레임 화면에 보여주기\n",
    "while True:\n",
    "    ret, frame = cap.read()  # 카메라로부터 영상 읽기(frame)\n",
    "    if not ret: \n",
    "        break\n",
    "\n",
    "    # 영상에 글씨 쓰기\n",
    "    cv2.putText(frame, 'Mask', (50, 100), cv2.FONT_HERSHEY_DUPLEX, 1, \n",
    "                (0, 0, 0), 2, cv2.LINE_AA)   \n",
    "    \n",
    "    # 영상에 그림(박스) 그리기\n",
    "    cv2.rectangle(frame, (10, 35, 200,100), (0, 0, 255), thickness=2) # 빈 박스 그리기\n",
    "    cv2.rectangle(frame, (10, 135, 200,100), (255, 0,0), thickness=-1) # 박스 색상 칠하기\n",
    "    \n",
    "    # 영상에 글씨 쓰기\n",
    "    cv2.putText(frame, 'noMask', (50, 200), cv2.FONT_HERSHEY_DUPLEX, 1, \n",
    "                (255, 255, 255), 2, cv2.LINE_AA)\n",
    "    \n",
    "    \n",
    "    cv2.imshow('Camera frame', frame) # 카메라로 읽은 영상(frame) 화면에 보여주기\n",
    "\n",
    "    if cv2.waitKey(10) == 27: break # ESC키를 누르면 화면 종료\n",
    "\n",
    "# 카메라 종료하기\n",
    "cap.release()            # 카메라 자원 반납하기\n",
    "cv2.destroyAllWindows()  # 화면 종료하기"
   ]
  },
  {
   "cell_type": "markdown",
   "id": "fe1d812a",
   "metadata": {},
   "source": [
    "-------------------------------------"
   ]
  },
  {
   "cell_type": "markdown",
   "id": "b4d8e15e",
   "metadata": {},
   "source": [
    "### [실습] \n",
    "TM(Teachable Machine) 모델을 이용한 실시간 마스크 착용 판별  프로그램 만들기\n",
    "\n",
    "#### # PC에 GPU 디바이스가 있는지 확인하기"
   ]
  },
  {
   "cell_type": "code",
   "execution_count": null,
   "id": "491c4e80",
   "metadata": {
    "scrolled": true
   },
   "outputs": [],
   "source": [
    "from tensorflow.python.client import device_lib\n",
    "device_lib.list_local_devices()"
   ]
  },
  {
   "cell_type": "markdown",
   "id": "d3bb4344",
   "metadata": {},
   "source": [
    "#### #Teachable Machine 원본 코드"
   ]
  },
  {
   "cell_type": "code",
   "execution_count": null,
   "id": "2e054a26",
   "metadata": {},
   "outputs": [],
   "source": [
    "import cv2\n",
    "import numpy as np\n",
    "from keras.models import load_model\n",
    "\n",
    "#-----------------------------------\n",
    "# CPU를 사용하겠다고 설정하기\n",
    "import os\n",
    "os.environ[\"CUDA_VISIBLE_DEVICES\"] = \"-1\"\n",
    "#----------------------------------\n",
    "\n",
    "# Load the model\n",
    "model = load_model('converted_keras/keras_model.h5', compile=False)\n",
    "\n",
    "# CAMERA can be 0 or 1 based on default camera of your computer.\n",
    "camera = cv2.VideoCapture(0)\n",
    "\n",
    "# Grab the labels from the labels.txt file. This will be used later.\n",
    "labels = open('converted_keras/labels.txt', 'r').readlines()\n",
    "\n",
    "while True:\n",
    "    # Grab the webcameras image.\n",
    "    ret, image = camera.read()    \n",
    "    if not ret:\n",
    "        print('Can not read camera!')\n",
    "        break\n",
    "        \n",
    "#     cv2.imshow('Webcam Image', image)\n",
    "    # Resize the raw image into (224-height,224-width) pixels.\n",
    "    image = cv2.resize(image, (224, 224), interpolation=cv2.INTER_AREA)\n",
    "    # Show the image in a window\n",
    "    cv2.imshow('Webcam Image', image)\n",
    "    \n",
    "    # Make the image a numpy array and reshape it to the models input shape.\n",
    "    image = np.asarray(image, dtype=np.float32).reshape(1, 224, 224, 3)\n",
    "    # Normalize the image array\n",
    "    image = (image / 127.5) - 1\n",
    "    # Have the model predict what the current image is. Model.predict\n",
    "    # returns an array of percentages. Example:[0.2,0.8] meaning its 20% sure\n",
    "    # it is the first label and 80% sure its the second label.\n",
    "    probabilities = model.predict(image)\n",
    "    # Print what the highest value probabilitie label\n",
    "    print(probabilities)\n",
    "    print(labels[np.argmax(probabilities)])\n",
    "    \n",
    "    # Listen to the keyboard for presses.\n",
    "    keyboard_input = cv2.waitKey(1)\n",
    "    # 27 is the ASCII for the esc key on your keyboard.\n",
    "    if keyboard_input == 27:\n",
    "        break\n",
    "\n",
    "camera.release()\n",
    "cv2.destroyAllWindows()"
   ]
  },
  {
   "cell_type": "markdown",
   "id": "7003bfec",
   "metadata": {},
   "source": [
    "#### # 실시간 마스크 착용 판별 프로그램 만들기"
   ]
  },
  {
   "cell_type": "code",
   "execution_count": null,
   "id": "2f0f7a52",
   "metadata": {
    "scrolled": false
   },
   "outputs": [],
   "source": [
    "# Teachable machine 모델 사용하기\n",
    "import tensorflow as tf\n",
    "import numpy as np\n",
    "import cv2\n",
    "import sys\n",
    "\n",
    "#-----------------------------------\n",
    "# CPU를 사용하겠다고 설정하기\n",
    "import os\n",
    "os.environ[\"CUDA_VISIBLE_DEVICES\"] = \"-1\"\n",
    "#----------------------------------\n",
    "\n",
    "\n",
    "# 케라스 모델 가져오기\n",
    "model = tf.keras.models.load_model('./converted_keras/keras_model.h5')\n",
    "labels = open('./converted_keras/labels.txt', 'r').readlines()\n",
    "print(labels)\n",
    "\n",
    "#-------------------\n",
    "# 실시간 카메라 작동\n",
    "#-------------------\n",
    "cap = cv2.VideoCapture(0)\n",
    "if not cap.isOpened():\n",
    "    print('Video open failed!')\n",
    "    sys.exit()\n",
    "\n",
    "#-------------------\n",
    "# 영상의 Width와 Height 크기 읽기&설정\n",
    "#-------------------\n",
    "print('FRAME_WIDTH: ', cap.get(cv2.CAP_PROP_FRAME_WIDTH) )\n",
    "print('FRAME_HEIGHT: ', cap.get(cv2.CAP_PROP_FRAME_HEIGHT) )\n",
    "\n",
    "\n",
    "#-------------------\n",
    "# 실시간 영상 처리하기\n",
    "#-------------------\n",
    "CONFIDENCE = 0.7  # AI모델 채택할 기준값      \n",
    "while True:\n",
    "    ret, frame = cap.read()\n",
    "    if not ret:\n",
    "        print('카메라로 들어온 영상이 없습니다.')\n",
    "        sys.exit()\n",
    "   \n",
    "    # 카메라 영상사이즈를 학습모델 사이즈로 변환하기\n",
    "    size = (224, 224)\n",
    "    frame_resized = cv2.resize(frame, size, interpolation=cv2.INTER_AREA)\n",
    "    \n",
    "    # 이미지 정규화\n",
    "    frame_normalized = (frame_resized.astype(np.float32) / 127.0) - 1\n",
    "\n",
    "    # keras 모델에 사용할 데이터로 차원 재조정    \n",
    "    frame_reshaped = frame_normalized.reshape((1, 224, 224, 3))\n",
    "    \n",
    "    #-------------------\n",
    "    # 마스크 착용 판별하기 \n",
    "    #------------------- \n",
    "    # 예측하기\n",
    "    probabilities = model.predict(frame_reshaped)\n",
    "    print(probabilities)\n",
    "    print(labels[np.argmax(probabilities)])\n",
    "\n",
    "    #converted_keras/labels.txt 파일의 클래스 값 참고하기\n",
    "    if (probabilities[0, 0] > CONFIDENCE): # 0번(mask)의 확률\n",
    "        cv2.putText(frame, 'Mask', (10, 30), cv2.FONT_HERSHEY_DUPLEX, 1, (0, 0, 0), 2, cv2.LINE_AA) \n",
    "#         print('--mask')\n",
    "    elif (probabilities[0, 1] > CONFIDENCE): # 1번(nomask)의 확률\n",
    "        cv2.putText(frame, 'Nomask', (10, 30), cv2.FONT_HERSHEY_DUPLEX, 1, (0, 0, 255), 2, cv2.LINE_AA)        \n",
    "#         print('--nomask')\n",
    "    #-------------------\n",
    "    \n",
    "    cv2.imshow(\"frame\", frame)        \n",
    "        \n",
    "    key = cv2.waitKey(10)\n",
    "    if key == 27: break\n",
    "\n",
    "    \n",
    "cap.release()\n",
    "cv2.destroyAllWindows()"
   ]
  },
  {
   "cell_type": "markdown",
   "id": "8abf6de9",
   "metadata": {},
   "source": [
    "-------------------------"
   ]
  },
  {
   "cell_type": "markdown",
   "id": "fede246a",
   "metadata": {},
   "source": [
    "THE END"
   ]
  }
 ],
 "metadata": {
  "kernelspec": {
   "display_name": "Python 3 (ipykernel)",
   "language": "python",
   "name": "python3"
  },
  "language_info": {
   "codemirror_mode": {
    "name": "ipython",
    "version": 3
   },
   "file_extension": ".py",
   "mimetype": "text/x-python",
   "name": "python",
   "nbconvert_exporter": "python",
   "pygments_lexer": "ipython3",
   "version": "3.10.9"
  },
  "vscode": {
   "interpreter": {
    "hash": "b41e41bff03a930185ac2cbea60ce521f7c8c2f5401ceb5c30214081f77ab4f5"
   }
  }
 },
 "nbformat": 4,
 "nbformat_minor": 5
}
