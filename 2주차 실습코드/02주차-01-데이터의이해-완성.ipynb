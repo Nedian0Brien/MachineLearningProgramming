{
 "cells": [
  {
   "cell_type": "markdown",
   "id": "f44bcd12",
   "metadata": {},
   "source": [
    "# Chapter02 데이터의 이해 \n",
    "데이터 과학을 위한 파이썬 머신러닝"
   ]
  },
  {
   "cell_type": "markdown",
   "id": "f88f6bf7",
   "metadata": {},
   "source": [
    "- <a href=\"#02.1피처란\">02.1 피쳐란</a>\n",
    "- <a href=\"#02.2피처의종류\">02.2 피처의 종류</a>\n",
    "- <a href=\"#03.데이터를모델에대입하기\">02.2 데이터를 모델에 대입하기</a>"
   ]
  },
  {
   "cell_type": "markdown",
   "id": "6a0ecdef",
   "metadata": {},
   "source": [
    "---------------"
   ]
  },
  {
   "cell_type": "markdown",
   "id": "460f4b57",
   "metadata": {},
   "source": [
    "### 라이브러리 설치"
   ]
  },
  {
   "cell_type": "code",
   "execution_count": null,
   "id": "126ca0f3",
   "metadata": {},
   "outputs": [],
   "source": [
    "!pip install numpy"
   ]
  },
  {
   "cell_type": "code",
   "execution_count": 2,
   "id": "37d1eec5",
   "metadata": {},
   "outputs": [
    {
     "name": "stdout",
     "output_type": "stream",
     "text": [
      "Collecting pandas\n",
      "  Obtaining dependency information for pandas from https://files.pythonhosted.org/packages/53/c3/f8e87361f7fdf42012def602bfa2a593423c729f5cb7c97aed7f51be66ac/pandas-2.0.3-cp38-cp38-macosx_11_0_arm64.whl.metadata\n",
      "  Using cached pandas-2.0.3-cp38-cp38-macosx_11_0_arm64.whl.metadata (18 kB)\n",
      "Requirement already satisfied: python-dateutil>=2.8.2 in /Users/nedstar/miniforge3/envs/tf-env/lib/python3.8/site-packages (from pandas) (2.8.2)\n",
      "Collecting pytz>=2020.1 (from pandas)\n",
      "  Obtaining dependency information for pytz>=2020.1 from https://files.pythonhosted.org/packages/32/4d/aaf7eff5deb402fd9a24a1449a8119f00d74ae9c2efa79f8ef9994261fc2/pytz-2023.3.post1-py2.py3-none-any.whl.metadata\n",
      "  Using cached pytz-2023.3.post1-py2.py3-none-any.whl.metadata (22 kB)\n",
      "Collecting tzdata>=2022.1 (from pandas)\n",
      "  Using cached tzdata-2023.3-py2.py3-none-any.whl (341 kB)\n",
      "Requirement already satisfied: numpy>=1.20.3 in /Users/nedstar/miniforge3/envs/tf-env/lib/python3.8/site-packages (from pandas) (1.22.3)\n",
      "Requirement already satisfied: six>=1.5 in /Users/nedstar/miniforge3/envs/tf-env/lib/python3.8/site-packages (from python-dateutil>=2.8.2->pandas) (1.15.0)\n",
      "Using cached pandas-2.0.3-cp38-cp38-macosx_11_0_arm64.whl (10.7 MB)\n",
      "Using cached pytz-2023.3.post1-py2.py3-none-any.whl (502 kB)\n",
      "Installing collected packages: pytz, tzdata, pandas\n",
      "Successfully installed pandas-2.0.3 pytz-2023.3.post1 tzdata-2023.3\n"
     ]
    }
   ],
   "source": [
    "!pip install pandas"
   ]
  },
  {
   "cell_type": "code",
   "execution_count": 4,
   "id": "e7c6f6a7",
   "metadata": {},
   "outputs": [
    {
     "name": "stdout",
     "output_type": "stream",
     "text": [
      "Collecting matplotlib\n",
      "  Obtaining dependency information for matplotlib from https://files.pythonhosted.org/packages/85/44/2b91e75fd133393e76455bb3ac44b9b885668264eafb0f9510f6aeb41fb5/matplotlib-3.7.2-cp38-cp38-macosx_11_0_arm64.whl.metadata\n",
      "  Downloading matplotlib-3.7.2-cp38-cp38-macosx_11_0_arm64.whl.metadata (5.6 kB)\n",
      "Collecting contourpy>=1.0.1 (from matplotlib)\n",
      "  Obtaining dependency information for contourpy>=1.0.1 from https://files.pythonhosted.org/packages/a4/67/ab422872caf036e95c764b25163619da59c35e34cc70c166c0250a05900e/contourpy-1.1.0-cp38-cp38-macosx_11_0_arm64.whl.metadata\n",
      "  Downloading contourpy-1.1.0-cp38-cp38-macosx_11_0_arm64.whl.metadata (5.7 kB)\n",
      "Collecting cycler>=0.10 (from matplotlib)\n",
      "  Downloading cycler-0.11.0-py3-none-any.whl (6.4 kB)\n",
      "Collecting fonttools>=4.22.0 (from matplotlib)\n",
      "  Obtaining dependency information for fonttools>=4.22.0 from https://files.pythonhosted.org/packages/70/91/14082609dbdc53c7bd517c70d7a4b9fe404bd77228fd163bd2a1dde548ac/fonttools-4.42.1-cp38-cp38-macosx_10_9_universal2.whl.metadata\n",
      "  Downloading fonttools-4.42.1-cp38-cp38-macosx_10_9_universal2.whl.metadata (150 kB)\n",
      "\u001b[2K     \u001b[90m━━━━━━━━━━━━━━━━━━━━━━━━━━━━━━━━━━━━━━━\u001b[0m \u001b[32m151.0/151.0 kB\u001b[0m \u001b[31m7.4 MB/s\u001b[0m eta \u001b[36m0:00:00\u001b[0m\n",
      "\u001b[?25hCollecting kiwisolver>=1.0.1 (from matplotlib)\n",
      "  Obtaining dependency information for kiwisolver>=1.0.1 from https://files.pythonhosted.org/packages/2e/db/501d8e0452e025e3ae7140439efab43789eb251e5cd8ed962297d565a301/kiwisolver-1.4.5-cp38-cp38-macosx_11_0_arm64.whl.metadata\n",
      "  Downloading kiwisolver-1.4.5-cp38-cp38-macosx_11_0_arm64.whl.metadata (6.4 kB)\n",
      "Requirement already satisfied: numpy>=1.20 in /Users/nedstar/miniforge3/envs/tf-env/lib/python3.8/site-packages (from matplotlib) (1.22.3)\n",
      "Requirement already satisfied: packaging>=20.0 in /Users/nedstar/miniforge3/envs/tf-env/lib/python3.8/site-packages (from matplotlib) (23.1)\n",
      "Collecting pillow>=6.2.0 (from matplotlib)\n",
      "  Obtaining dependency information for pillow>=6.2.0 from https://files.pythonhosted.org/packages/fb/f6/f59a7c86f9966b19f20bf42bcb136f2e72352b08c0edec079d9d8087fa36/Pillow-10.0.0-cp38-cp38-macosx_11_0_arm64.whl.metadata\n",
      "  Downloading Pillow-10.0.0-cp38-cp38-macosx_11_0_arm64.whl.metadata (9.5 kB)\n",
      "Collecting pyparsing<3.1,>=2.3.1 (from matplotlib)\n",
      "  Downloading pyparsing-3.0.9-py3-none-any.whl (98 kB)\n",
      "\u001b[2K     \u001b[90m━━━━━━━━━━━━━━━━━━━━━━━━━━━━━━━━━━━━━━━━\u001b[0m \u001b[32m98.3/98.3 kB\u001b[0m \u001b[31m10.9 MB/s\u001b[0m eta \u001b[36m0:00:00\u001b[0m\n",
      "\u001b[?25hRequirement already satisfied: python-dateutil>=2.7 in /Users/nedstar/miniforge3/envs/tf-env/lib/python3.8/site-packages (from matplotlib) (2.8.2)\n",
      "Collecting importlib-resources>=3.2.0 (from matplotlib)\n",
      "  Obtaining dependency information for importlib-resources>=3.2.0 from https://files.pythonhosted.org/packages/25/d4/592f53ce2f8dde8be5720851bd0ab71cc2e76c55978e4163ef1ab7e389bb/importlib_resources-6.0.1-py3-none-any.whl.metadata\n",
      "  Downloading importlib_resources-6.0.1-py3-none-any.whl.metadata (4.0 kB)\n",
      "Requirement already satisfied: zipp>=3.1.0 in /Users/nedstar/miniforge3/envs/tf-env/lib/python3.8/site-packages (from importlib-resources>=3.2.0->matplotlib) (3.16.2)\n",
      "Requirement already satisfied: six>=1.5 in /Users/nedstar/miniforge3/envs/tf-env/lib/python3.8/site-packages (from python-dateutil>=2.7->matplotlib) (1.15.0)\n",
      "Downloading matplotlib-3.7.2-cp38-cp38-macosx_11_0_arm64.whl (7.3 MB)\n",
      "\u001b[2K   \u001b[90m━━━━━━━━━━━━━━━━━━━━━━━━━━━━━━━━━━━━━━━━\u001b[0m \u001b[32m7.3/7.3 MB\u001b[0m \u001b[31m9.0 MB/s\u001b[0m eta \u001b[36m0:00:00\u001b[0m00:01\u001b[0m00:01\u001b[0mm\n",
      "\u001b[?25hDownloading contourpy-1.1.0-cp38-cp38-macosx_11_0_arm64.whl (229 kB)\n",
      "\u001b[2K   \u001b[90m━━━━━━━━━━━━━━━━━━━━━━━━━━━━━━━━━━━━━━━━\u001b[0m \u001b[32m229.2/229.2 kB\u001b[0m \u001b[31m7.1 MB/s\u001b[0m eta \u001b[36m0:00:00\u001b[0m\n",
      "\u001b[?25hDownloading fonttools-4.42.1-cp38-cp38-macosx_10_9_universal2.whl (2.7 MB)\n",
      "\u001b[2K   \u001b[90m━━━━━━━━━━━━━━━━━━━━━━━━━━━━━━━━━━━━━━━━\u001b[0m \u001b[32m2.7/2.7 MB\u001b[0m \u001b[31m9.6 MB/s\u001b[0m eta \u001b[36m0:00:00\u001b[0ma \u001b[36m0:00:01\u001b[0mm\n",
      "\u001b[?25hDownloading importlib_resources-6.0.1-py3-none-any.whl (34 kB)\n",
      "Downloading kiwisolver-1.4.5-cp38-cp38-macosx_11_0_arm64.whl (66 kB)\n",
      "\u001b[2K   \u001b[90m━━━━━━━━━━━━━━━━━━━━━━━━━━━━━━━━━━━━━━━━\u001b[0m \u001b[32m66.0/66.0 kB\u001b[0m \u001b[31m6.6 MB/s\u001b[0m eta \u001b[36m0:00:00\u001b[0m\n",
      "\u001b[?25hDownloading Pillow-10.0.0-cp38-cp38-macosx_11_0_arm64.whl (3.1 MB)\n",
      "\u001b[2K   \u001b[90m━━━━━━━━━━━━━━━━━━━━━━━━━━━━━━━━━━━━━━━━\u001b[0m \u001b[32m3.1/3.1 MB\u001b[0m \u001b[31m9.5 MB/s\u001b[0m eta \u001b[36m0:00:00\u001b[0ma \u001b[36m0:00:01\u001b[0m\n",
      "\u001b[?25hInstalling collected packages: pyparsing, pillow, kiwisolver, importlib-resources, fonttools, cycler, contourpy, matplotlib\n",
      "Successfully installed contourpy-1.1.0 cycler-0.11.0 fonttools-4.42.1 importlib-resources-6.0.1 kiwisolver-1.4.5 matplotlib-3.7.2 pillow-10.0.0 pyparsing-3.0.9\n"
     ]
    }
   ],
   "source": [
    "!pip install matplotlib"
   ]
  },
  {
   "cell_type": "code",
   "execution_count": 8,
   "id": "229a596c",
   "metadata": {},
   "outputs": [
    {
     "name": "stdout",
     "output_type": "stream",
     "text": [
      "Collecting seaborn\n",
      "  Downloading seaborn-0.12.2-py3-none-any.whl (293 kB)\n",
      "\u001b[2K     \u001b[90m━━━━━━━━━━━━━━━━━━━━━━━━━━━━━━━━━━━━━━━\u001b[0m \u001b[32m293.3/293.3 kB\u001b[0m \u001b[31m9.7 MB/s\u001b[0m eta \u001b[36m0:00:00\u001b[0m\n",
      "\u001b[?25hRequirement already satisfied: numpy!=1.24.0,>=1.17 in /Users/nedstar/miniforge3/envs/tf-env/lib/python3.8/site-packages (from seaborn) (1.22.3)\n",
      "Requirement already satisfied: pandas>=0.25 in /Users/nedstar/miniforge3/envs/tf-env/lib/python3.8/site-packages (from seaborn) (2.0.3)\n",
      "Requirement already satisfied: matplotlib!=3.6.1,>=3.1 in /Users/nedstar/miniforge3/envs/tf-env/lib/python3.8/site-packages (from seaborn) (3.7.2)\n",
      "Requirement already satisfied: contourpy>=1.0.1 in /Users/nedstar/miniforge3/envs/tf-env/lib/python3.8/site-packages (from matplotlib!=3.6.1,>=3.1->seaborn) (1.1.0)\n",
      "Requirement already satisfied: cycler>=0.10 in /Users/nedstar/miniforge3/envs/tf-env/lib/python3.8/site-packages (from matplotlib!=3.6.1,>=3.1->seaborn) (0.11.0)\n",
      "Requirement already satisfied: fonttools>=4.22.0 in /Users/nedstar/miniforge3/envs/tf-env/lib/python3.8/site-packages (from matplotlib!=3.6.1,>=3.1->seaborn) (4.42.1)\n",
      "Requirement already satisfied: kiwisolver>=1.0.1 in /Users/nedstar/miniforge3/envs/tf-env/lib/python3.8/site-packages (from matplotlib!=3.6.1,>=3.1->seaborn) (1.4.5)\n",
      "Requirement already satisfied: packaging>=20.0 in /Users/nedstar/miniforge3/envs/tf-env/lib/python3.8/site-packages (from matplotlib!=3.6.1,>=3.1->seaborn) (23.1)\n",
      "Requirement already satisfied: pillow>=6.2.0 in /Users/nedstar/miniforge3/envs/tf-env/lib/python3.8/site-packages (from matplotlib!=3.6.1,>=3.1->seaborn) (10.0.0)\n",
      "Requirement already satisfied: pyparsing<3.1,>=2.3.1 in /Users/nedstar/miniforge3/envs/tf-env/lib/python3.8/site-packages (from matplotlib!=3.6.1,>=3.1->seaborn) (3.0.9)\n",
      "Requirement already satisfied: python-dateutil>=2.7 in /Users/nedstar/miniforge3/envs/tf-env/lib/python3.8/site-packages (from matplotlib!=3.6.1,>=3.1->seaborn) (2.8.2)\n",
      "Requirement already satisfied: importlib-resources>=3.2.0 in /Users/nedstar/miniforge3/envs/tf-env/lib/python3.8/site-packages (from matplotlib!=3.6.1,>=3.1->seaborn) (6.0.1)\n",
      "Requirement already satisfied: pytz>=2020.1 in /Users/nedstar/miniforge3/envs/tf-env/lib/python3.8/site-packages (from pandas>=0.25->seaborn) (2023.3.post1)\n",
      "Requirement already satisfied: tzdata>=2022.1 in /Users/nedstar/miniforge3/envs/tf-env/lib/python3.8/site-packages (from pandas>=0.25->seaborn) (2023.3)\n",
      "Requirement already satisfied: zipp>=3.1.0 in /Users/nedstar/miniforge3/envs/tf-env/lib/python3.8/site-packages (from importlib-resources>=3.2.0->matplotlib!=3.6.1,>=3.1->seaborn) (3.16.2)\n",
      "Requirement already satisfied: six>=1.5 in /Users/nedstar/miniforge3/envs/tf-env/lib/python3.8/site-packages (from python-dateutil>=2.7->matplotlib!=3.6.1,>=3.1->seaborn) (1.15.0)\n",
      "Installing collected packages: seaborn\n",
      "Successfully installed seaborn-0.12.2\n"
     ]
    }
   ],
   "source": [
    "!pip install seaborn"
   ]
  },
  {
   "cell_type": "code",
   "execution_count": 9,
   "id": "3abd27be",
   "metadata": {},
   "outputs": [
    {
     "name": "stdout",
     "output_type": "stream",
     "text": [
      "Collecting statsmodels\n",
      "  Downloading statsmodels-0.14.0-cp38-cp38-macosx_11_0_arm64.whl (9.3 MB)\n",
      "\u001b[2K     \u001b[90m━━━━━━━━━━━━━━━━━━━━━━━━━━━━━━━━━━━━━━━━\u001b[0m \u001b[32m9.3/9.3 MB\u001b[0m \u001b[31m4.0 MB/s\u001b[0m eta \u001b[36m0:00:00\u001b[0m00:01\u001b[0m00:01\u001b[0mm\n",
      "\u001b[?25hRequirement already satisfied: numpy>=1.18 in /Users/nedstar/miniforge3/envs/tf-env/lib/python3.8/site-packages (from statsmodels) (1.22.3)\n",
      "Collecting scipy!=1.9.2,>=1.4 (from statsmodels)\n",
      "  Downloading scipy-1.10.1-cp38-cp38-macosx_12_0_arm64.whl (28.8 MB)\n",
      "\u001b[2K     \u001b[90m━━━━━━━━━━━━━━━━━━━━━━━━━━━━━━━━━━━━━━━━\u001b[0m \u001b[32m28.8/28.8 MB\u001b[0m \u001b[31m5.5 MB/s\u001b[0m eta \u001b[36m0:00:00\u001b[0m00:01\u001b[0m00:01\u001b[0m\n",
      "\u001b[?25hRequirement already satisfied: pandas>=1.0 in /Users/nedstar/miniforge3/envs/tf-env/lib/python3.8/site-packages (from statsmodels) (2.0.3)\n",
      "Collecting patsy>=0.5.2 (from statsmodels)\n",
      "  Downloading patsy-0.5.3-py2.py3-none-any.whl (233 kB)\n",
      "\u001b[2K     \u001b[90m━━━━━━━━━━━━━━━━━━━━━━━━━━━━━━━━━━━━━━━\u001b[0m \u001b[32m233.8/233.8 kB\u001b[0m \u001b[31m3.4 MB/s\u001b[0m eta \u001b[36m0:00:00\u001b[0ma \u001b[36m0:00:01\u001b[0m\n",
      "\u001b[?25hRequirement already satisfied: packaging>=21.3 in /Users/nedstar/miniforge3/envs/tf-env/lib/python3.8/site-packages (from statsmodels) (23.1)\n",
      "Requirement already satisfied: python-dateutil>=2.8.2 in /Users/nedstar/miniforge3/envs/tf-env/lib/python3.8/site-packages (from pandas>=1.0->statsmodels) (2.8.2)\n",
      "Requirement already satisfied: pytz>=2020.1 in /Users/nedstar/miniforge3/envs/tf-env/lib/python3.8/site-packages (from pandas>=1.0->statsmodels) (2023.3.post1)\n",
      "Requirement already satisfied: tzdata>=2022.1 in /Users/nedstar/miniforge3/envs/tf-env/lib/python3.8/site-packages (from pandas>=1.0->statsmodels) (2023.3)\n",
      "Requirement already satisfied: six in /Users/nedstar/miniforge3/envs/tf-env/lib/python3.8/site-packages (from patsy>=0.5.2->statsmodels) (1.15.0)\n",
      "Installing collected packages: scipy, patsy, statsmodels\n",
      "Successfully installed patsy-0.5.3 scipy-1.10.1 statsmodels-0.14.0\n"
     ]
    }
   ],
   "source": [
    "!pip install statsmodels"
   ]
  },
  {
   "cell_type": "code",
   "execution_count": 5,
   "id": "39a3c832",
   "metadata": {
    "scrolled": true
   },
   "outputs": [
    {
     "name": "stdout",
     "output_type": "stream",
     "text": [
      "numpy version : 1.22.3\n",
      "pandas version : 2.0.3\n",
      "matplotlib version : 3.7.2\n"
     ]
    }
   ],
   "source": [
    "import numpy as np\n",
    "import pandas as pd\n",
    "import matplotlib\n",
    "print(f'numpy version : {np.__version__}')\n",
    "print(f'pandas version : {pd.__version__}')\n",
    "print(f'matplotlib version : {matplotlib.__version__}')"
   ]
  },
  {
   "cell_type": "code",
   "execution_count": 6,
   "id": "2ced5e16",
   "metadata": {},
   "outputs": [],
   "source": [
    "# 그래프 크기와 한글 폰트 지정하기\n",
    "import matplotlib.pyplot as plt\n",
    "\n",
    "plt.rcParams['figure.figsize'] = (4,3)\n",
    "# plt.rcParams['font.family'] = 'Malgun Gothic'  # 윈도우용 '맑은 고딕'으로 설정 \n",
    "plt.rcParams['axes.unicode_minus'] = False     # 그래프에서 (-)숫자표시\n",
    "\n",
    "# # for Mac notebook (맥에서 한글 폰트 사용)\n",
    "from matplotlib import rc\n",
    "rc('font', family='AppleGothic')"
   ]
  },
  {
   "cell_type": "markdown",
   "id": "bca0c3bb",
   "metadata": {},
   "source": [
    "[참고] Tex 기호: https://ko.wikipedia.org/wiki/%EC%9C%84%ED%82%A4%EB%B0%B1%EA%B3%BC:TeX_%EB%AC%B8%EB%B2%95"
   ]
  },
  {
   "cell_type": "markdown",
   "id": "d9719ece",
   "metadata": {},
   "source": [
    "------------------------------"
   ]
  },
  {
   "cell_type": "markdown",
   "id": "1d10bdc6",
   "metadata": {},
   "source": [
    "## <a name=\"02.1피처란\">02.1 피쳐란</a> "
   ]
  },
  {
   "cell_type": "markdown",
   "id": "e6e94c54",
   "metadata": {},
   "source": [
    "### 1. 피쳐(feature)의 개념 \n",
    "- 머신러닝에서 피처는 데이터의 특성을 나타내는 것\n",
    "- 데이터 표에서 열(column)을 지칭함\n",
    "- 머신러닝 모델이 패턴을 학습하고, 예측이나 분류를 수행하는 데 필요한 입력 데이터임\n",
    "- 피쳐의 선택과 전처리가 머신러닝 모델의 성능에 중요한 영향을 미침"
   ]
  },
  {
   "cell_type": "markdown",
   "id": "726b63ee",
   "metadata": {},
   "source": [
    "#### @보스턴주택가격 데이터\n",
    "다운로드: https://www.kaggle.com/altavish/boston-housing-dataset?select=HousingData.csv\n",
    "<br>\n",
    "| 필드명 | 설명 | 값 종류 |\n",
    "|:------|:------|------|\n",
    "|**CRIM** |자치시(town)별 1인당 범죄율 |\t|\n",
    "|ZN |25,000평방 피크를 초과하는 거주지역의 비율  |\t|\n",
    "|INDUS |비소매상업지역이 점유하고 있는 토지의 비율  |\t|\n",
    "|CHAS |찰스강 인접여부  |0=No, 1=Yes\t|\n",
    "|NOX |10ppm당 농축 일산화질소  |\t|\n",
    "|RM |주택 1가구당 평균 방의 개수  |\t|\n",
    "|AGE |1940년 이전에 건축된 소유주택의 비율  |\t|\n",
    "|DIS |5개의 보스턴 직업센터까지의 접근성 지수  |\t|\n",
    "|RAD |방사형 도로까지의 접근성 지수  |\t|\n",
    "|TAX |10,000 달러 당 재산세율  |\t|\n",
    "|PTRATIO |자치시(town)별 학생/교사 비율  |\t|\n",
    "|B |1000(Bk-0.63)^2, 여기서 Bk는 자치시별 흑인의 비율  |\t|\n",
    "|LSTAT |모진답의 하위계층의 비율(%)  |\t|\n",
    "|MEDV |본인 소유의 주택가격(중앙값) (단위: $1,000)  |\t|"
   ]
  },
  {
   "cell_type": "markdown",
   "id": "9893179f",
   "metadata": {},
   "source": [
    "### [참고] 머신러닝 모델 예:\n",
    "$y = f(x)$<br>\n",
    "$y = ax + b$<br>\n",
    "\n",
    "- **x : 독립변수(independent variable)** : 다른 변수에 영향을 주는 변수, 설명변수(explanatory variable)\n",
    "- **y : 종속변수(dependent variable)** : 영향을 받는 변수, 반응변수(response variable)"
   ]
  },
  {
   "cell_type": "markdown",
   "id": "b5625a0d",
   "metadata": {},
   "source": [
    "### [참고] 회귀분석(regression analysis)\n",
    "- 변수가 **다른 변수에 영향을 미치는 관계를 식별**하기 위한 통계적 방법\n",
    "- 두 변수 간의 관계를 파악하여 **한 변수의 값으로부터 그에 대응하는 다른 변수의 값을 예측**하고자 할 때 사용하는 통계적 방법\n",
    "\n",
    "### $y_i = ax_i + b +  e_i$    \n",
    "&nbsp;&nbsp;&nbsp;단순선형회귀모형(simple linear regression model) : 직선회귀모형<br>\n",
    " - $a, b$ : 모회귀계수\n",
    " - $x_i$  : 독립변수(설명변수)\n",
    " - $y_i$  : 종속변수(반응변수)\n",
    " - $e_i$  : $N(0,\\sigma^2)$을 따르는 확률변수(오차항) <br>\n",
    "**==> 모회귀계수 $a, b$를 추정함으로서 회귀직선을 추정할 수 있다!**"
   ]
  },
  {
   "cell_type": "code",
   "execution_count": 10,
   "id": "60a5f958",
   "metadata": {},
   "outputs": [
    {
     "data": {
      "image/png": "[encoded data removed]",
      "text/plain": [
       "<Figure size 400x300 with 1 Axes>"
      ]
     },
     "metadata": {},
     "output_type": "display_data"
    },
    {
     "name": "stdout",
     "output_type": "stream",
     "text": [
      "기울기 : 0.50   y절편 : 997.60  \n",
      "추정회귀직선 : y = 0.50x + 997.60\n",
      "--------------------------------------------------\n",
      "SSE :  14.7000 , n : 5\n",
      "평균제곱오차:오차항의 분산𝜎2의 추정량(S2)   :  4.9000\n",
      "오차항의 분산𝜎2에 대한 추정값의 표준오차(S) :  2.2136\n",
      "결정계수 R-squared :  0.8096\n"
     ]
    }
   ],
   "source": [
    "# 1.추정회귀직선 상관도 그리기\n",
    "def draw_linear_regression(a, b, xlabel='X', ylabel='Y'):\n",
    "    import matplotlib.pyplot as plt\n",
    "    import seaborn as sns\n",
    "\n",
    "    sns.regplot(x=df.X, y=df.Y) \n",
    "    plt.xlabel(xlabel)\n",
    "    plt.ylabel(ylabel)\n",
    "    plt.title('추정회귀직선')\n",
    "    plt.show()    \n",
    "  \n",
    " \n",
    "# 2.추정회귀직선 회귀식 구하기 \n",
    "def get_linear_regression_equation(a, b):\n",
    "    import numpy as np\n",
    "    \n",
    "    z = np.polyfit(a, b, 1)   # 기울기(a)와 절편(b) 구하기 (Least squares polynomial)\n",
    "    f = np.poly1d(z)          # f(x) : x값에 따른 y값을 구할 때 사용함\n",
    "    print(f'기울기 : {z[0]:.2f}   y절편 : {z[1]:.2f}  ')\n",
    "    print(f'추정회귀직선 : y = {z[0]:.2f}x + {z[1]:.2f}')\n",
    "    print('-'*50)\n",
    "#     return z, f\n",
    "\n",
    "\n",
    "# 3.결정계수, 오차항의 분산 𝜎2의 추정량(MSE)구하기\n",
    "def get_linear_regression_value(a, b, df):\n",
    "    from statsmodels.formula.api import ols   # ols(Ordinary Least Squares): 선형 모형 계수 추정 방법\n",
    "\n",
    "    model = ols('df.Y ~ df.X', data=df).fit() # ols('종속변수명 ~ C(독립변수명)+C(독립변수명)..', data=데이터프레임객체)\n",
    "    target_array = df.Y\n",
    "    target_pred1 = model.predict()\n",
    "    \n",
    "    # 직접 계산식 이용하는 경우\n",
    "    SST = np.sum((target_array - np.mean(target_array))**2)  # SST(편차의 제곱, 총변동), \n",
    "    SSR = np.sum((target_pred1 - np.mean(target_array))**2)  # SSR(편차와 잔차의 차이 제곱 : 회귀식으로 설명가능한 변동), \n",
    "    SSE = np.sum((target_array - target_pred1)**2)           # SSE(잔차의 제곱, 오차제곱합 : 회귀식으로 설명하지 못하는 변동)\n",
    "    MSE = SSE / (len(target_array) - 2)                   # MSE(평균제곱오차: 오차항의 분산 𝜎2의 추정량 S2)\n",
    "    S   = np.sqrt(MSE)                                    # S = 오차항의 분산 𝜎2에  대한 추정값의 표준오차 \n",
    "    r_squared = (1 - (SSE/SST))                           # 결정계수\n",
    "\n",
    "    print(f'SSE : {SSE : .4f} , n : {len(target_array)}')\n",
    "    print(f'평균제곱오차:오차항의 분산𝜎2의 추정량(S2)   : {MSE : .4f}')\n",
    "    print(f'오차항의 분산𝜎2에 대한 추정값의 표준오차(S) : {S : .4f}')\n",
    "    print(f'결정계수 R-squared : {r_squared : .4f}')    \n",
    "#     #모델 이용하는 경우\n",
    "#     SSE = sum((model.resid) ** 2)               # 모델 이용\n",
    "#     print(f'결정계수: {model.rsquared: .4f}')   # 모델 이용\n",
    " \n",
    "    \n",
    "# 단순선형회귀모형을 가정할 때     \n",
    "data = {'X':[10, 15, 20, 25, 30],\n",
    "        'Y':[1002, 1006, 1009, 1007, 1014]}\n",
    "\n",
    "df = pd.DataFrame(data)\n",
    "\n",
    "# 1.추정회귀직선 상관도 그리기\n",
    "draw_linear_regression(df.X, df.Y, xlabel='온도(C)', ylabel='봉강의 길이(mm)')\n",
    "\n",
    "# 2.추정회귀직선 회귀식 구하기\n",
    "get_linear_regression_equation(df.X, df.Y)\n",
    "\n",
    "# 3.오차항의 분산 𝜎2 추정\n",
    "get_linear_regression_value(df.X, df.Y, df)"
   ]
  },
  {
   "cell_type": "markdown",
   "id": "3dd172ec",
   "metadata": {},
   "source": [
    "### 2. 피쳐의 표기법\n",
    "- 데이터 테이블(data table) : 데이터를 테이블(표)로 표현한 것\n",
    "- 피쳐(feature) : 데이터 테이블 상에서 하나의 열 이름(column name)에 해당\n",
    "- 데이터 인스턴스(data instance) : 데이터 테이블 상에서 하나의 행(row)에 해당, 튜플(tuple)이라고도 부름<br>\n",
    "#### $y = w_1x_1 + w_2x_2 + w_3x_3 + ... + w_{13}x_{13} +w_0$ X 1   \n",
    "&nbsp;&nbsp;&nbsp;선형대수 표기법으로 표현하면<br>\n",
    "$y = w_1x_1 + w_2x_2 + w_3x_3 + ... + w_{13}x_{13} +w_0x_0 = \\sum_{i=1}^13 = w_ix_i = W^TX$ (내적: dot product)"
   ]
  },
  {
   "cell_type": "markdown",
   "id": "c16ba207",
   "metadata": {},
   "source": [
    "### [참고] 벡터와 행렬"
   ]
  },
  {
   "cell_type": "code",
   "execution_count": 12,
   "id": "09965700",
   "metadata": {},
   "outputs": [
    {
     "name": "stdout",
     "output_type": "stream",
     "text": [
      "[1 2 3]\n",
      "(3,)\n"
     ]
    }
   ],
   "source": [
    "import numpy as np\n",
    "\n",
    "# numpy에서 행벡터처럼 출력하기 = 1차 행렬\n",
    "data = [1,2,3]\n",
    "data1= np.array(data)\n",
    "print(data1)\n",
    "print(data1.shape)"
   ]
  },
  {
   "cell_type": "code",
   "execution_count": 13,
   "id": "e983af19",
   "metadata": {},
   "outputs": [
    {
     "name": "stdout",
     "output_type": "stream",
     "text": [
      "[[10 20]\n",
      " [30 40]]\n",
      "------------------------------\n",
      "[[10 40]\n",
      " [30 80]]\n"
     ]
    }
   ],
   "source": [
    "# 브로드 캐스트(broadcast)\n",
    "data = np.array([[1,2],[3,4]])\n",
    "print(data * 10)\n",
    "print('-'*30)\n",
    "\n",
    "data1 = np.array([[1,2],[3,4]])\n",
    "data2 = np.array([10,20])\n",
    "print(data1 * data2)"
   ]
  },
  {
   "cell_type": "code",
   "execution_count": 14,
   "id": "60959c65",
   "metadata": {},
   "outputs": [
    {
     "name": "stdout",
     "output_type": "stream",
     "text": [
      "벡터 내적: 32\n",
      "벡터 내적: 32\n",
      "------------------------------\n",
      "행렬 곱: [5 5 5]\n",
      "------------------------------\n",
      "행렬 곱: [ 6 12]\n",
      "행렬 곱: [[19 22]\n",
      " [43 50]]\n"
     ]
    }
   ],
   "source": [
    "# 벡터 내적\n",
    "data1 = np.array([1,2,3])  # 벡터\n",
    "data2 = np.array([4,5,6])  # 벡터\n",
    "print(f'벡터 내적: {data1 @ data2}')      \n",
    "print(f'벡터 내적: {np.dot(data1, data2)}')  \n",
    "print('-'*30)\n",
    "\n",
    "# 행렬의 곱\n",
    "data1 = np.array([1,2])\n",
    "data2 = np.array([[1,1,1],[2,2,2]])\n",
    "print(f'행렬 곱: {np.dot(data1, data2)}')  \n",
    "print('-'*30)\n",
    "\n",
    "data1 = np.array([[1,1,1],[2,2,2]])\n",
    "data2 = np.array([1,2,3])\n",
    "print(f'행렬 곱: {np.dot(data1, data2)}')  \n",
    "\n",
    "data1 = np.array([[1,2],[3,4]])\n",
    "data2 = np.array([[5,6],[7,8]])\n",
    "print(f'행렬 곱: {np.dot(data1, data2)}')  "
   ]
  },
  {
   "cell_type": "code",
   "execution_count": 15,
   "id": "3f0a6fbb",
   "metadata": {},
   "outputs": [
    {
     "name": "stdout",
     "output_type": "stream",
     "text": [
      "#input :\n",
      "[[1 2 2 0]\n",
      " [0 1 2 3]\n",
      " [1 0 1 2]\n",
      " [2 3 0 1]]\n",
      "#convolution kernel:\n",
      "[[0 0 0]\n",
      " [0 1 0]\n",
      " [0 0 0]]\n",
      "#feature map:\n",
      "[[1 2]\n",
      " [0 1]]\n",
      "#max pooling:\n",
      "2\n"
     ]
    }
   ],
   "source": [
    "# CNN(Convolutional Neural Networks): 합성곱 연산의 원리\n",
    "import numpy as np\n",
    "\n",
    "def getFeatureMap(data, mask):\n",
    "    result = []\n",
    "    x, y   = np.shape(data)\n",
    "    fx, fy = np.shape(mask)\n",
    "    for i in range(x-fx+1):\n",
    "        for j in range(y-fy+1):\n",
    "            result.append((data[i:i+fy, j:j+fy] * mask).sum())    \n",
    "\n",
    "    return np.array(result).reshape(2,2)  \n",
    "\n",
    "\n",
    "# input array\n",
    "data = np.array([[1,2,2,0],\n",
    "              [0,1,2,3],\n",
    "              [1,0,1,2],\n",
    "              [2,3,0,1]])\n",
    "# convolution kernel(==filter==mask)\n",
    "mask = np.array([[0,0,0],\n",
    "              [0,1,0],\n",
    "              [0,0,0]])\n",
    "\n",
    "# Feature Map(합성곱결과) 만들기\n",
    "result = getFeatureMap(data, mask)\n",
    "\n",
    "print(f'#input :\\n{data}')\n",
    "print(f'#convolution kernel:\\n{mask}')\n",
    "print(f'#feature map:\\n{result}')\n",
    "print(f'#max pooling:\\n{np.max(result)}') # Feature Map에서 map pooling 값 얻기"
   ]
  },
  {
   "cell_type": "markdown",
   "id": "1f45a9a3",
   "metadata": {},
   "source": [
    "-----------------"
   ]
  },
  {
   "cell_type": "markdown",
   "id": "fb4dc4a0",
   "metadata": {},
   "source": [
    "## <a name=\"02.2피처의종류\">02.2 피처의 종류</a>"
   ]
  },
  {
   "cell_type": "markdown",
   "id": "357c694e",
   "metadata": {},
   "source": [
    "### 1. 데이터의 분류\n",
    "\n",
    "| 분류 |연속형 데이터(continuous data) | 이산형 데이터(discrete data) |\n",
    "|:------|:---|:---|\n",
    "| 설명 | 값이 끊어지지 않고 계속 연결되는 종류의 데이터로<br>실수와 관련된 값 | 연속적 값이 아니라 분리해서 표현하는 데이터로<br>일종의 라벨로 구분 가능 |\n",
    "| 데이터 예 | 온도, 자동차의 속도|우편번호(숫자로 표현), 성별(텍스트로 표현)|\n",
    "| |평균, 분산 등 통계적 기법 적용 가능|텍스트 형태의 값도 숫자 형태로 바꾸어 수식의 $x_i$에 할당|\n",
    "\n"
   ]
  },
  {
   "cell_type": "markdown",
   "id": "5832e82e",
   "metadata": {},
   "source": [
    "### 2. 데이터를 모델에 적용할 때 고려사항"
   ]
  },
  {
   "cell_type": "markdown",
   "id": "61a47720",
   "metadata": {},
   "source": [
    "--------------"
   ]
  },
  {
   "cell_type": "markdown",
   "id": "7a0ae0b5",
   "metadata": {},
   "source": [
    "## <a name=\"03.데이터를모델에대입하기\">02.2 데이터를 모델에 대입하기</a>"
   ]
  },
  {
   "cell_type": "markdown",
   "id": "0fde8663",
   "metadata": {},
   "source": [
    "### 1. 데이터 테이블의 기본 용어\n",
    "- 데이터 테이블(data table) : 데이터를 테이블(표)로 표현한 것\n",
    "- 피쳐(feature) : 데이터 테이블 상에서 하나의 열 이름(column name)에 해당\n",
    "- 데이터 인스턴스(data instance) : 데이터 테이블 상에서 하나의 행(row)에 해당, 튜플(tuple)이라고도 부름"
   ]
  },
  {
   "cell_type": "markdown",
   "id": "c261550f",
   "metadata": {},
   "source": [
    "### 2. 판다스로 데이터 다루기"
   ]
  },
  {
   "cell_type": "markdown",
   "id": "b0b18af4",
   "metadata": {},
   "source": [
    "#### 2.1 데이터 불러오기"
   ]
  },
  {
   "cell_type": "code",
   "execution_count": 16,
   "id": "196963ab",
   "metadata": {},
   "outputs": [
    {
     "name": "stdout",
     "output_type": "stream",
     "text": [
      "CHAS : {0, 1}\n",
      "RAD  : {1, 2, 3, 4, 5, 6, 7, 8, 24}\n",
      "df_data.shape  : (506, 14)\n"
     ]
    },
    {
     "data": {
      "text/html": [
       "<div>\n",
       "<style scoped>\n",
       "    .dataframe tbody tr th:only-of-type {\n",
       "        vertical-align: middle;\n",
       "    }\n",
       "\n",
       "    .dataframe tbody tr th {\n",
       "        vertical-align: top;\n",
       "    }\n",
       "\n",
       "    .dataframe thead th {\n",
       "        text-align: right;\n",
       "    }\n",
       "</style>\n",
       "<table border=\"1\" class=\"dataframe\">\n",
       "  <thead>\n",
       "    <tr style=\"text-align: right;\">\n",
       "      <th></th>\n",
       "      <th>CRIM</th>\n",
       "      <th>ZN</th>\n",
       "      <th>INDUS</th>\n",
       "      <th>CHAS</th>\n",
       "      <th>NOX</th>\n",
       "      <th>RM</th>\n",
       "      <th>AGE</th>\n",
       "      <th>DIS</th>\n",
       "      <th>RAD</th>\n",
       "      <th>TAX</th>\n",
       "      <th>PTRATIO</th>\n",
       "      <th>B</th>\n",
       "      <th>LSTAT</th>\n",
       "      <th>MEDV</th>\n",
       "    </tr>\n",
       "  </thead>\n",
       "  <tbody>\n",
       "    <tr>\n",
       "      <th>0</th>\n",
       "      <td>0.00632</td>\n",
       "      <td>18.0</td>\n",
       "      <td>2.31</td>\n",
       "      <td>0</td>\n",
       "      <td>0.538</td>\n",
       "      <td>6.575</td>\n",
       "      <td>65.2</td>\n",
       "      <td>4.0900</td>\n",
       "      <td>1</td>\n",
       "      <td>296.0</td>\n",
       "      <td>15.3</td>\n",
       "      <td>396.90</td>\n",
       "      <td>4.98</td>\n",
       "      <td>24.0</td>\n",
       "    </tr>\n",
       "    <tr>\n",
       "      <th>1</th>\n",
       "      <td>0.02731</td>\n",
       "      <td>0.0</td>\n",
       "      <td>7.07</td>\n",
       "      <td>0</td>\n",
       "      <td>0.469</td>\n",
       "      <td>6.421</td>\n",
       "      <td>78.9</td>\n",
       "      <td>4.9671</td>\n",
       "      <td>2</td>\n",
       "      <td>242.0</td>\n",
       "      <td>17.8</td>\n",
       "      <td>396.90</td>\n",
       "      <td>9.14</td>\n",
       "      <td>21.6</td>\n",
       "    </tr>\n",
       "    <tr>\n",
       "      <th>2</th>\n",
       "      <td>0.02729</td>\n",
       "      <td>0.0</td>\n",
       "      <td>7.07</td>\n",
       "      <td>0</td>\n",
       "      <td>0.469</td>\n",
       "      <td>7.185</td>\n",
       "      <td>61.1</td>\n",
       "      <td>4.9671</td>\n",
       "      <td>2</td>\n",
       "      <td>242.0</td>\n",
       "      <td>17.8</td>\n",
       "      <td>392.83</td>\n",
       "      <td>4.03</td>\n",
       "      <td>34.7</td>\n",
       "    </tr>\n",
       "    <tr>\n",
       "      <th>3</th>\n",
       "      <td>0.03237</td>\n",
       "      <td>0.0</td>\n",
       "      <td>2.18</td>\n",
       "      <td>0</td>\n",
       "      <td>0.458</td>\n",
       "      <td>6.998</td>\n",
       "      <td>45.8</td>\n",
       "      <td>6.0622</td>\n",
       "      <td>3</td>\n",
       "      <td>222.0</td>\n",
       "      <td>18.7</td>\n",
       "      <td>394.63</td>\n",
       "      <td>2.94</td>\n",
       "      <td>33.4</td>\n",
       "    </tr>\n",
       "    <tr>\n",
       "      <th>4</th>\n",
       "      <td>0.06905</td>\n",
       "      <td>0.0</td>\n",
       "      <td>2.18</td>\n",
       "      <td>0</td>\n",
       "      <td>0.458</td>\n",
       "      <td>7.147</td>\n",
       "      <td>54.2</td>\n",
       "      <td>6.0622</td>\n",
       "      <td>3</td>\n",
       "      <td>222.0</td>\n",
       "      <td>18.7</td>\n",
       "      <td>396.90</td>\n",
       "      <td>5.33</td>\n",
       "      <td>36.2</td>\n",
       "    </tr>\n",
       "  </tbody>\n",
       "</table>\n",
       "</div>"
      ],
      "text/plain": [
       "      CRIM    ZN  INDUS  CHAS    NOX     RM   AGE     DIS  RAD    TAX  \\\n",
       "0  0.00632  18.0   2.31     0  0.538  6.575  65.2  4.0900    1  296.0   \n",
       "1  0.02731   0.0   7.07     0  0.469  6.421  78.9  4.9671    2  242.0   \n",
       "2  0.02729   0.0   7.07     0  0.469  7.185  61.1  4.9671    2  242.0   \n",
       "3  0.03237   0.0   2.18     0  0.458  6.998  45.8  6.0622    3  222.0   \n",
       "4  0.06905   0.0   2.18     0  0.458  7.147  54.2  6.0622    3  222.0   \n",
       "\n",
       "   PTRATIO       B  LSTAT  MEDV  \n",
       "0     15.3  396.90   4.98  24.0  \n",
       "1     17.8  396.90   9.14  21.6  \n",
       "2     17.8  392.83   4.03  34.7  \n",
       "3     18.7  394.63   2.94  33.4  \n",
       "4     18.7  396.90   5.33  36.2  "
      ]
     },
     "execution_count": 16,
     "metadata": {},
     "output_type": "execute_result"
    }
   ],
   "source": [
    "# (1) pandas 모듈 호출\n",
    "import pandas as pd \n",
    "# (2) 데이터 URL을 변수 data_url에 넣기\n",
    "data_url = 'https://archive.ics.uci.edu/ml/machine-learning-databases/housing/housing.data' \n",
    "# (3) csv 데이터 로드\n",
    "df_data = pd.read_csv(data_url, sep='\\s+', header = None) \n",
    "# (4) 데이터의 열 이름 지정\n",
    "df_data.columns = ['CRIM','ZN', 'INDUS', 'CHAS', 'NOX', 'RM', 'AGE', 'DIS', 'RAD', 'TAX', 'PTRATIO' ,'B', 'LSTAT', 'MEDV'] \n",
    "# (5) 데이터 출력\n",
    "print(f'CHAS : {set(df_data.CHAS)}')\n",
    "print(f'RAD  : {set(df_data.RAD)}')\n",
    "print(f'df_data.shape  : {df_data.shape}')\n",
    "df_data.head()  # 앞에서 5개 출력"
   ]
  },
  {
   "cell_type": "markdown",
   "id": "d8ab767f",
   "metadata": {},
   "source": [
    "| 필드명 | 설명 | 값 종류 |\n",
    "|:------|:------|------|\n",
    "|**CRIM** |자치시(town)별 1인당 범죄율 |\t|\n",
    "|ZN |25,000평방 피크를 초과하는 거주지역의 비율  |\t|\n",
    "|INDUS |비소매상업지역이 점유하고 있는 토지의 비율  |\t|\n",
    "|CHAS |찰스강 인접여부  |0=No, 1=Yes\t|\n",
    "|NOX |10ppm당 농축 일산화질소  |\t|\n",
    "|RM |주택 1가구당 평균 방의 개수  |\t|\n",
    "|AGE |1940년 이전에 건축된 소유주택의 비율  |\t|\n",
    "|DIS |5개의 보스턴 직업센터까지의 접근성 지수  |\t|\n",
    "|RAD |방사형 도로까지의 접근성 지수  |\t|\n",
    "|TAX |10,000 달러 당 재산세율  |\t|\n",
    "|PTRATIO |자치시(town)별 학생/교사 비율  |\t|\n",
    "|B |1000(Bk-0.63)^2, 여기서 Bk는 자치시별 흑인의 비율  |\t|\n",
    "|LSTAT |모진답의 하위계층의 비율(%)  |\t|\n",
    "|MEDV |본인 소유의 주택가격(중앙값) (단위: $1,000)  |\t|"
   ]
  },
  {
   "cell_type": "markdown",
   "id": "0446e406",
   "metadata": {},
   "source": [
    "#### 2.2 데이터에 수식 적용하기"
   ]
  },
  {
   "cell_type": "code",
   "execution_count": null,
   "id": "e81a2619",
   "metadata": {},
   "outputs": [],
   "source": [
    "import numpy as np                    # (1) numpy 모듈 호출\n",
    "\n",
    "df_data['weight_0'] = 1                # (2) weight 0 값 추가\n",
    "df_data = df_data.drop(\"MEDV\", axis=1) # (3) Y 값 제거\n",
    "df_matrix = df_data.values             # (4) 행렬(Matrix) 데이터로 변환하기\n",
    "weight_vector = np.random.random_sample((14, 1)) # (5) 가중치 w 생성 : 0~1사이의 임의의 실수 14행 1열로 생성\n",
    "df_matrix.dot(weight_vector)                # (6) 내적 연산 실행 결과 출력"
   ]
  },
  {
   "cell_type": "code",
   "execution_count": null,
   "id": "d610d411",
   "metadata": {},
   "outputs": [],
   "source": []
  }
 ],
 "metadata": {
  "kernelspec": {
   "display_name": "Python 3 (ipykernel)",
   "language": "python",
   "name": "python3"
  },
  "language_info": {
   "codemirror_mode": {
    "name": "ipython",
    "version": 3
   },
   "file_extension": ".py",
   "mimetype": "text/x-python",
   "name": "python",
   "nbconvert_exporter": "python",
   "pygments_lexer": "ipython3",
   "version": "3.8.17"
  }
 },
 "nbformat": 4,
 "nbformat_minor": 5
}
