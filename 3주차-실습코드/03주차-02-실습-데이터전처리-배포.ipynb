{
 "cells": [
  {
   "cell_type": "markdown",
   "id": "ffb44dfd",
   "metadata": {},
   "source": [
    "## [실습] 데이터 전처리 : kaggle 데이터\n",
    "\n",
    "1. 데이터 준비\n",
    "2. 데이터 전처리"
   ]
  },
  {
   "cell_type": "markdown",
   "id": "203f3bfc",
   "metadata": {},
   "source": [
    "------------------------"
   ]
  },
  {
   "cell_type": "markdown",
   "id": "60ac85e4",
   "metadata": {},
   "source": [
    "### 1. 데이터 준비하기 \n",
    "\n",
    "#### 피마 인디안 당뇨병 데이터 파일 다운로드하기\n",
    "- https://www.kaggle.com/datasets/uciml/pima-indians-diabetes-database \n"
   ]
  },
  {
   "cell_type": "markdown",
   "id": "46beab1a",
   "metadata": {},
   "source": [
    "------"
   ]
  },
  {
   "cell_type": "markdown",
   "id": "34de4248",
   "metadata": {},
   "source": [
    "### 2. 데이터 전처리\n",
    "판다스로 csv 파일 불러와 확인하기"
   ]
  },
  {
   "cell_type": "markdown",
   "id": "2abd2c2b",
   "metadata": {},
   "source": [
    "#### 2.1 데이터의 컬럼(feature) 살펴보기"
   ]
  },
  {
   "cell_type": "code",
   "execution_count": 9,
   "id": "77b1be18",
   "metadata": {},
   "outputs": [
    {
     "data": {
      "text/html": [
       "<div>\n",
       "<style scoped>\n",
       "    .dataframe tbody tr th:only-of-type {\n",
       "        vertical-align: middle;\n",
       "    }\n",
       "\n",
       "    .dataframe tbody tr th {\n",
       "        vertical-align: top;\n",
       "    }\n",
       "\n",
       "    .dataframe thead th {\n",
       "        text-align: right;\n",
       "    }\n",
       "</style>\n",
       "<table border=\"1\" class=\"dataframe\">\n",
       "  <thead>\n",
       "    <tr style=\"text-align: right;\">\n",
       "      <th></th>\n",
       "      <th>Pregnancies</th>\n",
       "      <th>Glucose</th>\n",
       "      <th>BloodPressure</th>\n",
       "      <th>SkinThickness</th>\n",
       "      <th>Insulin</th>\n",
       "      <th>BMI</th>\n",
       "      <th>DiabetesPedigreeFunction</th>\n",
       "      <th>Age</th>\n",
       "      <th>Outcome</th>\n",
       "    </tr>\n",
       "  </thead>\n",
       "  <tbody>\n",
       "    <tr>\n",
       "      <th>0</th>\n",
       "      <td>6</td>\n",
       "      <td>148</td>\n",
       "      <td>72</td>\n",
       "      <td>35</td>\n",
       "      <td>0</td>\n",
       "      <td>33.6</td>\n",
       "      <td>0.627</td>\n",
       "      <td>50</td>\n",
       "      <td>1</td>\n",
       "    </tr>\n",
       "    <tr>\n",
       "      <th>1</th>\n",
       "      <td>1</td>\n",
       "      <td>85</td>\n",
       "      <td>66</td>\n",
       "      <td>29</td>\n",
       "      <td>0</td>\n",
       "      <td>26.6</td>\n",
       "      <td>0.351</td>\n",
       "      <td>31</td>\n",
       "      <td>0</td>\n",
       "    </tr>\n",
       "    <tr>\n",
       "      <th>2</th>\n",
       "      <td>8</td>\n",
       "      <td>183</td>\n",
       "      <td>64</td>\n",
       "      <td>0</td>\n",
       "      <td>0</td>\n",
       "      <td>23.3</td>\n",
       "      <td>0.672</td>\n",
       "      <td>32</td>\n",
       "      <td>1</td>\n",
       "    </tr>\n",
       "    <tr>\n",
       "      <th>3</th>\n",
       "      <td>1</td>\n",
       "      <td>89</td>\n",
       "      <td>66</td>\n",
       "      <td>23</td>\n",
       "      <td>94</td>\n",
       "      <td>28.1</td>\n",
       "      <td>0.167</td>\n",
       "      <td>21</td>\n",
       "      <td>0</td>\n",
       "    </tr>\n",
       "    <tr>\n",
       "      <th>4</th>\n",
       "      <td>0</td>\n",
       "      <td>137</td>\n",
       "      <td>40</td>\n",
       "      <td>35</td>\n",
       "      <td>168</td>\n",
       "      <td>43.1</td>\n",
       "      <td>2.288</td>\n",
       "      <td>33</td>\n",
       "      <td>1</td>\n",
       "    </tr>\n",
       "  </tbody>\n",
       "</table>\n",
       "</div>"
      ],
      "text/plain": [
       "   Pregnancies  Glucose  BloodPressure  SkinThickness  Insulin   BMI  \\\n",
       "0            6      148             72             35        0  33.6   \n",
       "1            1       85             66             29        0  26.6   \n",
       "2            8      183             64              0        0  23.3   \n",
       "3            1       89             66             23       94  28.1   \n",
       "4            0      137             40             35      168  43.1   \n",
       "\n",
       "   DiabetesPedigreeFunction  Age  Outcome  \n",
       "0                     0.627   50        1  \n",
       "1                     0.351   31        0  \n",
       "2                     0.672   32        1  \n",
       "3                     0.167   21        0  \n",
       "4                     2.288   33        1  "
      ]
     },
     "execution_count": 9,
     "metadata": {},
     "output_type": "execute_result"
    }
   ],
   "source": [
    "# 판다스로 csv 파일 불러와 확인하기\n",
    "import pandas as pd\n",
    "\n",
    "df = pd.pandas.read_csv('./data/diabetes.csv')\n",
    "df.head()"
   ]
  },
  {
   "cell_type": "markdown",
   "id": "d098a8dc",
   "metadata": {},
   "source": [
    "#### # 피마 인디어 당뇨병 데이터(diabetes.csv)\n",
    "| 컬럼(feature) |설명 | 비고 |\n",
    "|:------|:---|:---|\n",
    "| Pregnancies | 과거 임신 횟수 |  |           \n",
    "| Glucose | 혈당 수치 |  | \n",
    "| BloodPressure | 혈압 |  | \n",
    "| SkinThickness | 피부겹두께 |  | \n",
    "| Insulin | 인슐린 농도 |  | \n",
    "| BMI | 체질량 지수(Body Mass Index)  |  | \n",
    "| DiabetesPedigreeFunction | 가족력을 바탕으로 환자가 당뇨에 얼마나 취약한지를 요약한 점수 |  | \n",
    "| Age | 나이 |  | \n",
    "| Outcome | (레이블) 예측 목표 변수 |(최초 측정 후 5년 내 당뇨 발병=1, 미발병=0)  | "
   ]
  },
  {
   "cell_type": "markdown",
   "id": "b60ceb9c",
   "metadata": {},
   "source": [
    "#### 2.2 각 컬럼을 히스토그램(histogram)으로 시각화해보기"
   ]
  },
  {
   "cell_type": "code",
   "execution_count": 3,
   "id": "053c9c36",
   "metadata": {},
   "outputs": [
    {
     "data": {
      "image/png": "[encoded data removed]",
      "text/plain": [
       "<Figure size 640x480 with 9 Axes>"
      ]
     },
     "metadata": {},
     "output_type": "display_data"
    }
   ],
   "source": [
    "import matplotlib.pyplot as plt\n",
    "\n",
    "df.hist()           # pandas의 히스토그램 함수 사용\n",
    "plt.tight_layout()  # 서브 플롯 크기 또는 간격을 일정하게 맞춤\n",
    "plt.show()"
   ]
  },
  {
   "cell_type": "markdown",
   "id": "8e2b8e5f",
   "metadata": {},
   "source": [
    "#### 2.3 결측치 확인하기"
   ]
  },
  {
   "cell_type": "code",
   "execution_count": 4,
   "id": "3bbbd0ba",
   "metadata": {},
   "outputs": [
    {
     "name": "stdout",
     "output_type": "stream",
     "text": [
      "<class 'pandas.core.frame.DataFrame'>\n",
      "RangeIndex: 768 entries, 0 to 767\n",
      "Data columns (total 9 columns):\n",
      " #   Column                    Non-Null Count  Dtype  \n",
      "---  ------                    --------------  -----  \n",
      " 0   Pregnancies               768 non-null    int64  \n",
      " 1   Glucose                   768 non-null    int64  \n",
      " 2   BloodPressure             768 non-null    int64  \n",
      " 3   SkinThickness             768 non-null    int64  \n",
      " 4   Insulin                   768 non-null    int64  \n",
      " 5   BMI                       768 non-null    float64\n",
      " 6   DiabetesPedigreeFunction  768 non-null    float64\n",
      " 7   Age                       768 non-null    int64  \n",
      " 8   Outcome                   768 non-null    int64  \n",
      "dtypes: float64(2), int64(7)\n",
      "memory usage: 54.1 KB\n"
     ]
    }
   ],
   "source": [
    "# pandas Dataframe info() 함수 사용하여 결측치 확인하기\n",
    "\n",
    "df.info()"
   ]
  },
  {
   "cell_type": "code",
   "execution_count": 5,
   "id": "c3a34993",
   "metadata": {
    "scrolled": true
   },
   "outputs": [
    {
     "data": {
      "text/html": [
       "<div>\n",
       "<style scoped>\n",
       "    .dataframe tbody tr th:only-of-type {\n",
       "        vertical-align: middle;\n",
       "    }\n",
       "\n",
       "    .dataframe tbody tr th {\n",
       "        vertical-align: top;\n",
       "    }\n",
       "\n",
       "    .dataframe thead th {\n",
       "        text-align: right;\n",
       "    }\n",
       "</style>\n",
       "<table border=\"1\" class=\"dataframe\">\n",
       "  <thead>\n",
       "    <tr style=\"text-align: right;\">\n",
       "      <th></th>\n",
       "      <th>Pregnancies</th>\n",
       "      <th>Glucose</th>\n",
       "      <th>BloodPressure</th>\n",
       "      <th>SkinThickness</th>\n",
       "      <th>Insulin</th>\n",
       "      <th>BMI</th>\n",
       "      <th>DiabetesPedigreeFunction</th>\n",
       "      <th>Age</th>\n",
       "      <th>Outcome</th>\n",
       "    </tr>\n",
       "  </thead>\n",
       "  <tbody>\n",
       "    <tr>\n",
       "      <th>count</th>\n",
       "      <td>768.000000</td>\n",
       "      <td>768.000000</td>\n",
       "      <td>768.000000</td>\n",
       "      <td>768.000000</td>\n",
       "      <td>768.000000</td>\n",
       "      <td>768.000000</td>\n",
       "      <td>768.000000</td>\n",
       "      <td>768.000000</td>\n",
       "      <td>768.000000</td>\n",
       "    </tr>\n",
       "    <tr>\n",
       "      <th>mean</th>\n",
       "      <td>3.845052</td>\n",
       "      <td>120.894531</td>\n",
       "      <td>69.105469</td>\n",
       "      <td>20.536458</td>\n",
       "      <td>79.799479</td>\n",
       "      <td>31.992578</td>\n",
       "      <td>0.471876</td>\n",
       "      <td>33.240885</td>\n",
       "      <td>0.348958</td>\n",
       "    </tr>\n",
       "    <tr>\n",
       "      <th>std</th>\n",
       "      <td>3.369578</td>\n",
       "      <td>31.972618</td>\n",
       "      <td>19.355807</td>\n",
       "      <td>15.952218</td>\n",
       "      <td>115.244002</td>\n",
       "      <td>7.884160</td>\n",
       "      <td>0.331329</td>\n",
       "      <td>11.760232</td>\n",
       "      <td>0.476951</td>\n",
       "    </tr>\n",
       "    <tr>\n",
       "      <th>min</th>\n",
       "      <td>0.000000</td>\n",
       "      <td>0.000000</td>\n",
       "      <td>0.000000</td>\n",
       "      <td>0.000000</td>\n",
       "      <td>0.000000</td>\n",
       "      <td>0.000000</td>\n",
       "      <td>0.078000</td>\n",
       "      <td>21.000000</td>\n",
       "      <td>0.000000</td>\n",
       "    </tr>\n",
       "    <tr>\n",
       "      <th>25%</th>\n",
       "      <td>1.000000</td>\n",
       "      <td>99.000000</td>\n",
       "      <td>62.000000</td>\n",
       "      <td>0.000000</td>\n",
       "      <td>0.000000</td>\n",
       "      <td>27.300000</td>\n",
       "      <td>0.243750</td>\n",
       "      <td>24.000000</td>\n",
       "      <td>0.000000</td>\n",
       "    </tr>\n",
       "    <tr>\n",
       "      <th>50%</th>\n",
       "      <td>3.000000</td>\n",
       "      <td>117.000000</td>\n",
       "      <td>72.000000</td>\n",
       "      <td>23.000000</td>\n",
       "      <td>30.500000</td>\n",
       "      <td>32.000000</td>\n",
       "      <td>0.372500</td>\n",
       "      <td>29.000000</td>\n",
       "      <td>0.000000</td>\n",
       "    </tr>\n",
       "    <tr>\n",
       "      <th>75%</th>\n",
       "      <td>6.000000</td>\n",
       "      <td>140.250000</td>\n",
       "      <td>80.000000</td>\n",
       "      <td>32.000000</td>\n",
       "      <td>127.250000</td>\n",
       "      <td>36.600000</td>\n",
       "      <td>0.626250</td>\n",
       "      <td>41.000000</td>\n",
       "      <td>1.000000</td>\n",
       "    </tr>\n",
       "    <tr>\n",
       "      <th>max</th>\n",
       "      <td>17.000000</td>\n",
       "      <td>199.000000</td>\n",
       "      <td>122.000000</td>\n",
       "      <td>99.000000</td>\n",
       "      <td>846.000000</td>\n",
       "      <td>67.100000</td>\n",
       "      <td>2.420000</td>\n",
       "      <td>81.000000</td>\n",
       "      <td>1.000000</td>\n",
       "    </tr>\n",
       "  </tbody>\n",
       "</table>\n",
       "</div>"
      ],
      "text/plain": [
       "       Pregnancies     Glucose  BloodPressure  SkinThickness     Insulin  \\\n",
       "count   768.000000  768.000000     768.000000     768.000000  768.000000   \n",
       "mean      3.845052  120.894531      69.105469      20.536458   79.799479   \n",
       "std       3.369578   31.972618      19.355807      15.952218  115.244002   \n",
       "min       0.000000    0.000000       0.000000       0.000000    0.000000   \n",
       "25%       1.000000   99.000000      62.000000       0.000000    0.000000   \n",
       "50%       3.000000  117.000000      72.000000      23.000000   30.500000   \n",
       "75%       6.000000  140.250000      80.000000      32.000000  127.250000   \n",
       "max      17.000000  199.000000     122.000000      99.000000  846.000000   \n",
       "\n",
       "              BMI  DiabetesPedigreeFunction         Age     Outcome  \n",
       "count  768.000000                768.000000  768.000000  768.000000  \n",
       "mean    31.992578                  0.471876   33.240885    0.348958  \n",
       "std      7.884160                  0.331329   11.760232    0.476951  \n",
       "min      0.000000                  0.078000   21.000000    0.000000  \n",
       "25%     27.300000                  0.243750   24.000000    0.000000  \n",
       "50%     32.000000                  0.372500   29.000000    0.000000  \n",
       "75%     36.600000                  0.626250   41.000000    1.000000  \n",
       "max     67.100000                  2.420000   81.000000    1.000000  "
      ]
     },
     "execution_count": 5,
     "metadata": {},
     "output_type": "execute_result"
    }
   ],
   "source": [
    "# pandas 기술통계 요약 함수로 수치데이터 확인하기\n",
    "\n",
    "df.describe()"
   ]
  },
  {
   "cell_type": "code",
   "execution_count": 6,
   "id": "b0318cc5",
   "metadata": {
    "scrolled": true
   },
   "outputs": [
    {
     "name": "stdout",
     "output_type": "stream",
     "text": [
      "Pregnancies : 111\n",
      "Glucose : 5\n",
      "BloodPressure : 35\n",
      "SkinThickness : 227\n",
      "Insulin : 374\n",
      "BMI : 11\n",
      "DiabetesPedigreeFunction : 0\n",
      "Age : 0\n",
      "Outcome : 500\n"
     ]
    }
   ],
   "source": [
    "# 각 컬럼에서 값이 0인 요소의 개수 출력\n",
    "for col in df.columns:\n",
    "    missing_rows = df.loc[ df[col] == 0 ].shape[0]    # 각 컬럼에서 0 값이 얼마나 존재하는지 개수를 출력\n",
    "    print(f'{col} : {str(missing_rows)}')"
   ]
  },
  {
   "cell_type": "markdown",
   "id": "a2782831",
   "metadata": {},
   "source": [
    "#### 2.4 결측치 처리하기(결측값을 처리하는 방법)\n",
    "- 행을 제거하거나 다른 값(평균, 중앙값, 최빈값)으로 대체\n",
    "-  **해당 컬럼 평균값으로 수정**: Glucose(혈당), BloodPressure(혈압), SkinThickness(피부겹두께), Insulin(인슐린 농도), BMI(체질량 지수)\n",
    "- **작업순서**: '0'을 NaN으로 변경 -> NaN을 평균값으로 변경\n",
    "\n",
    "#### #작업1 :  '0'을  NaN으로 변경하기 ( df.컬럼.replace(0, np.nan)  ) "
   ]
  },
  {
   "cell_type": "code",
   "execution_count": 11,
   "id": "502263b4",
   "metadata": {},
   "outputs": [
    {
     "data": {
      "text/plain": [
       "Pregnancies                 0\n",
       "Glucose                     0\n",
       "BloodPressure               0\n",
       "SkinThickness               0\n",
       "Insulin                     0\n",
       "BMI                         0\n",
       "DiabetesPedigreeFunction    0\n",
       "Age                         0\n",
       "Outcome                     0\n",
       "dtype: int64"
      ]
     },
     "execution_count": 11,
     "metadata": {},
     "output_type": "execute_result"
    }
   ],
   "source": [
    "df.isnull().sum()"
   ]
  },
  {
   "cell_type": "code",
   "execution_count": 13,
   "id": "6bc92194",
   "metadata": {},
   "outputs": [
    {
     "name": "stdout",
     "output_type": "stream",
     "text": [
      "Number of rows with 0 values for each variable\n",
      "--------------------------------------------------\n",
      "Pregnancies : 111\n",
      "Glucose : 0\n",
      "BloodPressure : 0\n",
      "SkinThickness : 0\n",
      "Insulin : 0\n",
      "BMI : 0\n",
      "DiabetesPedigreeFunction : 0\n",
      "Age : 0\n",
      "Outcome : 500\n"
     ]
    }
   ],
   "source": [
    "import numpy as np\n",
    "\n",
    "# 컬럼 0값을 NaN으로 변경하기\n",
    "# - Glucose(혈당), BloodPressure(혈압), SkinThickness(피부겹두께), \n",
    "# - Insulin(인슐린 농도), BMI(체질량 지수) \n",
    "\n",
    "zero_features = ['Glucose', 'BloodPressure', 'SkinThickness', 'Insulin', 'BMI']\n",
    "for col in zero_features:\n",
    "    df[col].replace(0, np.nan, inplace=True)    # 0 값을 NaN으로 변경\n",
    "\n",
    "print(\"Number of rows with 0 values for each variable\")\n",
    "print('-'*50)\n",
    "\n",
    "# 각 컬럼에서 값이 0인 요소의 개수 출력\n",
    "for col in df.columns:\n",
    "    missing_rows = df.loc[ df[col] == 0 ].shape[0]    # 각 컬럼에서 0 값이 얼마나 존재하는지 개수를 출력\n",
    "    print(f'{col} : {str(missing_rows)}')"
   ]
  },
  {
   "cell_type": "markdown",
   "id": "cc400f17",
   "metadata": {},
   "source": [
    "#### #작업2 : NaN을 정상값의 평균으로 변경하기 (df.컬럼.fillna(df.컬럼.mean()) )"
   ]
  },
  {
   "cell_type": "code",
   "execution_count": 15,
   "id": "701c5303",
   "metadata": {},
   "outputs": [
    {
     "ename": "AttributeError",
     "evalue": "'DataFrame' object has no attribute 'col'",
     "output_type": "error",
     "traceback": [
      "\u001b[0;31m---------------------------------------------------------------------------\u001b[0m",
      "\u001b[0;31mAttributeError\u001b[0m                            Traceback (most recent call last)",
      "Cell \u001b[0;32mIn[15], line 6\u001b[0m\n\u001b[1;32m      1\u001b[0m \u001b[39m# 컬럼 NaN을 정상값의 평균으로 변경하기\u001b[39;00m\n\u001b[1;32m      2\u001b[0m \u001b[39m# - Glucose(혈당), BloodPressure(혈압), SkinThickness(피부겹두께), \u001b[39;00m\n\u001b[1;32m      3\u001b[0m \u001b[39m# - Insulin(인슐린 농도), BMI(체질량 지수) \u001b[39;00m\n\u001b[1;32m      5\u001b[0m \u001b[39mfor\u001b[39;00m col \u001b[39min\u001b[39;00m zero_features:\n\u001b[0;32m----> 6\u001b[0m     df\u001b[39m.\u001b[39;49mcol\u001b[39m.\u001b[39mfillna(df\u001b[39m.\u001b[39mcol\u001b[39m.\u001b[39mmean())    \u001b[39m# NaN 값을 평균값으로 변경\u001b[39;00m\n\u001b[1;32m      8\u001b[0m \u001b[39mprint\u001b[39m(\u001b[39m\"\u001b[39m\u001b[39mNumber of rows with NaN values for each variable\u001b[39m\u001b[39m\"\u001b[39m)\n\u001b[1;32m      9\u001b[0m \u001b[39mprint\u001b[39m(\u001b[39m'\u001b[39m\u001b[39m-\u001b[39m\u001b[39m'\u001b[39m\u001b[39m*\u001b[39m\u001b[39m50\u001b[39m)\n",
      "File \u001b[0;32m~/miniforge3/envs/tf-env/lib/python3.8/site-packages/pandas/core/generic.py:5989\u001b[0m, in \u001b[0;36mNDFrame.__getattr__\u001b[0;34m(self, name)\u001b[0m\n\u001b[1;32m   5982\u001b[0m \u001b[39mif\u001b[39;00m (\n\u001b[1;32m   5983\u001b[0m     name \u001b[39mnot\u001b[39;00m \u001b[39min\u001b[39;00m \u001b[39mself\u001b[39m\u001b[39m.\u001b[39m_internal_names_set\n\u001b[1;32m   5984\u001b[0m     \u001b[39mand\u001b[39;00m name \u001b[39mnot\u001b[39;00m \u001b[39min\u001b[39;00m \u001b[39mself\u001b[39m\u001b[39m.\u001b[39m_metadata\n\u001b[1;32m   5985\u001b[0m     \u001b[39mand\u001b[39;00m name \u001b[39mnot\u001b[39;00m \u001b[39min\u001b[39;00m \u001b[39mself\u001b[39m\u001b[39m.\u001b[39m_accessors\n\u001b[1;32m   5986\u001b[0m     \u001b[39mand\u001b[39;00m \u001b[39mself\u001b[39m\u001b[39m.\u001b[39m_info_axis\u001b[39m.\u001b[39m_can_hold_identifiers_and_holds_name(name)\n\u001b[1;32m   5987\u001b[0m ):\n\u001b[1;32m   5988\u001b[0m     \u001b[39mreturn\u001b[39;00m \u001b[39mself\u001b[39m[name]\n\u001b[0;32m-> 5989\u001b[0m \u001b[39mreturn\u001b[39;00m \u001b[39mobject\u001b[39;49m\u001b[39m.\u001b[39;49m\u001b[39m__getattribute__\u001b[39;49m(\u001b[39mself\u001b[39;49m, name)\n",
      "\u001b[0;31mAttributeError\u001b[0m: 'DataFrame' object has no attribute 'col'"
     ]
    }
   ],
   "source": [
    "# 컬럼 NaN을 정상값의 평균으로 변경하기\n",
    "# - Glucose(혈당), BloodPressure(혈압), SkinThickness(피부겹두께), \n",
    "# - Insulin(인슐린 농도), BMI(체질량 지수) \n",
    "\n",
    "for col in zero_features:\n",
    "    df[col].replace(np.nan, df[col].mean(), inplace=True)  # NaN 값을 평균값으로 변경\n",
    "\n",
    "print(\"Number of rows with NaN values for each variable\")\n",
    "print('-'*50)\n",
    "\n",
    "# 각 컬럼에서 값이 NaN인 요소의 개수 출력\n",
    "for col in df.columns:\n",
    "    missing_rows = df.loc[ df[col].isnull() ].shape[0]    # 각 컬럼에서 NaN 값이 얼마나 존재하는지 개수를 출력\n",
    "    print(f'{col} : {str(missing_rows)}')"
   ]
  },
  {
   "cell_type": "markdown",
   "id": "0a0d819c",
   "metadata": {},
   "source": [
    "#### 2.5 데이터 표준화\n",
    "- 데이터 표준화는 범위가 다른 각 컬럼의 수치 데이터들을 평균이 0, 분산이 1이 되도록 변환하는 과정\n",
    "- 사이킷런의 preprocessing 클래스 이용"
   ]
  },
  {
   "cell_type": "code",
   "execution_count": null,
   "id": "b0168e56",
   "metadata": {
    "scrolled": true
   },
   "outputs": [],
   "source": [
    "# 사이킷런 설치하기\n",
    "!pip install scikit-learn"
   ]
  },
  {
   "cell_type": "code",
   "execution_count": null,
   "id": "44ed5e60",
   "metadata": {},
   "outputs": [],
   "source": [
    "# 데이터 표준화\n",
    "from sklearn import preprocessing\n",
    "\n",
    "df_scaled = preprocessing.scale(df)\n",
    "df_scaled = pd.DataFrame(df_scaled, columns=df.columns)\n",
    "\n",
    "\n",
    "# Target변수\n",
    "df_scaled['Outcome'] = df['Outcome'] \n",
    "df = df_scaled\n",
    "\n",
    "\n",
    "# 표준화된 결과 확인\n",
    "df.describe().loc[['mean', 'std','max']].round(2).abs()"
   ]
  },
  {
   "cell_type": "markdown",
   "id": "8bc22c73",
   "metadata": {},
   "source": [
    "#### 2.6 데이터셋 분할\n",
    "- 데이터를 훈련 데이터와 테스트 데이터로 분할한다."
   ]
  },
  {
   "cell_type": "code",
   "execution_count": null,
   "id": "8eff15cd",
   "metadata": {},
   "outputs": [],
   "source": [
    "from sklearn.model_selection import train_test_split\n",
    "\n",
    "X = df.loc[:, df.columns != 'Outcome']    # 레이블을 제외한 나머지\n",
    "Y = df.loc[:, 'Outcome']                  # 레이블\n",
    "\n",
    "# 데이터셋 분할: 훈련 데이터(80%), 테스트 데이터(20%)\n",
    "x_train, x_test, y_train, y_test = train_test_split(X, Y, test_size=0.2)\n",
    "\n",
    "print(f'x_train, x_test : {x_train.shape, x_test.shape}')"
   ]
  },
  {
   "cell_type": "markdown",
   "id": "87c9f845",
   "metadata": {},
   "source": [
    "-------"
   ]
  },
  {
   "cell_type": "markdown",
   "id": "00b2494d",
   "metadata": {},
   "source": [
    "끝"
   ]
  }
 ],
 "metadata": {
  "kernelspec": {
   "display_name": "Python 3 (ipykernel)",
   "language": "python",
   "name": "python3"
  },
  "language_info": {
   "codemirror_mode": {
    "name": "ipython",
    "version": 3
   },
   "file_extension": ".py",
   "mimetype": "text/x-python",
   "name": "python",
   "nbconvert_exporter": "python",
   "pygments_lexer": "ipython3",
   "version": "3.8.17"
  }
 },
 "nbformat": 4,
 "nbformat_minor": 5
}
