{
 "cells": [
  {
   "cell_type": "markdown",
   "id": "6c983c03",
   "metadata": {},
   "source": [
    "# Chapter04 Pandas\n",
    "데이터 과학을 위한 파이썬 머신러닝"
   ]
  },
  {
   "cell_type": "markdown",
   "id": "9476178e",
   "metadata": {},
   "source": [
    "- <a href=\"#04.1판다스란\">04.1 판다스란</a>\n",
    "- <a href=\"#04.2데이터추출\">04.2 데이터 추출</a>\n",
    "- <a href=\"#04.3그룹별집계\">04.3 그룹별 집계</a>\n",
    "- <a href=\"#04.4병합과연결\">04.4 병합과 연결</a>"
   ]
  },
  {
   "cell_type": "markdown",
   "id": "330e9146",
   "metadata": {},
   "source": [
    "---------------"
   ]
  },
  {
   "cell_type": "markdown",
   "id": "07cd7ca1",
   "metadata": {},
   "source": [
    "### 라이브러리 설치"
   ]
  },
  {
   "cell_type": "code",
   "execution_count": null,
   "id": "10194609",
   "metadata": {},
   "outputs": [],
   "source": [
    "!pip install pandas"
   ]
  },
  {
   "cell_type": "code",
   "execution_count": null,
   "id": "13fe60b5",
   "metadata": {
    "scrolled": true
   },
   "outputs": [],
   "source": [
    "import pandas as pd\n",
    "print(f'pandas version : {pd.__version__}')"
   ]
  },
  {
   "cell_type": "markdown",
   "id": "455016db",
   "metadata": {},
   "source": [
    "------------------------------"
   ]
  },
  {
   "cell_type": "markdown",
   "id": "dd312d9d",
   "metadata": {},
   "source": [
    "## <a name=\"04.1판다스란\">04.1 판다스란</a>"
   ]
  },
  {
   "attachments": {},
   "cell_type": "markdown",
   "id": "eba0ff10",
   "metadata": {},
   "source": [
    "### 1. 판다스의 개념\n",
    "- https://pandas.pydata.org/\n",
    "- 파이썬의 데이터 분석 라이브러리\n",
    "- 데이터 테이블(data table)을 다루는 도구\n",
    "- 넘파이를 사용, 판다스는 넘파이를 효율적으로 사용하기 위해 인덱싱, 연산, 전처리 등 다양한 함수 제공\n",
    "- **데이터프레임(DataFrame)** : 데이터 테이블 전체 객체\n",
    "- **시리즈(Series)** : 각 열 데이터를 다루는 객체\n",
    "- 10 minutes to pandas : https://pandas.pydata.org/docs/user_guide/10min.html"
   ]
  },
  {
   "cell_type": "markdown",
   "id": "c8a48e86",
   "metadata": {},
   "source": [
    "### 2. 시리즈 객체\n",
    "- 피쳐 벡터(feature vector)와 같은 개념\n",
    "- 데이터프레임(DataFrame) 안에 포함된 열(colume)들을 지칭할 수 있음\n",
    "- list, dict, ndarray 등 다양한 데이터 타입이 시리즈 객체 형태로 변환되기도 함"
   ]
  },
  {
   "cell_type": "markdown",
   "id": "fb78336b",
   "metadata": {},
   "source": [
    "### [예제] Series 객체"
   ]
  },
  {
   "cell_type": "code",
   "execution_count": null,
   "id": "c9db6096",
   "metadata": {},
   "outputs": [],
   "source": [
    "from pandas import Series\n",
    "\n",
    "list_data = [1,2,3,4,5]\n",
    "list_name = [\"a\",\"b\",\"c\",\"d\",\"e\"]\n",
    "sample = Series(data=list_data, index=list_name)\n",
    "\n",
    "print(f'sample        :\\n{sample}')\n",
    "print(f'sample.index  : {sample.index}')\n",
    "print(f'sample.values : {sample.values}')\n",
    "print(f'sample.dtype  : {sample.dtype}')\n",
    "print(f'type(sample.values): {type(sample.values)}')"
   ]
  },
  {
   "attachments": {},
   "cell_type": "markdown",
   "id": "ed88770b",
   "metadata": {},
   "source": [
    "### Series 객체 생성\n",
    "- 판다스의 모든 객체는 인덱스 값을 기준으로 생성"
   ]
  },
  {
   "cell_type": "code",
   "execution_count": null,
   "id": "f13952a6",
   "metadata": {},
   "outputs": [],
   "source": [
    "dict_data = {\"a\":1, \"b\":2, \"c\":3, \"d\":4, \"e\":5}\n",
    "sample = Series(dict_data, dtype=np.float32, name=\"sample_data\")\n",
    "sample"
   ]
  },
  {
   "cell_type": "code",
   "execution_count": null,
   "id": "1b99e493",
   "metadata": {
    "scrolled": true
   },
   "outputs": [],
   "source": [
    "dict_data = {\"a\":1, \"b\":2, \"c\":3, \"d\":4, \"e\":5}\n",
    "indexes = [\"a\",\"b\",\"c\",\"d\",\"e\",\"f\",\"g\",\"h\"]\n",
    "sample  = Series(dict_data, index=indexes)\n",
    "sample"
   ]
  },
  {
   "cell_type": "markdown",
   "id": "53efb3ba",
   "metadata": {},
   "source": [
    "------------------"
   ]
  },
  {
   "cell_type": "markdown",
   "id": "9969a1c0",
   "metadata": {},
   "source": [
    "### 3. 데이터프레임 객체\n",
    "- 데이터 테이블 전체를 지칭하는 객체\n",
    "- 넘파이 배열의 특성을 그대로 가짐\n",
    "- 인덱싱 : 열과 행 각각 사용하여 하나의 데이터에 접근"
   ]
  },
  {
   "cell_type": "markdown",
   "id": "13e63980",
   "metadata": {},
   "source": [
    "### [예제] Pandas로 다양한 파일 읽어오기"
   ]
  },
  {
   "cell_type": "markdown",
   "id": "434b662f",
   "metadata": {
    "id": "434b662f"
   },
   "source": [
    "#### 1.txt 데이터 Pandas DataFrame으로 나타내기"
   ]
  },
  {
   "cell_type": "code",
   "execution_count": null,
   "id": "46c555bd",
   "metadata": {
    "colab": {
     "base_uri": "https://localhost:8080/",
     "height": 175
    },
    "executionInfo": {
     "elapsed": 326,
     "status": "ok",
     "timestamp": 1690630176553,
     "user": {
      "displayName": "조윤실",
      "userId": "08210666431620526411"
     },
     "user_tz": -540
    },
    "id": "46c555bd",
    "outputId": "a00ac4a9-d72a-41bc-a0b3-2d8ca971813c"
   },
   "outputs": [],
   "source": [
    "DIR = './data/' \n",
    "# df = pd.read_table(f'{DIR}book.txt')\n",
    "df = pd.read_table(f'{DIR}book.txt', sep=',',\n",
    "                    names = ['제목','영어제목','저자','국적','출판년도'])\n",
    "df"
   ]
  },
  {
   "cell_type": "markdown",
   "id": "c96e8007",
   "metadata": {
    "id": "c96e8007"
   },
   "source": [
    "#### 2.csv 데이터 Pandas DataFrame으로 나타내기"
   ]
  },
  {
   "cell_type": "code",
   "execution_count": null,
   "id": "767c72d3",
   "metadata": {
    "id": "767c72d3",
    "outputId": "a9f42c19-3aae-4d6b-ae50-73546e03a063"
   },
   "outputs": [],
   "source": [
    "df = pd.read_csv(f'{DIR}인구밀도.csv', encoding='cp949')\n",
    "df.head(3)"
   ]
  },
  {
   "cell_type": "markdown",
   "id": "t0wTzAduO6hk",
   "metadata": {
    "id": "t0wTzAduO6hk"
   },
   "source": [
    "#### 3.Excel 시트 Pandas DataFrame으로 나타내기"
   ]
  },
  {
   "cell_type": "code",
   "execution_count": null,
   "id": "a3c7dcb7",
   "metadata": {},
   "outputs": [],
   "source": [
    "!pip install openpyxl"
   ]
  },
  {
   "cell_type": "markdown",
   "id": "nDna7CDnSoPY",
   "metadata": {
    "id": "nDna7CDnSoPY"
   },
   "source": [
    "##### 1.전체 시트(sheet) 가져오기"
   ]
  },
  {
   "cell_type": "code",
   "execution_count": null,
   "id": "6R4Agf3uO32N",
   "metadata": {
    "colab": {
     "base_uri": "https://localhost:8080/"
    },
    "executionInfo": {
     "elapsed": 298,
     "status": "ok",
     "timestamp": 1690628603245,
     "user": {
      "displayName": "조윤실",
      "userId": "08210666431620526411"
     },
     "user_tz": -540
    },
    "id": "6R4Agf3uO32N",
    "outputId": "0b99c490-9092-48c7-dbfe-17a18dd1cbf6"
   },
   "outputs": [],
   "source": [
    "import pandas as pd\n",
    "\n",
    "# 전체 시트 가져오기\n",
    "df = pd.read_excel(f'{DIR}인구밀도_인구주택총조사기준.xlsx', sheet_name=None)  # 전체시트\n",
    "\n",
    "df                 # 시트가 여러개 일 경우 딕셔너리 형태로 나타난다.\n",
    "df['전체'].head(3) # 특정 시트를 지정할 경우 DataFrame 구조로 나타낸다."
   ]
  },
  {
   "cell_type": "markdown",
   "id": "foTGCoMTTSEx",
   "metadata": {
    "id": "foTGCoMTTSEx"
   },
   "source": [
    "##### 2.특정 시트(sheet) 가져오기"
   ]
  },
  {
   "cell_type": "code",
   "execution_count": null,
   "id": "a81OQvEeTSvp",
   "metadata": {
    "id": "a81OQvEeTSvp"
   },
   "outputs": [],
   "source": [
    "# 특정 시트 가져오기\n",
    "df = pd.read_excel(f'{DIR}인구밀도_인구주택총조사기준.xlsx', sheet_name=\"2021\")\n",
    "\n",
    "df.head(3)  # 시트가 한개 일 경우 DataFrame 구조로 나타낸다."
   ]
  },
  {
   "cell_type": "markdown",
   "id": "2LfA2DJXTTPW",
   "metadata": {
    "id": "2LfA2DJXTTPW"
   },
   "source": [
    "##### 3.여러 시트(sheet) 가져오기"
   ]
  },
  {
   "cell_type": "code",
   "execution_count": null,
   "id": "ulUDC-jtTThG",
   "metadata": {
    "id": "ulUDC-jtTThG"
   },
   "outputs": [],
   "source": [
    "# 여러 시트 가져오기: 시트 이름으로 가져오기\n",
    "df = pd.read_excel(f'{DIR}인구밀도_인구주택총조사기준.xlsx',\n",
    "                   sheet_name=[\"2021\", \"2022\"])\n",
    "\n",
    "df         # 시트가 여러개 일 경우 딕셔너리 형태로 나타난다.\n",
    "df['2022'].head(3) # 특정 시트를 지정할 경우 DataFrame 구조로 나타낸다."
   ]
  },
  {
   "cell_type": "code",
   "execution_count": null,
   "id": "WpFPWWAcWRb7",
   "metadata": {
    "id": "WpFPWWAcWRb7"
   },
   "outputs": [],
   "source": [
    "# 여러 시트 가져오기: 시트 번호로 가져오기 (0번부터 시작)\n",
    "df = pd.read_excel(f'{DIR}인구밀도_인구주택총조사기준.xlsx',sheet_name=[1, \"2022\"])  #\n",
    "\n",
    "df         # 시트가 여러개 일 경우 딕셔너리 형태로 나타난다.\n",
    "df[1].head(3) # 특정 시트를 지정할 경우 DataFrame 구조로 나타낸다."
   ]
  },
  {
   "cell_type": "markdown",
   "id": "432937e7",
   "metadata": {
    "id": "432937e7"
   },
   "source": [
    "#### 4.Remote URL의 CSV 데이터 Pandas DataFrame으로 나타내기"
   ]
  },
  {
   "cell_type": "code",
   "execution_count": null,
   "id": "2065b3dd",
   "metadata": {
    "id": "2065b3dd",
    "outputId": "8b081ae4-948c-43c8-ae29-019ee0cecc5b",
    "scrolled": false
   },
   "outputs": [],
   "source": [
    "url = 'https://archive.ics.uci.edu/ml/machine-learning-databases/iris/iris.data'\n",
    "# url = 'https://archive.ics.uci.edu/ml/machine-learning-databases/wine/wine.data'\n",
    "df = pd.read_csv(url, header=None) # 첫번째 행 컬럼으로 인식 안하도록\n",
    "df.head()"
   ]
  },
  {
   "cell_type": "markdown",
   "id": "3f80fd08",
   "metadata": {},
   "source": [
    "### 1. 데이터프레임 생성\n",
    "- 2차원 리스트 타입으로 만들기\n",
    "- 딕셔너리 타입으로 만들기 :  키(key)는 열 이름, 값(value)은 시퀀스형 데이터 타입을 넣어 각 열의 데이터로 만듦\n"
   ]
  },
  {
   "cell_type": "code",
   "execution_count": null,
   "id": "22d193d6",
   "metadata": {},
   "outputs": [],
   "source": [
    "# 2차원 리스트 타입으로 DataFrame 만들기\n",
    "raw_data = [['Jason','Miller', 42, 'San Francisco'],\n",
    "            ['Molly', 'Jacobson', 52, 'Baltimore'], \n",
    "            ['Tina', 'Ali', 36, 'Miami'], \n",
    "            ['Jake', 'Milner', 24, 'Douglas'],\n",
    "            ['Amy', 'Cooze', 73, 'Boston']]\n",
    "\n",
    "df = pd.DataFrame(raw_data, columns = ['first_name', 'last_name', 'age', 'city'])\n",
    "df"
   ]
  },
  {
   "cell_type": "code",
   "execution_count": null,
   "id": "e79fa185",
   "metadata": {},
   "outputs": [],
   "source": [
    "# 딕셔너리 타입으로 DataFrame 만들기\n",
    "raw_data = {'first_name': ['Jason', 'Molly', 'Tina', 'Jake', 'Amy'],\n",
    "            'last_name': ['Miller', 'Jacobson', 'Ali', 'Milner', 'Cooze'], \n",
    "            'age': [42, 52, 36, 24, 73], \n",
    "            'city': ['San Francisco', 'Baltimore', 'Miami', 'Douglas', 'Boston']}\n",
    "\n",
    "# df = pd.DataFrame(raw_data, columns = ['first_name', 'last_name', 'age', 'city'])\n",
    "df = pd.DataFrame(raw_data)\n",
    "df\n"
   ]
  },
  {
   "cell_type": "markdown",
   "id": "b6987056",
   "metadata": {},
   "source": [
    "### 2. 데이터프레임의 열 다루기"
   ]
  },
  {
   "cell_type": "code",
   "execution_count": null,
   "id": "28a91fc2",
   "metadata": {},
   "outputs": [],
   "source": [
    "# 데이터 생성시, 딕셔너리 데이터에서 열(Key) 이름을 한정하면 해당 열만 추출\n",
    "pd.DataFrame(raw_data, columns = [\"age\", \"city\"])"
   ]
  },
  {
   "cell_type": "code",
   "execution_count": null,
   "id": "645c82d0",
   "metadata": {},
   "outputs": [],
   "source": [
    "# 데이터가 존재하지 않는 열을 추가하면 해당 열에는 NaN 값들 추가\n",
    "pd.DataFrame(raw_data, columns = [\"first_name\",\"last_name\",\"age\", \"city\", \"debt\"])"
   ]
  },
  {
   "cell_type": "code",
   "execution_count": null,
   "id": "ce3f96d4",
   "metadata": {},
   "outputs": [],
   "source": [
    "from sklearn.datasets import load_iris  \n",
    "\n",
    "iris = load_iris()\n",
    "\n",
    "iris"
   ]
  },
  {
   "cell_type": "markdown",
   "id": "a326a44e",
   "metadata": {},
   "source": [
    "-----------------"
   ]
  },
  {
   "cell_type": "markdown",
   "id": "7c78c97e",
   "metadata": {},
   "source": [
    "## <a name=\"04.2데이터추출\">04.2 데이터 추출</a>"
   ]
  },
  {
   "cell_type": "markdown",
   "id": "1867211e",
   "metadata": {},
   "source": [
    "### 1. 데이터 로딩"
   ]
  },
  {
   "cell_type": "code",
   "execution_count": null,
   "id": "244eb5a6",
   "metadata": {},
   "outputs": [],
   "source": [
    "df = pd.read_excel(f'{DIR}excel-comp-data.xlsx')\n",
    "df"
   ]
  },
  {
   "attachments": {},
   "cell_type": "markdown",
   "id": "196a3b11",
   "metadata": {},
   "source": [
    "### 2. 열 이름을 사용한 데이터 추출"
   ]
  },
  {
   "cell_type": "code",
   "execution_count": null,
   "id": "b28d63fd",
   "metadata": {},
   "outputs": [],
   "source": [
    "# head, tail\n",
    "df.head(3)    # 처음 n개 행\n",
    "# df.tail(3)    # 마지막 n개 행 호출\n",
    "# df.head(-3)    # 끝에서 n개 제외하고 반환"
   ]
  },
  {
   "cell_type": "code",
   "execution_count": null,
   "id": "2cfd5799",
   "metadata": {},
   "outputs": [],
   "source": [
    "# 열 이름을 리스트 형태로 넣어 호출\n",
    "df[[\"account\", \"street\", \"state\"]].head(3)"
   ]
  },
  {
   "attachments": {},
   "cell_type": "markdown",
   "id": "eab5476e",
   "metadata": {},
   "source": [
    "### 3. 행 번호를 사용한 데이터 추출"
   ]
  },
  {
   "cell_type": "code",
   "execution_count": null,
   "id": "713ea2a8",
   "metadata": {
    "scrolled": false
   },
   "outputs": [],
   "source": [
    "# 인덱스 번호로 호출\n",
    "df[:3]"
   ]
  },
  {
   "cell_type": "markdown",
   "id": "41fdf695",
   "metadata": {},
   "source": [
    "### 4. 행과 열을 모두 사용한 데이터 추출"
   ]
  },
  {
   "cell_type": "code",
   "execution_count": null,
   "id": "bc00a52b",
   "metadata": {},
   "outputs": [],
   "source": [
    "# 열 이름, 인덱스 번호 둘 다 사용해서 호출\n",
    "df[[\"name\",\"street\"]][:2]"
   ]
  },
  {
   "cell_type": "code",
   "execution_count": null,
   "id": "e2dc92f5",
   "metadata": {},
   "outputs": [],
   "source": [
    "# 인덱스 변경하기\n",
    "df.index = df[\"account\"]    # 인덱스 변경\n",
    "del df[\"account\"]           # account 컬럼 삭제\n",
    "df.head()"
   ]
  },
  {
   "cell_type": "code",
   "execution_count": null,
   "id": "f9cbd8d4",
   "metadata": {
    "scrolled": true
   },
   "outputs": [],
   "source": [
    "# loc 함수 : 인덱스 이름과 열 이름으로 데이터 추출\n",
    "df.loc[[211829,320563],[\"name\",\"street\"]]\n",
    "df.loc[205217:,[\"name\",\"street\"]] "
   ]
  },
  {
   "cell_type": "code",
   "execution_count": null,
   "id": "b198b2fe",
   "metadata": {},
   "outputs": [],
   "source": [
    "# iloc 함수 :  인덱스 번호로만 데이터 호출\n",
    "df.iloc[:10, :3]"
   ]
  },
  {
   "attachments": {},
   "cell_type": "markdown",
   "id": "8aa154e9",
   "metadata": {},
   "source": [
    "### 5.새로운 인덱스 할당"
   ]
  },
  {
   "cell_type": "code",
   "execution_count": null,
   "id": "fa4d0a0b",
   "metadata": {},
   "outputs": [],
   "source": [
    "# reset_index 함수로 새로운 인덱스 할당된 객체 생성\n",
    "df_new = df.reset_index()\n",
    "df_new"
   ]
  },
  {
   "cell_type": "markdown",
   "id": "64a58f95",
   "metadata": {},
   "source": [
    "### 6. drop 함수"
   ]
  },
  {
   "cell_type": "code",
   "execution_count": null,
   "id": "69b045ff",
   "metadata": {},
   "outputs": [],
   "source": [
    "# drop 함수 : 특정 열이나 행을 삭제한 객체를 반환\n",
    "df_new.drop(1).head()   # 인덱스 1번 컬럼 삭제 --> 삭제가 안된다."
   ]
  },
  {
   "cell_type": "code",
   "execution_count": null,
   "id": "5a6a2589",
   "metadata": {
    "scrolled": true
   },
   "outputs": [],
   "source": [
    "# 실제로 삭제하려면\n",
    "df_drop = df_new.drop(1)        # 삭제하고 결과를 저장한 후 사용\n",
    "df_new.drop(1, inplace=True)    # 삭제하고 바로 적용: (inplace=True 옵션이 있어야 한다.)\n",
    "df_new.drop(\"account\", axis=1)           # account 열 제거\n",
    "df_new.drop([\"account\", \"name\"], axis=1) # account, name 열 제거"
   ]
  },
  {
   "cell_type": "markdown",
   "id": "285880b7",
   "metadata": {},
   "source": [
    "------------------------"
   ]
  },
  {
   "cell_type": "markdown",
   "id": "89e3c211",
   "metadata": {},
   "source": [
    "## <a name=\"04.3그룹별집계\">04.3 그룹별 집계</a>"
   ]
  },
  {
   "attachments": {},
   "cell_type": "markdown",
   "id": "4d530aba",
   "metadata": {},
   "source": [
    "### 1. 그룹별 집계의 개념\n",
    "- 그룹별 집계(groupby) : 데이터로부터 동일한 객체를 가진 데이터만 따로 뽑아 기술통계 데이터를 추출\n",
    "- 엑셀의 피봇테이블(pivot table) 기능과 비슷\n",
    "- groupby 명령어는 분할→적용→결합 과정을 거침\n",
    " - - 분할(split) : 같은 종류의 데이터끼리 나누는 기능 <br> \n",
    " - - 적용(apply) : 데이터 블록마다 sum, count, mean 등 연산 적용 \n",
    " - - 결합(combine) : 연산 함수가 적용된 각 블록들을 합침"
   ]
  },
  {
   "cell_type": "markdown",
   "id": "730af36b",
   "metadata": {},
   "source": [
    "### 2. 그룹별 집계 사용하기"
   ]
  },
  {
   "cell_type": "code",
   "execution_count": null,
   "id": "b56b196e",
   "metadata": {},
   "outputs": [],
   "source": [
    "# 그룹별 집계의 기본형\n",
    "ipl_data = {'Team': ['Riders', 'Riders', 'Devils', 'Devils', 'Kings','kings', 'Kings', 'Kings', 'Riders', 'Royals', 'Royals', 'Riders'],\n",
    "            'Rank': [1, 2, 2, 3, 3,4 ,1 ,1,2 , 4,1,2],\n",
    "            'Year': [2014, 2015, 2014, 2015, 2014, 2015, 2016, 2017, 2016, 2014, 2015, 2017],\n",
    "            'Points': [876,789,863,673,741,812,756,788,694,701,804,690]}\n",
    "\n",
    "df = pd.DataFrame(ipl_data)\n",
    "df"
   ]
  },
  {
   "cell_type": "code",
   "execution_count": null,
   "id": "2068702a",
   "metadata": {},
   "outputs": [],
   "source": [
    "# 그룹별 집계의 기본형\n",
    "df.groupby(\"Team\")[\"Points\"].sum()   # Team별 그룹하여 Points의 합계 구하기"
   ]
  },
  {
   "cell_type": "code",
   "execution_count": null,
   "id": "2e387b47",
   "metadata": {},
   "outputs": [],
   "source": [
    "# 멀티 인덱스 그룹별 집계\n",
    "# - 한 개 이상의 열을 기준으로 그룹별 집계를 실행\n",
    "df.groupby([\"Team\", \"Year\"])[\"Points\"].sum()"
   ]
  },
  {
   "cell_type": "code",
   "execution_count": null,
   "id": "0c510798",
   "metadata": {},
   "outputs": [],
   "source": [
    "# 멀티 인덱스\n",
    "# - 한 개 이상의 열로 그룹별 집계 수행하면 여러 열이 모두 인덱스로 반환됨\n",
    "multi_groupby = df.groupby([\"Team\", \"Year\"])[\"Points\"].sum()\n",
    "multi_groupby.index"
   ]
  },
  {
   "cell_type": "code",
   "execution_count": null,
   "id": "41715cf2",
   "metadata": {},
   "outputs": [],
   "source": [
    "multi_groupby[\"Devils\":\"Kings\"]"
   ]
  },
  {
   "cell_type": "code",
   "execution_count": null,
   "id": "91d09abd",
   "metadata": {},
   "outputs": [],
   "source": [
    "multi_groupby.unstack()"
   ]
  },
  {
   "cell_type": "code",
   "execution_count": null,
   "id": "657598b0",
   "metadata": {
    "scrolled": true
   },
   "outputs": [],
   "source": [
    "# - swaplevel 함수로 인덱스 간 레벨을 변경\n",
    "# - sort_index 함수로 첫 번째 인덱스를 기준으로 데이터 재정렬\n",
    "multi_groupby.swaplevel().sort_index()\n",
    "# multi_groupby.unstack().T"
   ]
  },
  {
   "cell_type": "code",
   "execution_count": null,
   "id": "ea07c7c3",
   "metadata": {},
   "outputs": [],
   "source": [
    "multi_groupby.sum(level=0)\n",
    "multi_groupby.sum(level=1)"
   ]
  },
  {
   "attachments": {},
   "cell_type": "markdown",
   "id": "de2c90ef",
   "metadata": {},
   "source": [
    "### 3. 그룹화된 상태\n",
    "- 그룹화된(grouped) 상태 : 분할→적용→결합 중에서 분할까지만 이루어진 상태\n",
    "- get_group 함수 : 해당 키 값을 기준으로 분할된 데이터프레임 객체를 확인"
   ]
  },
  {
   "cell_type": "code",
   "execution_count": null,
   "id": "92bfa2fd",
   "metadata": {},
   "outputs": [],
   "source": [
    "grouped = df.groupby(\"Team\")\n",
    "grouped.get_group(\"Riders\")"
   ]
  },
  {
   "cell_type": "markdown",
   "id": "166d7ac4",
   "metadata": {},
   "source": [
    "- **집계(aggregation)** : 요약된 통계 정보를 추출"
   ]
  },
  {
   "cell_type": "code",
   "execution_count": null,
   "id": "ef99240b",
   "metadata": {
    "scrolled": true
   },
   "outputs": [],
   "source": [
    "# 집계(aggregation) : 요약된 통계 정보를 추출\n",
    "grouped.agg(min)\n",
    "grouped.agg(np.mean)"
   ]
  },
  {
   "cell_type": "markdown",
   "id": "396e32e6",
   "metadata": {},
   "source": [
    "- **변환(transformation)** : 해당 정보를 변환, 키 값별로 요약된 정보가 아닌 개별 데이터 변환 지원"
   ]
  },
  {
   "cell_type": "code",
   "execution_count": null,
   "id": "1ce3beaf",
   "metadata": {
    "scrolled": true
   },
   "outputs": [],
   "source": [
    "# 변환\n",
    "grouped.transform(max)\n",
    "\n",
    "# z점수: 표준편차상에 어떤 위치를 차지하는지를 보여주는 차원없는 수치\n",
    "score = lambda x: (x - x.mean()) / x.std()\n",
    "grouped.transform(score)"
   ]
  },
  {
   "cell_type": "code",
   "execution_count": null,
   "id": "e7b37ab9",
   "metadata": {},
   "outputs": [],
   "source": [
    "df"
   ]
  },
  {
   "attachments": {},
   "cell_type": "markdown",
   "id": "fb1aa00e",
   "metadata": {},
   "source": [
    "- **필터(filter)** : 특정 조건으로 데이터를 검색"
   ]
  },
  {
   "cell_type": "code",
   "execution_count": null,
   "id": "51714a27",
   "metadata": {},
   "outputs": [],
   "source": [
    "# 필터\n",
    "df.groupby('Team').filter(lambda x: len(x) >= 3)             # Team별 레코드 개수 3개 이상인 Team\n",
    "df.groupby('Team').filter(lambda x: x[\"Points\"].max() > 800) # Team별 Points의 최고값이 800이상인 Team"
   ]
  },
  {
   "cell_type": "markdown",
   "id": "b6197470",
   "metadata": {},
   "source": [
    "-----------------"
   ]
  },
  {
   "cell_type": "markdown",
   "id": "1719e385",
   "metadata": {},
   "source": [
    "## <a name=\"04.4병합과연결\">04.4 병합과 연결</a>"
   ]
  },
  {
   "attachments": {},
   "cell_type": "markdown",
   "id": "b3f465c3",
   "metadata": {},
   "source": [
    "### 1. 병합\n",
    "병합(merge) : 두 개의 데이터를 특정 기준한 기준을 가지고 하나로 통합하는 작업"
   ]
  },
  {
   "cell_type": "code",
   "execution_count": null,
   "id": "49b08067",
   "metadata": {},
   "outputs": [],
   "source": [
    "raw_data = {'subject_id': ['1', '2', '3', '4', '5', '7', '8', '9', '10', '11'],\n",
    "            'test_score': [51, 15, 15, 61, 16, 14, 15, 1, 61, 16]}\n",
    "\n",
    "df_left = pd.DataFrame(raw_data, columns = ['subject_id', 'test_score'])\n",
    "df_left"
   ]
  },
  {
   "cell_type": "code",
   "execution_count": null,
   "id": "70284dbf",
   "metadata": {},
   "outputs": [],
   "source": [
    "raw_data = {'subject_id': ['4', '5', '6', '7', '8'],\n",
    "            'first_name': ['Billy', 'Brian', 'Bran', 'Bryce', 'Betty'],\n",
    "            'last_name': ['Bonder', 'Black', 'Balwner', 'Brice', 'Btisan']}\n",
    "\n",
    "df_right = pd.DataFrame(raw_data, columns = ['subject_id', 'first_name', 'last_name'])\n",
    "df_right"
   ]
  },
  {
   "cell_type": "code",
   "execution_count": null,
   "id": "4b3f17b1",
   "metadata": {
    "scrolled": true
   },
   "outputs": [],
   "source": [
    "# 내부 조인: 양쪽의 교집합 데이터를 통합\n",
    "pd.merge(left=df_left, right=df_right, on='subject_id', how=\"inner\")"
   ]
  },
  {
   "cell_type": "code",
   "execution_count": null,
   "id": "1c0682ce",
   "metadata": {},
   "outputs": [],
   "source": [
    "# 왼쪽 조인, 오른쪽 조인\n",
    "pd.merge(df_left, df_right, on='subject_id', how='left')\n",
    "pd.merge(df_left, df_right, on='subject_id', how='right')"
   ]
  },
  {
   "cell_type": "code",
   "execution_count": null,
   "id": "9ba704b4",
   "metadata": {},
   "outputs": [],
   "source": [
    "# 완전 조인\n",
    "pd.merge(df_left, df_right, on='subject_id', how='outer')"
   ]
  },
  {
   "attachments": {},
   "cell_type": "markdown",
   "id": "608cca3b",
   "metadata": {},
   "source": [
    "### 2. 연결(concatenate)"
   ]
  },
  {
   "cell_type": "code",
   "execution_count": null,
   "id": "b23a48fc",
   "metadata": {},
   "outputs": [],
   "source": [
    "# 디렉토리에서 파일명이 sales 가 포함된 파일명 가져오기\n",
    "import os\n",
    "filenames = [os.path.join(DIR, filename)\n",
    "           for filename in os.listdir(DIR) if \"sales\" in filename]\n",
    "print(filenames)\n",
    "\n",
    "\n",
    "# 파일 Pandas DataFrame으로 읽어오기\n",
    "df_list = [pd.read_excel(filename, engine=\"openpyxl\") for filename in filenames]\n",
    "\n",
    "for filename, df in zip(filenames, df_list):\n",
    "    print(filename, type(df), len(df))\n",
    "    \n",
    "\n",
    "# 파일 병합하기\n",
    "df = pd.concat(df_list, axis=0)\n",
    "print(f'Total count : {len(df)}') # 384\n",
    "df.reset_index(drop=True)\n"
   ]
  },
  {
   "cell_type": "code",
   "execution_count": null,
   "id": "0d3d4797",
   "metadata": {},
   "outputs": [],
   "source": [
    "df_1, df_2, df_3 = [pd.read_excel(filename, engine=\"openpyxl\") for filename in filenames]\n",
    "df = df_1.append(df_2)\n",
    "df = df.append(df_3)\n",
    "df"
   ]
  },
  {
   "cell_type": "markdown",
   "id": "70d0ed11",
   "metadata": {},
   "source": [
    "--------------"
   ]
  }
 ],
 "metadata": {
  "kernelspec": {
   "display_name": "Python 3 (ipykernel)",
   "language": "python",
   "name": "python3"
  },
  "language_info": {
   "codemirror_mode": {
    "name": "ipython",
    "version": 3
   },
   "file_extension": ".py",
   "mimetype": "text/x-python",
   "name": "python",
   "nbconvert_exporter": "python",
   "pygments_lexer": "ipython3",
   "version": "3.10.9"
  }
 },
 "nbformat": 4,
 "nbformat_minor": 5
}
