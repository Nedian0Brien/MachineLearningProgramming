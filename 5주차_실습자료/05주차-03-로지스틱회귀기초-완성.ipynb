{
 "cells": [
  {
   "cell_type": "markdown",
   "id": "0402635a",
   "metadata": {},
   "source": [
    "# Chapter09 Logistic Regression\n",
    "데이터 과학을 위한 파이썬 머신러닝"
   ]
  },
  {
   "cell_type": "markdown",
   "id": "aba25279",
   "metadata": {},
   "source": [
    "- <a href=\"#09.1로지스틱회귀란\">09.1 로지스틱 회귀란</a>\n",
    "- <a href=\"#09.2분류문제의성능지표\">09.2 분류 문제의 성능지표</a>\n",
    "- <a href=\"#09.3로지스틱회귀구현하기\">09.3 로지스틱 회귀 구현하기</a>"
   ]
  },
  {
   "cell_type": "markdown",
   "id": "284676b5",
   "metadata": {},
   "source": [
    "[참고] TeX 기호: https://ko.wikipedia.org/wiki/%EC%9C%84%ED%82%A4%EB%B0%B1%EA%B3%BC:TeX_%EB%AC%B8%EB%B2%95"
   ]
  },
  {
   "cell_type": "markdown",
   "id": "e08bd77c",
   "metadata": {},
   "source": [
    "------------------"
   ]
  },
  {
   "cell_type": "markdown",
   "id": "c928bb54",
   "metadata": {},
   "source": [
    "## <a name=\"09.1로지스틱회귀란\">09.1 로지스틱 회귀란</a>"
   ]
  },
  {
   "cell_type": "markdown",
   "id": "92254add",
   "metadata": {},
   "source": [
    "### 1. 로지스틱 회귀의 개념 \n",
    "- **이진 분류(binary classification) 문제를 확률로 표현**\n",
    "- 어떤 사건이 일어날 확률을 P(X)로 나타내고 일어나지 않을 확률을 1 - P(x)로 나타냄 $(0 ≤ P(X) ≤ 1)$\n",
    "- **오즈비(odds ratio: 승산비)** : 어떤 사건이 일어날 확률과 일어나지 않을 확률의 비율<br>\n",
    "${P(X) \\over 1-P(X)}$ <br>\n",
    "- **로짓(logit) 함수** : 오즈비에 상용로그를 붙인 수식<br>\n",
    "$logit(P) = ln({P(X) \\over 1-P(X)})$ =  $\\log_{e}({P(X) \\over 1-P(X)}) = -log_{e}({1 \\over p} -1)$ <br> $f(z) = y = -log_{e}({1 \\over z} -1) = {1 \\over 1 + e^{-z}}$ <br>\n",
    "- **로지스틱 함수(logistic function)** : 로짓 함수의 역함수<br>\n",
    "그래프가 S자 커브 형태인 **시그모이드 함수**(sigmoid function)<br>\n",
    "- **로지스틱 회귀(Logistic Regression)** : 종속변수가 이분형일 때 수행할 수 있는, 예측 분석을 위한 회귀분석 기법 <br>\n",
    "$\\log_{e}({P \\over 1-P}) = z = w_{0}x_{0}+w_{1}x_{1}+...+w_{n}x_{n}$"
   ]
  },
  {
   "cell_type": "code",
   "execution_count": null,
   "id": "b5f74df5",
   "metadata": {},
   "outputs": [],
   "source": []
  },
  {
   "cell_type": "markdown",
   "id": "0a0c6a1f",
   "metadata": {},
   "source": [
    "### 2. 로지스틱 회귀의 기본 함수"
   ]
  },
  {
   "cell_type": "markdown",
   "id": "b9770660",
   "metadata": {},
   "source": [
    "#### 2.1 가설함수(hypothesis function)\n",
    "- $h_{0}(x) = g(z) = {1 \\over 1 + e^{-z}}$  --> **시그모이드 함수식**<br> \n",
    "- z는 가중치 값과 피쳐 값의 선형 결합\n",
    "- 가중치 값을 찾는 학습을 위해 경사하강법 알고리즘 사용<br>\n",
    "$z = w_{0}x_{0}+w_{1}x_{1}+...+w_{n}x_{n}=\\theta^{T}X$ = $w^T{x} $  --> **선형 판별식**"
   ]
  },
  {
   "cell_type": "markdown",
   "id": "546046dd",
   "metadata": {},
   "source": [
    "#### 2.2 비용함수\n",
    "- 먼저 비용함수를 정의하고 예측값과 실제값 간의 차이를 최소화하는 방향으로 학습\n",
    "- 실제값이 1일 때와 실제값이 0일 때 각각 다르게 비용함수를 정의<br>\n",
    "$Cost(h_{0}(x), y) = -log(h_{0}(x))$   &nbsp;&nbsp;$if$  $y=1 $, <br> \n",
    "&nbsp;&nbsp;&nbsp;&emsp;&emsp;&emsp;&emsp;&emsp;&emsp;&nbsp;&nbsp;&nbsp;= $-log(1-h_{0}(x))$  $if$  $y=0$ <br>\n",
    "- 두 경우의 비용함수를 하나로 통합<br>\n",
    "$J(\\theta) = {1 \\over m}\\sum_{i=1}^m Cost(h_{0}(x^{i}), y^{i})$ <br>\n",
    "&nbsp;&nbsp;&nbsp;&nbsp;= $-{1 \\over m}\\sum_{i=1}^m [y^{i}logh_{0}(x^{i}) + (1-y^{i})log(1-h_{0}(x^{i}))] $"
   ]
  },
  {
   "cell_type": "markdown",
   "id": "825ebd63",
   "metadata": {},
   "source": [
    "#### 2.3 비용함수의 미분과 가중치 업데이트\n",
    "- θ의 최적값을 구하기 위해 J값을 θ에 대해 미분(θ는 z값 안에 있는,$w_j$의 집합)<br>\n",
    "$\\partial \\over \\partial \\theta_j$$J(\\theta) = {1 \\over m}\\sum_{i=1}^m (h_{0}(x^{i}) - y^{i})x_j{^i} $\n",
    "- 가중치 값을 업데이트<br>\n",
    "$\\theta_j = \\theta_j - \\alpha{\\partial \\over \\partial \\theta}J(\\theta)$ <br>\n",
    "&nbsp;&nbsp;&nbsp;$= \\theta_j - \\alpha{\\sum_{i=1}^m (h_{0}(x^{i}) - y^{i})x_j{^i}}$"
   ]
  },
  {
   "cell_type": "markdown",
   "id": "42340e90",
   "metadata": {},
   "source": [
    "---------"
   ]
  },
  {
   "cell_type": "markdown",
   "id": "23d84917",
   "metadata": {},
   "source": [
    "## <a name=\"09.2분류문제의성능지표\">09.2 분류 문제의 성능지표</a>"
   ]
  },
  {
   "cell_type": "markdown",
   "id": "a7829d52",
   "metadata": {},
   "source": [
    "### 1. 분류 문제에 있어서 성능지표의 필요성"
   ]
  },
  {
   "cell_type": "markdown",
   "id": "c532996f",
   "metadata": {},
   "source": [
    "#### 모델을 평가하는 성능지표들\n",
    "\n",
    "| 구분 |성능지표 | \n",
    "|:------|:---|\n",
    "| 회귀(regression)| MAE, MSE, RMSE, SSE| \n",
    "| 분류(classification) | 정확도, 정밀도, 민감도, F1 스코어, ROC 커브, 리프트 차트|\n",
    "| 클러스터링(clustering)|DBI, 엘보우 메서드, 실루엣계수|"
   ]
  },
  {
   "cell_type": "markdown",
   "id": "6023cf6f",
   "metadata": {},
   "source": [
    "#### 모델의 성능지표 선택 고려사항\n",
    "- 모델이 다른 모델보다 경제적으로 나은가?\n",
    "- 모델이 사용하는 데이터가 많은가? 또는 적은가?\n",
    "- 모델이 용량이 작은 컴퓨터에서도 작동하는가?\n",
    "- 모델의 손해가 얼마나 나는가?\n",
    "<br>등등"
   ]
  },
  {
   "cell_type": "markdown",
   "id": "431d20cc",
   "metadata": {},
   "source": [
    "### 2. 혼동행렬(혼돈행렬)"
   ]
  },
  {
   "cell_type": "markdown",
   "id": "2908e5ad",
   "metadata": {},
   "source": [
    "#### 혼동행렬(confusion matrix): \n",
    "예측값이 실제값 대비 얼마나 잘 맞는지 2×2 행렬로 표현\n",
    "- 일반적으로 질문의 ‘예’에 해당하는 값은 True 또는 1, \n",
    "- ‘아니오’에 해당하는 값은 False 또는 0"
   ]
  },
  {
   "cell_type": "markdown",
   "id": "2a98ddf5",
   "metadata": {},
   "source": [
    "![fig9-6.jpg](https://github.com/Joyschool/gachon-ml/blob/main/image/fig9-6.jpg?raw=true)"
   ]
  },
  {
   "cell_type": "markdown",
   "id": "56c7ba58",
   "metadata": {},
   "source": [
    "#### 실제값과 예측값의 조합으로 발생 가능한 4가지 경우\n",
    "- True Positive(TP) : 예측값과 실제값이 모두 1로 동일할 때, 즉 모델의 예측값이 정답이고 예측 대상이 1일 때\n",
    "- True Negative(TN) : 예측값과 실제값이 모두 0으로 동일할 때, 즉 모델의 예측값이 정답이고 예측 대상이 0일 때\n",
    "- False Negative(FN) : 실제값은 1이지만 예측값이 0으로, 모델의 예측값이 오답이고 예측값이 0을 예측할 때\n",
    "- False Positive(FP) : 실제값은 0이지만 예측값이 1로, 모델의 예측값이 오답이고 예측값이 1을 예측할 때\n",
    "\n",
    "#### 사이킷런으로 혼동행렬표 나타내기"
   ]
  },
  {
   "cell_type": "code",
   "execution_count": null,
   "id": "63cfdd16",
   "metadata": {},
   "outputs": [],
   "source": [
    "from sklearn.metrics import confusion_matrix\n",
    "y_true = [1, 0, 1, 1, 0, 1]    # 실제값\n",
    "y_pred = [0, 0, 1, 1, 0, 1]    # 예측값\n",
    "confusion_matrix(y_true, y_pred) "
   ]
  },
  {
   "cell_type": "code",
   "execution_count": null,
   "id": "7bbf7b25",
   "metadata": {},
   "outputs": [],
   "source": [
    "tn, fp, fn, tp = confusion_matrix(y_true, y_pred).ravel()  # flatten()\n",
    "(tn, fp, fn, tp)"
   ]
  },
  {
   "cell_type": "markdown",
   "id": "71957176",
   "metadata": {},
   "source": [
    "### 3. 혼동행렬표를 사용한 지표"
   ]
  },
  {
   "cell_type": "markdown",
   "id": "563d9253",
   "metadata": {},
   "source": [
    "#### 3.1 정확도\n",
    "- **정확도(accuracy)** : 전체 데이터 개수 대비 정답을 맞춘 데이터의 개수<br>\n",
    "<br>$Accuracy = { {TP + TN} \\over {TP+TN+FP+FN}}$\n"
   ]
  },
  {
   "cell_type": "markdown",
   "id": "4292afdd",
   "metadata": {},
   "source": [
    "![fig9-7.jpg](https://github.com/Joyschool/gachon-ml/blob/main/image/fig9-7.jpg?raw=true)"
   ]
  },
  {
   "cell_type": "markdown",
   "id": "2f11f224",
   "metadata": {},
   "source": [
    "#### 사이킷런으로 정확도 구하기"
   ]
  },
  {
   "cell_type": "code",
   "execution_count": null,
   "id": "3f899edf",
   "metadata": {},
   "outputs": [],
   "source": [
    "import numpy as np\n",
    "from sklearn.metrics import accuracy_score\n",
    "\n",
    "y_pred = np.array([0, 1, 1, 0])\n",
    "y_true = np.array([0, 1, 0, 0])\n",
    "\n",
    "sum(y_true == y_pred) / len(y_true) "
   ]
  },
  {
   "cell_type": "code",
   "execution_count": null,
   "id": "07b5ac2c",
   "metadata": {},
   "outputs": [],
   "source": [
    "accuracy_score(y_true, y_pred)"
   ]
  },
  {
   "cell_type": "markdown",
   "id": "dee4b6cd",
   "metadata": {},
   "source": [
    "#### 3.2 정밀도, 민감도, F1 스코어\n",
    "- **정밀도와 민감도는 불균일한 데이터셋을 다룰 때 유용** <br>\n",
    "데이터에서 1과 0의 비율이 7:3 또는 3:7 이상 차이나는 상태\n",
    "- **정밀도(precision)** : 모델이 1이라고 예측했을 때 얼마나 잘 맞을지에 대한 비율<br>\n",
    "<br>$PRECISION(PPV) = { TP \\over {TP + FP}}$\n",
    "    \n"
   ]
  },
  {
   "cell_type": "markdown",
   "id": "c0d02ddf",
   "metadata": {},
   "source": [
    "![fig9-8.jpg](https://github.com/Joyschool/gachon-ml/blob/main/image/fig9-8.jpg?raw=true)"
   ]
  },
  {
   "cell_type": "markdown",
   "id": "289613ff",
   "metadata": {},
   "source": [
    "- **민감도(recall)** : 실제 1인 값을 가진 데이터를 모델이 얼마나 1이라고 잘 예측했는지에 대한 비율(반환율 또는 재현율이라고도 부름)<br>\n",
    "<br>$RECALL(TPR) = { TP \\over {TP + FN}}$"
   ]
  },
  {
   "cell_type": "markdown",
   "id": "26cda363",
   "metadata": {},
   "source": [
    "- **F1 스코어(F1 score)** : 정밀도와 민감도의 조화평균 값<br>\n",
    "<br>$F_1 = 2$ x ${{precision x recall} \\over {precision + recall}}$"
   ]
  },
  {
   "cell_type": "markdown",
   "id": "1b591de0",
   "metadata": {},
   "source": [
    "#### 사이킷런으로 정밀도, 민감도, F1 스코어 구하기"
   ]
  },
  {
   "cell_type": "code",
   "execution_count": null,
   "id": "ea09c5c1",
   "metadata": {},
   "outputs": [],
   "source": [
    "import numpy as np\n",
    "from sklearn.metrics import precision_score\n",
    "from sklearn.metrics import recall_score\n",
    "from sklearn.metrics import f1_score\n",
    "\n",
    "y_pred = np.array([0, 1, 1, 0, 1, 1, 1, 0])\n",
    "y_true = np.array([0, 1, 0, 0, 0, 0, 1, 1])\n",
    "\n",
    "precision_score(y_true, y_pred) # 정밀도"
   ]
  },
  {
   "cell_type": "code",
   "execution_count": null,
   "id": "b6bb2483",
   "metadata": {},
   "outputs": [],
   "source": [
    "recall_score(y_true, y_pred)    # 민감도"
   ]
  },
  {
   "cell_type": "code",
   "execution_count": null,
   "id": "f8ebe2c4",
   "metadata": {},
   "outputs": [],
   "source": [
    "f1_score(y_true, y_pred)        # F1 스코어"
   ]
  },
  {
   "cell_type": "code",
   "execution_count": null,
   "id": "fb0e63e6",
   "metadata": {
    "scrolled": true
   },
   "outputs": [],
   "source": [
    "# 정밀도, 민감도, F1-score 한꺼번에 출력하기\n",
    "from sklearn.metrics import classification_report\n",
    "\n",
    "print(classification_report(y_true, y_pred))\n",
    "# macro average : 라벨별 산술평균한 것\n",
    "# weighted average : 라벨별 샘플 수(support)의 비중에 따라 가중평균한 것"
   ]
  },
  {
   "cell_type": "markdown",
   "id": "74b7c68c",
   "metadata": {},
   "source": [
    "------------"
   ]
  },
  {
   "cell_type": "markdown",
   "id": "32f053cb",
   "metadata": {},
   "source": [
    "## <a name=\"09.3로지스틱회귀구현하기\">09.3 로지스틱 회귀 구현하기</a>"
   ]
  },
  {
   "cell_type": "markdown",
   "id": "72a865a1",
   "metadata": {},
   "source": [
    "### 1. 로지스틱 회귀 구현을 위한 함수"
   ]
  },
  {
   "cell_type": "markdown",
   "id": "d78754a9",
   "metadata": {},
   "source": [
    "#### 1.1 시그모이드 함수\n",
    "- $h_{0}(x) = g(z) = {1 \\over 1 + e^{-z}}$ <br>"
   ]
  },
  {
   "cell_type": "code",
   "execution_count": null,
   "id": "70f4aa5f",
   "metadata": {},
   "outputs": [],
   "source": [
    "def sigmoid(z):\n",
    "    return 1 / (1 + np.exp(z))"
   ]
  },
  {
   "cell_type": "markdown",
   "id": "237d9da2",
   "metadata": {},
   "source": [
    "#### 1.2 가설함수\n",
    "시그모이드 함수의 z 값은 실제로는 가중치와 피쳐의 선형 결합이므로 피쳐 값들을 x 벡터로, 가중치 값들은 θ로 입력해줌\n",
    "- $z = w_{0}x_{0}+w_{1}x_{1}+...+w_{n}x_{n}=\\theta^{T}X$\n",
    "<br>\n",
    "- $h_{0}(x) = g(z) = {1 \\over 1 + e^{-{\\theta^{T}X}}}$ "
   ]
  },
  {
   "cell_type": "code",
   "execution_count": null,
   "id": "497e2cbd",
   "metadata": {},
   "outputs": [],
   "source": [
    "def hypothesis_function(x, theta):\n",
    "    z = (np.dot(-x,theta))  # 행렬곱\n",
    "    return sigmoid(z)"
   ]
  },
  {
   "cell_type": "markdown",
   "id": "329775cd",
   "metadata": {},
   "source": [
    "#### 1.3 비용함수"
   ]
  },
  {
   "cell_type": "markdown",
   "id": "07856ce8",
   "metadata": {},
   "source": [
    "$J(\\theta) = {1 \\over m}\\sum_{i=1}^m Cost(h_{0}(x^{i}), y^{i})$ <br>\n",
    "&nbsp;&nbsp;&nbsp;&nbsp;= $-{1 \\over m}\\sum_{i=1}^m [y^{i}logh_{0}(x^{i}) + (1-y^{i})log(1-h_{0}(x^{i}))] $"
   ]
  },
  {
   "cell_type": "code",
   "execution_count": null,
   "id": "71246a74",
   "metadata": {},
   "outputs": [],
   "source": [
    "def compute_cost(x, y, theta):\n",
    "    m = y.shape[0]\n",
    "    J = (-1.0 / m) * (\n",
    "        y.T.dot(np.log(hypothesis_function(x,theta))) + \\\n",
    "        (1-y).T.dot(np.log(1- hypothesis_function(x,theta))))\n",
    " \n",
    "    return J"
   ]
  },
  {
   "cell_type": "markdown",
   "id": "cfe20990",
   "metadata": {},
   "source": [
    "#### 1.4 경사하강법 : 가중치 업데이트"
   ]
  },
  {
   "cell_type": "markdown",
   "id": "66c564dd",
   "metadata": {},
   "source": [
    "$\\theta_j := \\theta_j - \\alpha{\\sum_{i=1}^m (h_{0}(x^{i}) - y^{i})x_j{^i}}$"
   ]
  },
  {
   "cell_type": "code",
   "execution_count": null,
   "id": "f07ce7df",
   "metadata": {},
   "outputs": [],
   "source": [
    "def minimize_gradient(x, y, theta, iterations=100000, alpha=0.01):\n",
    "    m = y.size\n",
    "    cost_history = []\n",
    "    theta_history = []\n",
    "  \n",
    "    for _ in range(iterations):\n",
    "        original_theta = theta\n",
    "        for i in range(theta.size):\n",
    "            partial_marginal = x[:, i].reshape(x.shape[0], 1)\n",
    "            delta = hypothesis_function(x, original_theta) - y\n",
    "            grad_i = delta.T.dot(partial_marginal)\n",
    "            theta[i] = theta[i] - (alpha * grad_i)  # 경사하강법\n",
    " \n",
    "        if (_ % 100) == 0:\n",
    "            theta_history.append(theta)\n",
    "            cost_history.append(compute_cost(x, y, theta))\n",
    "    return theta, np.array(cost_history),np.array(theta_history)\n"
   ]
  },
  {
   "cell_type": "markdown",
   "id": "38de7d82",
   "metadata": {},
   "source": [
    "### 2.사이킷런을 사용하여 학습하기"
   ]
  },
  {
   "cell_type": "markdown",
   "id": "97c8c392",
   "metadata": {},
   "source": [
    "#### 2.1 데이터셋 준비\n",
    "- dataset :  uva.txt 인터넷 사용자가 뉴비(newbie:초보자,풋내기)인지 아닌지 구별하는 와튼대학교 테이블"
   ]
  },
  {
   "cell_type": "code",
   "execution_count": null,
   "id": "20850be0",
   "metadata": {},
   "outputs": [],
   "source": [
    "import pandas as pd\n",
    "data_url= \"http://www-stat.wharton.upenn.edu/~waterman/DataSets/uva.txt\"\n",
    "df = pd.read_table(data_url)\n",
    "# data= \"./data/uva.tx\"\n",
    "# df = pd.read_table(data_url)\n",
    "df[:5]"
   ]
  },
  {
   "cell_type": "markdown",
   "id": "59c22a0b",
   "metadata": {},
   "source": [
    "#### 2.2 데이터 전처리\n",
    "- 필요없는 데이터 삭제"
   ]
  },
  {
   "cell_type": "code",
   "execution_count": null,
   "id": "81114282",
   "metadata": {},
   "outputs": [],
   "source": [
    "df.pop('who') \n",
    "df.pop('Country')\n",
    "df.pop('Years on Internet')\n",
    "\n",
    "df.dtypes"
   ]
  },
  {
   "cell_type": "markdown",
   "id": "0d8ac6e8",
   "metadata": {},
   "source": [
    "- 데이터 타입 변환하고 결측값 확인하여 채우기"
   ]
  },
  {
   "cell_type": "code",
   "execution_count": null,
   "id": "ad4a3f03",
   "metadata": {
    "scrolled": true
   },
   "outputs": [],
   "source": [
    "category_cols = [\"Gender\", 'Household Income', \n",
    "                 'Sexual Preference', \n",
    "                 'Education Attainment', \n",
    "                 'Major Occupation', \"Marital Status\"]\n",
    "\n",
    "for col in category_cols: # 원핫인코딩 형태로 변경하기 위해 데이터 타입 변환\n",
    "    df[col] = df[col].astype('category')\n",
    "    \n",
    "df.info()"
   ]
  },
  {
   "cell_type": "code",
   "execution_count": null,
   "id": "f1188556",
   "metadata": {},
   "outputs": [],
   "source": [
    "# 원핫인코딩 형태로 변환\n",
    "df_onehot = pd.get_dummies(df)\n",
    "df_onehot.shape   "
   ]
  },
  {
   "cell_type": "code",
   "execution_count": null,
   "id": "f0ceaf7d",
   "metadata": {},
   "outputs": [],
   "source": [
    "# 결측값 확인\n",
    "df_onehot.isnull().sum()"
   ]
  },
  {
   "cell_type": "code",
   "execution_count": null,
   "id": "281ea039",
   "metadata": {},
   "outputs": [],
   "source": [
    "# (Age)결측값 평균값으로 채우기\n",
    "df_onehot.loc[pd.isnull(df_onehot['Age']), \"Age\"] = df_onehot['Age'].mean()\n",
    "df_onehot.isnull().sum()"
   ]
  },
  {
   "cell_type": "markdown",
   "id": "25d7b015",
   "metadata": {},
   "source": [
    "#### 2.3 데이터 분리"
   ]
  },
  {
   "cell_type": "code",
   "execution_count": null,
   "id": "9fdad237",
   "metadata": {},
   "outputs": [],
   "source": [
    "# 독립변수, 종속변수 분리: x, y 데이터로 나눈다.\n",
    "x_data = df_onehot.iloc[:, 1:].values\n",
    "y_data = df_onehot.iloc[:, 0].values.reshape(-1, 1)   # newbie컬럼 2차원 데이터로 만들기\n",
    "y_data.shape, x_data.shape"
   ]
  },
  {
   "cell_type": "code",
   "execution_count": null,
   "id": "4975a630",
   "metadata": {},
   "outputs": [],
   "source": [
    "# 피쳐 스케일링: x데이터(독립변수) 전체에 대해 실시\n",
    "from sklearn import preprocessing # Min-Max Standardzation\n",
    "\n",
    "min_max_scaler = preprocessing.MinMaxScaler()\n",
    "x_data = min_max_scaler.fit_transform(x_data)"
   ]
  },
  {
   "cell_type": "code",
   "execution_count": null,
   "id": "b2e6e4cd",
   "metadata": {},
   "outputs": [],
   "source": [
    "# 학습데이터와 테스테이터로 분리하기\n",
    "from sklearn.model_selection import train_test_split\n",
    "\n",
    "X_train, X_test, y_train, y_test = train_test_split(\n",
    "      x_data, y_data, test_size=0.33, random_state=42)\n",
    "\n",
    "X_train.shape, X_test.shape"
   ]
  },
  {
   "cell_type": "markdown",
   "id": "1bb75808",
   "metadata": {},
   "source": [
    "##### 참고(LogisticRegression) : https://scikit-learn.org/stable/modules/generated/sklearn.linear_model.LogisticRegression.html\n",
    "\n",
    "LogisticRegression(penalty, dual, tol, C, fit_intercept, intercept_scaling, class_weight, random_state, solver, max_iter, multi_class, verbose, warm_start, n_jobs, l1_ratio)"
   ]
  },
  {
   "cell_type": "markdown",
   "id": "75593888",
   "metadata": {},
   "source": [
    "- penalty : 규제에 사용 된 기준을 지정 (l1, l2, elasticnet, none)\n",
    "- default : l2\n",
    "- dual : 이중 또는 초기 공식\n",
    "- tol : 정밀도\n",
    "- C : 규제 강도\n",
    "- fit_intercept : 모형에 상수항 (절편)이 있는가 없는가를 결정하는 인수 (default : True)\n",
    "- intercept_scaling : 정규화 효과 정도\n",
    "- class_weight : 클래스의 가중치\n",
    "- random_state : 난수 seed 설정\n",
    "- solver : 최적화 문제에 사용하는 알고리즘\n",
    "- max_iter : 계산에 사용할 작업 수\n",
    "- multi_class : 다중 분류 시에 (ovr, multinomial, auto)로 설정\n",
    "- verbose : 동작 과정에 대한 출력 메시지\n",
    "- warm_start : 이전 모델을 초기화로 적합하게 사용할 것인지 여부\n",
    "- n_jobs : 병렬 처리 할 때 사용되는 CPU 코어 수\n",
    "- l1_ratio : L1 규제의 비율(Elastic-Net 믹싱 파라미터 경우에만 사용)"
   ]
  },
  {
   "cell_type": "code",
   "execution_count": null,
   "id": "02f3fd78",
   "metadata": {
    "scrolled": false
   },
   "outputs": [],
   "source": [
    "# 학습 모델 생성하기 : LogisticRegression \n",
    "from sklearn.linear_model import LogisticRegression\n",
    "\n",
    "logreg = LogisticRegression(fit_intercept=True)\n",
    "logreg.fit(X_train, y_train.flatten())"
   ]
  },
  {
   "cell_type": "code",
   "execution_count": null,
   "id": "811ca9b1",
   "metadata": {},
   "outputs": [],
   "source": [
    "# 다양한 매개변수 설정 방법\n",
    "LogisticRegression(C=1.0, class_weight=None, \n",
    "                   dual=False, fit_intercept=True, \n",
    "                   intercept_scaling=1, l1_ratio=None, max_iter=100,\n",
    "                   multi_class='warn', n_jobs=None, penalty='l2', \n",
    "                   random_state=None, solver='warn', tol=0.0001, \n",
    "                   verbose=0, warm_start=False)"
   ]
  },
  {
   "cell_type": "markdown",
   "id": "8c6448b8",
   "metadata": {},
   "source": [
    "#### 2.4 값 예측하기와 성능 측정하기"
   ]
  },
  {
   "cell_type": "code",
   "execution_count": null,
   "id": "beff8817",
   "metadata": {},
   "outputs": [],
   "source": [
    "# X_test데이터 값 예측하기\n",
    "logreg.predict(X_test[:5])"
   ]
  },
  {
   "cell_type": "code",
   "execution_count": null,
   "id": "c7feaabc",
   "metadata": {},
   "outputs": [],
   "source": [
    "# X_test데이터 값 예측 확률 구하기 : [P(0), P(1)]\n",
    "logreg.predict_proba(X_test[:5])"
   ]
  },
  {
   "cell_type": "code",
   "execution_count": null,
   "id": "08b70ad6",
   "metadata": {},
   "outputs": [],
   "source": [
    "# 성능측정지표\n",
    "from sklearn.metrics import confusion_matrix\n",
    "from sklearn.metrics import accuracy_score\n",
    "\n",
    "y_true = y_test.copy()\n",
    "y_pred = logreg.predict(X_test)\n",
    "cm = confusion_matrix(y_true, y_pred)  # 혼돈 매트릭스\n",
    "cm"
   ]
  },
  {
   "cell_type": "code",
   "execution_count": null,
   "id": "b7cc37f1",
   "metadata": {},
   "outputs": [],
   "source": [
    "tn, fp, fn, tp = confusion_matrix(y_true, y_pred).ravel()  # flatten()\n",
    "(tn, fp, fn, tp)"
   ]
  },
  {
   "cell_type": "code",
   "execution_count": null,
   "id": "cbaa622b",
   "metadata": {},
   "outputs": [],
   "source": [
    "accuracy_score(y_true, y_pred)  # 정확도"
   ]
  },
  {
   "cell_type": "code",
   "execution_count": null,
   "id": "ba1f7d83",
   "metadata": {},
   "outputs": [],
   "source": [
    "# 정밀도, 민감도, F1 스코어\n",
    "from sklearn.metrics import precision_score\n",
    "from sklearn.metrics import recall_score\n",
    "from sklearn.metrics import f1_score\n",
    "\n",
    "print(f\"정밀도: {precision_score(y_true, y_pred)}\") # 정밀도\n",
    "print(f\"민감도: {recall_score(y_true, y_pred)}\")    # 민감도\n",
    "print(f\"F1 스코어: {f1_score(y_true, y_pred)}\")     # F1 스코어"
   ]
  },
  {
   "cell_type": "code",
   "execution_count": null,
   "id": "b86caa0f",
   "metadata": {},
   "outputs": [],
   "source": [
    "# 정밀도, 민감도, F1-score 한꺼번에 출력하기\n",
    "from sklearn.metrics import classification_report\n",
    "print(classification_report(y_true, y_pred))"
   ]
  },
  {
   "cell_type": "code",
   "execution_count": null,
   "id": "7f3b18c2",
   "metadata": {},
   "outputs": [],
   "source": [
    "from sklearn.metrics import ConfusionMatrixDisplay\n",
    "labels ='0','1'\n",
    "ConfusionMatrixDisplay(cm, display_labels=labels).plot(cmap='Blues')"
   ]
  },
  {
   "cell_type": "markdown",
   "id": "e8bc94ca",
   "metadata": {},
   "source": [
    "------------------"
   ]
  },
  {
   "cell_type": "markdown",
   "id": "8f2af913",
   "metadata": {},
   "source": [
    "THE END"
   ]
  }
 ],
 "metadata": {
  "kernelspec": {
   "display_name": "Python 3 (ipykernel)",
   "language": "python",
   "name": "python3"
  },
  "language_info": {
   "codemirror_mode": {
    "name": "ipython",
    "version": 3
   },
   "file_extension": ".py",
   "mimetype": "text/x-python",
   "name": "python",
   "nbconvert_exporter": "python",
   "pygments_lexer": "ipython3",
   "version": "3.10.9"
  }
 },
 "nbformat": 4,
 "nbformat_minor": 5
}
